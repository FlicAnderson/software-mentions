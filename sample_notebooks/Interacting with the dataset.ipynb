{
 "cells": [
  {
   "cell_type": "markdown",
   "metadata": {},
   "source": [
    "# CZI Software Mentions Dataset - Interacting with the Dataset\n",
    "\n",
    "\n",
    "This notebook offers examples of **interacting** with the <b>CZI Software Mentions dataset </b><br>\n",
    "The <b>CZI Software Mentions dataset </b> is a large dataset of software mentions mined from the literature. \n",
    "\n",
    "**Dataset Overview**: Plain-text software mentions are extracted with a trained [SciBERT](#references_scibert)model from several sources: the NIH PubMed Central collection and from papers provided by various publishers to the Chan Zuckerberg Initiative. The dataset provides sources, context and metadata, and, for a number of mentions, the disambiguated software entities and links. Full description of the dataset, methodology, algorihms and evaluation used to create the dataset can be found in our preprint, [A large dataset of software mentions in the biomedical literature](Link) and on our [Github page](https://github.com/chanzuckerberg/software-mentions). \n",
    "\n",
    "\n",
    "**The notebook is structured and offers the following information and examples, as follows:**\n",
    "\n",
    "1. [Interacting with dataset](#dataset_interaction)\n",
    "    1. [Description of the dataset](#dataset_interaction_description)\n",
    "    2. [raw files](#dataset_interaction_raw)\n",
    "        1. Example: [Query the dataset for a particular plain-text software mention](#dataset_interaction_raw_query_scipy)\n",
    "        2. Example: [Retrieve texts in which a particular plain-text software mention appears](#dataset_interaction_raw_samples_scipy)\n",
    "        3. Example: [Retrieve the most frequent plain-text software mentions in the corpus](#dataset_interaction_raw_most_frequent_mentions)\n",
    "        4. Motivation: [Understanding curation labels](#dataset_interaction_raw_curation_labels)\n",
    "    3. [disambiguated files](#dataset_interaction_disambiguated)\n",
    "        1. Motivation: [Why do we need disambiguation? Examples showcasing string variation](#dataset_interaction_disambiguated_motivation)\n",
    "        2. Example: [Query the dataset for a particular software, including all string variations](#dataset_interaction_disambiguated_dataset_query)\n",
    "        3. Example: [Examples of disambiguated software terms](#dataset_interaction_disambiguated_examples)\n",
    "        4. Example: [Retrieve the most frequent software mentions based on disambiguated dataset](#dataset_interaction_disambiguated_most_frequent_mentions)\n",
    "    4. [linked files](#dataset_interaction_linked)\n",
    "        1. Example: [Query the linked data](#dataset_interaction_linked_query)\n",
    "        2. Example: [Exploration of metadata fields](#dataset_interaction_linked_metadata_fields)\n",
    "2. Example: [Query the dataset for a particular software, including all string variations, and links](#dataset_interaction_linked_query) (Example for **scikit-learn**)\n",
    "\n",
    "There is a different notebook, [CZI Software Mentions Dataset - Sample Use Cases](#link_here), that offers sample use cases for the dataset.\n",
    "\n",
    "**The full list of resources we have available for the dataset is**:\n",
    "1. [Preprint: A large dataset of software mentions in the biomedical literature](link)\n",
    "2. [Github Repository](https://github.com/chanzuckerberg/software-mentions)\n",
    "3. [Dataset README.md](link)\n",
    "4. [CZI Software Mentions Dataset - Interacting with the Dataset](#link_here) - Jupyter Notebook\n",
    "5. [CZI Software Mentions Dataset - Sample Use Cases](#link_here) - Jupyter Notebook\n",
    "\n",
    "For questions, please contact aistrate@chanzuckerberg.com"
   ]
  },
  {
   "cell_type": "code",
   "execution_count": 1,
   "metadata": {},
   "outputs": [],
   "source": [
    "import pandas as pd\n",
    "import numpy as np\n",
    "pd.set_option('max_colwidth', 1000)"
   ]
  },
  {
   "cell_type": "markdown",
   "metadata": {},
   "source": [
    "<a id='dataset_interaction'></a>\n",
    "\n",
    "## Interacting with the dataset\n",
    "We offer a brief overview of the dataset below. For a full description, including detailed information about the available files and fields, and how they were obtained, please consult the dataset [README.md](#Linkhere) file, or the Appendix section of our [preprint](link)"
   ]
  },
  {
   "cell_type": "markdown",
   "metadata": {},
   "source": [
    "<a id='dataset_interaction_description'></a>\n",
    "### Dataset Description\n"
   ]
  },
  {
   "cell_type": "markdown",
   "metadata": {},
   "source": [
    "The notebook assumes that the dataset files are stored in a folder `data` that sits as the same level as the `sample_notebooks` directory. The assumed directory structure is the following:\n",
    "\n",
    "- `sample_notebooks`\n",
    "-  `data` \n",
    "    - `raw`\n",
    "        - comm_raw.tsv.gz\n",
    "        - non_comm_raw.tsv.gz\n",
    "        - publishers_collection_raw.tsv.gz\n",
    "    - `disambiguated`\n",
    "        - comm_disambiguated.tsv.gz\n",
    "    - `linked`\n",
    "        - metadata.tsv.gz\n",
    "        \n",
    "Description of the folders is as follows:\n",
    " - [`raw`](#dataset_interaction_raw) : raw, plain-text software mentions, as extracted by the NER model\n",
    " - [`disambiguated`](#dataset_interaction_disambiguated): disambiguated software mentions, after disambiguation\n",
    " - [`linked`](#dataset_interaction_linked) :  linked software mentions\n",
    "        \n",
    "Note that for the folder `raw`, you don't have to have all of the `comm`, `non_comm`, and `publishers_collection` files. You can shoose as many as you would like to interact with. The description of these files is:\n",
    "\n",
    "- `comm` : contains data extracted from the PMC OA **commercial** subset\n",
    "- `non_comm` : contains data extracted from the PMC OA **non-commercial** subset\n",
    "subset)\n",
    "- `publishers_collection` : contains data extracted from the **CZI Publishers Collection**  \n",
    "\n",
    "In the following sections, we will show how to interact with the different modalities of the dataset and touch on the motivation and different use cases each modality carries."
   ]
  },
  {
   "cell_type": "code",
   "execution_count": 2,
   "metadata": {},
   "outputs": [],
   "source": [
    "ROOT_DATA_DIR = '../data/'"
   ]
  },
  {
   "cell_type": "markdown",
   "metadata": {},
   "source": [
    "<a id='dataset_interaction_raw'></a>\n",
    "### raw files\n",
    "\n",
    "The **raw** files contain raw, plain-text software mentions, as extracted by the NER model from each of the collections. As mentioned in the [Intro of this section](#dataset_interaction), there are three possible files to interact with:\n",
    " - comm_raw.tsv.gz\n",
    " - non_comm_raw.tsv.gz\n",
    " - publishers_collection_raw.tsv.gz\n",
    " \n",
    "These files are quite large (~1GB zipped) and are stored as GZIP files. \n",
    "If you are using **pandas**, we recommend the following approach. <br>\n",
    "Note that we offer an example of reading only the first 1000000 rows of the dataset, to speed up the computation. <br>\n",
    "For full analysis of the dataset, you should take `nrows=num_rows_to_read` out and run:"
   ]
  },
  {
   "cell_type": "code",
   "execution_count": 3,
   "metadata": {},
   "outputs": [],
   "source": [
    "#data_df = pd.read_csv(ROOT_DATA_DIR + 'disambiguated/comm_disambiguated.tsv.gz', sep = '\\\\t', engine = 'python', compression = 'gzip)"
   ]
  },
  {
   "cell_type": "code",
   "execution_count": 4,
   "metadata": {},
   "outputs": [],
   "source": [
    "num_rows_to_read = 5000000\n",
    "raw_df = pd.read_csv(ROOT_DATA_DIR + 'raw/comm_raw.tsv.gz', sep = '\\\\t', engine = 'python', compression = 'gzip', nrows = num_rows_to_read)"
   ]
  },
  {
   "cell_type": "markdown",
   "metadata": {},
   "source": [
    "<color value = red>**Warning**</color>: It may take a while for the command to finish running (up to an hour), especially for the `comm` and `publishers_collection`. <br>\n",
    "If you would like to quickly interact with the dataset, we recommend opening the `non_comm` file first, as it's the smallest one. <br><br>\n",
    "Once the file is read, we can start exploring it! Let's look at a few samples:"
   ]
  },
  {
   "cell_type": "code",
   "execution_count": 5,
   "metadata": {},
   "outputs": [
    {
     "data": {
      "text/html": [
       "<div>\n",
       "<style scoped>\n",
       "    .dataframe tbody tr th:only-of-type {\n",
       "        vertical-align: middle;\n",
       "    }\n",
       "\n",
       "    .dataframe tbody tr th {\n",
       "        vertical-align: top;\n",
       "    }\n",
       "\n",
       "    .dataframe thead th {\n",
       "        text-align: right;\n",
       "    }\n",
       "</style>\n",
       "<table border=\"1\" class=\"dataframe\">\n",
       "  <thead>\n",
       "    <tr style=\"text-align: right;\">\n",
       "      <th></th>\n",
       "      <th>license</th>\n",
       "      <th>location</th>\n",
       "      <th>pmcid</th>\n",
       "      <th>pmid</th>\n",
       "      <th>doi</th>\n",
       "      <th>pubdate</th>\n",
       "      <th>source</th>\n",
       "      <th>number</th>\n",
       "      <th>text</th>\n",
       "      <th>software</th>\n",
       "      <th>version</th>\n",
       "      <th>ID</th>\n",
       "      <th>curation_label</th>\n",
       "    </tr>\n",
       "  </thead>\n",
       "  <tbody>\n",
       "    <tr>\n",
       "      <th>532885</th>\n",
       "      <td>comm</td>\n",
       "      <td>comm/Arch_Virol/PMC7588393.nxml</td>\n",
       "      <td>7588393</td>\n",
       "      <td>32951134.0</td>\n",
       "      <td>10.1007/s00705-020-04810-4</td>\n",
       "      <td>2020</td>\n",
       "      <td>NaN</td>\n",
       "      <td>2</td>\n",
       "      <td>The database sequences were aligned using MAFFT version 7.453 [13] and used to compute a midpoint-rooted maximum-likelihood tree with 1,000 bootstrap replicates in IQ-TREE version 1.6.12 [14], using the ModelFinder [15] and ultrafast bootstrap [16] algorithms (Fig. 2)</td>\n",
       "      <td>MAFFT</td>\n",
       "      <td>NaN</td>\n",
       "      <td>SM1148</td>\n",
       "      <td>software</td>\n",
       "    </tr>\n",
       "    <tr>\n",
       "      <th>2334811</th>\n",
       "      <td>comm</td>\n",
       "      <td>comm/BMC_Public_Health/PMC3733870.nxml</td>\n",
       "      <td>3733870</td>\n",
       "      <td>23902931.0</td>\n",
       "      <td>10.1186/1471-2458-13-699</td>\n",
       "      <td>2013</td>\n",
       "      <td>Screening and baseline assessment</td>\n",
       "      <td>14</td>\n",
       "      <td>Because AUDIT is reported to be less sensitive at identifying risk drinking in women [17], the cut-off points of binge drinking for women (4 units) were reduced by one unit as compared with men (5 units), as recommended by Freeborn and others [17]</td>\n",
       "      <td>AUDIT</td>\n",
       "      <td>NaN</td>\n",
       "      <td>SM3600</td>\n",
       "      <td>not_software</td>\n",
       "    </tr>\n",
       "    <tr>\n",
       "      <th>2866551</th>\n",
       "      <td>comm</td>\n",
       "      <td>comm/Biomed_Res_Int/PMC5742880.nxml</td>\n",
       "      <td>5742880</td>\n",
       "      <td>29379796.0</td>\n",
       "      <td>10.1155/2017/2978718</td>\n",
       "      <td>2017</td>\n",
       "      <td>fig_caption</td>\n",
       "      <td>0</td>\n",
       "      <td>[30]; Chimera software v1.6.2 was used for visualization</td>\n",
       "      <td>Chimera</td>\n",
       "      <td>NaN</td>\n",
       "      <td>SM1034</td>\n",
       "      <td>software</td>\n",
       "    </tr>\n",
       "  </tbody>\n",
       "</table>\n",
       "</div>"
      ],
      "text/plain": [
       "        license                                location    pmcid        pmid  \\\n",
       "532885     comm         comm/Arch_Virol/PMC7588393.nxml  7588393  32951134.0   \n",
       "2334811    comm  comm/BMC_Public_Health/PMC3733870.nxml  3733870  23902931.0   \n",
       "2866551    comm     comm/Biomed_Res_Int/PMC5742880.nxml  5742880  29379796.0   \n",
       "\n",
       "                                doi  pubdate  \\\n",
       "532885   10.1007/s00705-020-04810-4     2020   \n",
       "2334811    10.1186/1471-2458-13-699     2013   \n",
       "2866551        10.1155/2017/2978718     2017   \n",
       "\n",
       "                                    source  number  \\\n",
       "532885                                 NaN       2   \n",
       "2334811  Screening and baseline assessment      14   \n",
       "2866551                        fig_caption       0   \n",
       "\n",
       "                                                                                                                                                                                                                                                                                 text  \\\n",
       "532885   The database sequences were aligned using MAFFT version 7.453 [13] and used to compute a midpoint-rooted maximum-likelihood tree with 1,000 bootstrap replicates in IQ-TREE version 1.6.12 [14], using the ModelFinder [15] and ultrafast bootstrap [16] algorithms (Fig. 2)   \n",
       "2334811                       Because AUDIT is reported to be less sensitive at identifying risk drinking in women [17], the cut-off points of binge drinking for women (4 units) were reduced by one unit as compared with men (5 units), as recommended by Freeborn and others [17]   \n",
       "2866551                                                                                                                                                                                                                      [30]; Chimera software v1.6.2 was used for visualization   \n",
       "\n",
       "        software version      ID curation_label  \n",
       "532885     MAFFT     NaN  SM1148       software  \n",
       "2334811    AUDIT     NaN  SM3600   not_software  \n",
       "2866551  Chimera     NaN  SM1034       software  "
      ]
     },
     "execution_count": 5,
     "metadata": {},
     "output_type": "execute_result"
    }
   ],
   "source": [
    "raw_df.sample(3)"
   ]
  },
  {
   "cell_type": "markdown",
   "metadata": {},
   "source": [
    "And the fields we have available:"
   ]
  },
  {
   "cell_type": "code",
   "execution_count": 6,
   "metadata": {},
   "outputs": [
    {
     "data": {
      "text/plain": [
       "Index(['license', 'location', 'pmcid', 'pmid', 'doi', 'pubdate', 'source',\n",
       "       'number', 'text', 'software', 'version', 'ID', 'curation_label'],\n",
       "      dtype='object')"
      ]
     },
     "execution_count": 6,
     "metadata": {},
     "output_type": "execute_result"
    }
   ],
   "source": [
    "raw_df.columns"
   ]
  },
  {
   "cell_type": "markdown",
   "metadata": {},
   "source": [
    "Some field definitions that will be relevant for our work in this notebook: \n",
    "- **software** : the software mention extracted by the NER algorithm from **text**\n",
    "- **version** : software version as extracted by the NER algorithm (note that not all mentions will have this)\n",
    "- **text** : text that **software** is being extracted from\n",
    "- **curation_label** : label assigned to software mention by our curators \n",
    "\n",
    "All of the other fields are related to metadata of the paper the mention is extracted from.  \n",
    "For a full definition of all of the fields, please take a look at the [Dataset README.md](link) file in our [Github repo](https://github.com/chanzuckerberg/software-mentions). "
   ]
  },
  {
   "cell_type": "markdown",
   "metadata": {},
   "source": [
    "Now, let's look at a few examples of interacting with the dataset:\n",
    "<a id='dataset_interaction_raw_query_scipy'></a>\n",
    "\n",
    "#### 1.Query the dataset\n",
    "Example of querying the dataset for the plain-text software mention 'scipy'"
   ]
  },
  {
   "cell_type": "code",
   "execution_count": 7,
   "metadata": {},
   "outputs": [],
   "source": [
    "scipy_mentions_df = raw_df[raw_df['software'] == 'scipy']"
   ]
  },
  {
   "cell_type": "code",
   "execution_count": 8,
   "metadata": {},
   "outputs": [
    {
     "data": {
      "text/html": [
       "<div>\n",
       "<style scoped>\n",
       "    .dataframe tbody tr th:only-of-type {\n",
       "        vertical-align: middle;\n",
       "    }\n",
       "\n",
       "    .dataframe tbody tr th {\n",
       "        vertical-align: top;\n",
       "    }\n",
       "\n",
       "    .dataframe thead th {\n",
       "        text-align: right;\n",
       "    }\n",
       "</style>\n",
       "<table border=\"1\" class=\"dataframe\">\n",
       "  <thead>\n",
       "    <tr style=\"text-align: right;\">\n",
       "      <th></th>\n",
       "      <th>license</th>\n",
       "      <th>location</th>\n",
       "      <th>pmcid</th>\n",
       "      <th>pmid</th>\n",
       "      <th>doi</th>\n",
       "      <th>pubdate</th>\n",
       "      <th>source</th>\n",
       "      <th>number</th>\n",
       "      <th>text</th>\n",
       "      <th>software</th>\n",
       "      <th>version</th>\n",
       "      <th>ID</th>\n",
       "      <th>curation_label</th>\n",
       "    </tr>\n",
       "  </thead>\n",
       "  <tbody>\n",
       "    <tr>\n",
       "      <th>8488</th>\n",
       "      <td>comm</td>\n",
       "      <td>comm/ACS_Nano/PMC7905882.nxml</td>\n",
       "      <td>7905882</td>\n",
       "      <td>33556239.0</td>\n",
       "      <td>10.1021/acsnano.0c10632</td>\n",
       "      <td>2021</td>\n",
       "      <td>Cluster Analysis</td>\n",
       "      <td>40</td>\n",
       "      <td>The 83.4% confidence interval for the mean was calculated using the implementation in the scipy package</td>\n",
       "      <td>scipy</td>\n",
       "      <td>NaN</td>\n",
       "      <td>SM3076</td>\n",
       "      <td>software</td>\n",
       "    </tr>\n",
       "    <tr>\n",
       "      <th>9849</th>\n",
       "      <td>comm</td>\n",
       "      <td>comm/ACS_Synth_Biol/PMC8486170.nxml</td>\n",
       "      <td>8486170</td>\n",
       "      <td>33449631.0</td>\n",
       "      <td>10.1021/acssynbio.0c00318</td>\n",
       "      <td>2021</td>\n",
       "      <td>fig_caption</td>\n",
       "      <td>5</td>\n",
       "      <td>Wavelength was computed using scipy FFT and peak finding standard libraries</td>\n",
       "      <td>scipy</td>\n",
       "      <td>NaN</td>\n",
       "      <td>SM3076</td>\n",
       "      <td>software</td>\n",
       "    </tr>\n",
       "    <tr>\n",
       "      <th>9853</th>\n",
       "      <td>comm</td>\n",
       "      <td>comm/ACS_Synth_Biol/PMC8486170.nxml</td>\n",
       "      <td>8486170</td>\n",
       "      <td>33449631.0</td>\n",
       "      <td>10.1021/acssynbio.0c00318</td>\n",
       "      <td>2021</td>\n",
       "      <td>Computational Model</td>\n",
       "      <td>12</td>\n",
       "      <td>Signal analysis (FFT) and visualization were carried out using the scipy and Matplotlib.pyplot libraries, respectively</td>\n",
       "      <td>scipy</td>\n",
       "      <td>NaN</td>\n",
       "      <td>SM3076</td>\n",
       "      <td>software</td>\n",
       "    </tr>\n",
       "  </tbody>\n",
       "</table>\n",
       "</div>"
      ],
      "text/plain": [
       "     license                             location    pmcid        pmid  \\\n",
       "8488    comm        comm/ACS_Nano/PMC7905882.nxml  7905882  33556239.0   \n",
       "9849    comm  comm/ACS_Synth_Biol/PMC8486170.nxml  8486170  33449631.0   \n",
       "9853    comm  comm/ACS_Synth_Biol/PMC8486170.nxml  8486170  33449631.0   \n",
       "\n",
       "                            doi  pubdate               source  number  \\\n",
       "8488    10.1021/acsnano.0c10632     2021     Cluster Analysis      40   \n",
       "9849  10.1021/acssynbio.0c00318     2021          fig_caption       5   \n",
       "9853  10.1021/acssynbio.0c00318     2021  Computational Model      12   \n",
       "\n",
       "                                                                                                                        text  \\\n",
       "8488                 The 83.4% confidence interval for the mean was calculated using the implementation in the scipy package   \n",
       "9849                                             Wavelength was computed using scipy FFT and peak finding standard libraries   \n",
       "9853  Signal analysis (FFT) and visualization were carried out using the scipy and Matplotlib.pyplot libraries, respectively   \n",
       "\n",
       "     software version      ID curation_label  \n",
       "8488    scipy     NaN  SM3076       software  \n",
       "9849    scipy     NaN  SM3076       software  \n",
       "9853    scipy     NaN  SM3076       software  "
      ]
     },
     "execution_count": 8,
     "metadata": {},
     "output_type": "execute_result"
    }
   ],
   "source": [
    "scipy_mentions_df.head(3)"
   ]
  },
  {
   "cell_type": "markdown",
   "metadata": {},
   "source": [
    "<a id='dataset_interaction_raw_samples_scipy'></a>\n",
    "#### 2. Samples of texts in which the mention 'scipy'  appears"
   ]
  },
  {
   "cell_type": "code",
   "execution_count": 9,
   "metadata": {},
   "outputs": [
    {
     "data": {
      "text/html": [
       "<div>\n",
       "<style scoped>\n",
       "    .dataframe tbody tr th:only-of-type {\n",
       "        vertical-align: middle;\n",
       "    }\n",
       "\n",
       "    .dataframe tbody tr th {\n",
       "        vertical-align: top;\n",
       "    }\n",
       "\n",
       "    .dataframe thead th {\n",
       "        text-align: right;\n",
       "    }\n",
       "</style>\n",
       "<table border=\"1\" class=\"dataframe\">\n",
       "  <thead>\n",
       "    <tr style=\"text-align: right;\">\n",
       "      <th></th>\n",
       "      <th>pmid</th>\n",
       "      <th>source</th>\n",
       "      <th>text</th>\n",
       "      <th>software</th>\n",
       "    </tr>\n",
       "  </thead>\n",
       "  <tbody>\n",
       "    <tr>\n",
       "      <th>3976467</th>\n",
       "      <td>31717800.0</td>\n",
       "      <td>2.9. Bioinformatics Analysis of Tissue-Selective Phages</td>\n",
       "      <td>For each identified motif recovered per tissue, a 2 × 2 contingency table comparing the frequency of each motif observed in the isolated tissue with the frequency of each motif observed in the normalizing sample was prepared and a p-value calculated using a one-sided Fisher’s exact test, implemented in a custom script using the Fisher exact function from the scipy (v</td>\n",
       "      <td>scipy</td>\n",
       "    </tr>\n",
       "    <tr>\n",
       "      <th>1112654</th>\n",
       "      <td>29523077.0</td>\n",
       "      <td>Availability and requirements</td>\n",
       "      <td>Other requirements: Python modules numpy 1.12.1, scipy 0.19.0, matplotlib 1.5.3, sklearn 0.18.1, networkx 1.11, community</td>\n",
       "      <td>scipy</td>\n",
       "    </tr>\n",
       "    <tr>\n",
       "      <th>3279291</th>\n",
       "      <td>34300770.0</td>\n",
       "      <td>4. Inverse Analysis</td>\n",
       "      <td>Two sets of different types of optimization procedures have been implemented, both based on scipy.optimize module</td>\n",
       "      <td>scipy</td>\n",
       "    </tr>\n",
       "    <tr>\n",
       "      <th>275735</th>\n",
       "      <td>33042753.0</td>\n",
       "      <td>Statistical Analysis</td>\n",
       "      <td>Statistical analysis was performed using two‐tailed Student's t‐test (ttest_ind function of scipy package)</td>\n",
       "      <td>scipy</td>\n",
       "    </tr>\n",
       "    <tr>\n",
       "      <th>699183</th>\n",
       "      <td>31660850.0</td>\n",
       "      <td>paper_abstract</td>\n",
       "      <td>Additional optimization methods from the Python scipy library are utilized as well</td>\n",
       "      <td>scipy</td>\n",
       "    </tr>\n",
       "    <tr>\n",
       "      <th>4396430</th>\n",
       "      <td>32200751.0</td>\n",
       "      <td>fig_caption</td>\n",
       "      <td>To test for differences in nitrate, nitrite and ammonia/ammonium concentrations at time T24 the 10 communities in vertical and horizontal regimes (three independent measures per community) were compared using a two-sample Kolmogorov–Smirnov test (implemented in python 3.7.2, package scipy 1.3.1)</td>\n",
       "      <td>scipy</td>\n",
       "    </tr>\n",
       "    <tr>\n",
       "      <th>3809265</th>\n",
       "      <td>31830774.0</td>\n",
       "      <td>Patients, phenotyping, and score validation</td>\n",
       "      <td>Custom Python scripts utilizing the itertools, scipy, and pandas libraries were used to perform the combinatorics analysis</td>\n",
       "      <td>scipy</td>\n",
       "    </tr>\n",
       "    <tr>\n",
       "      <th>3663615</th>\n",
       "      <td>32585128.0</td>\n",
       "      <td>RNA polymerase I profile</td>\n",
       "      <td>Downstream analyses were performed using python 2.7 Jupiter notebooks, python libraries (pandas v0.19.2, numpy v1.16.0, scipy v1.2.0, matplotlib v2.2.3) and in-house scripts submitted as an update of gwide toolkit v0.5.27 (https://github.com/tturowski/gwide; Turowski et al., 2016)</td>\n",
       "      <td>scipy</td>\n",
       "    </tr>\n",
       "    <tr>\n",
       "      <th>1963273</th>\n",
       "      <td>31208429.0</td>\n",
       "      <td>Analysis</td>\n",
       "      <td>The performance of each model was assessed using the Spearman correlation coefficient between the predicted and measured IC50 values in the testing set using the scipy statistics package version 0.17.0, p values were calculated within the statistics package using a student’s t distribution</td>\n",
       "      <td>scipy</td>\n",
       "    </tr>\n",
       "    <tr>\n",
       "      <th>1668652</th>\n",
       "      <td>32000670.0</td>\n",
       "      <td>K-mer analysis and chromosome painting</td>\n",
       "      <td>Using scaled data for each of the 25 largest clusters, we calculated the Pearson’s and Spearman’s correlation coefficient between gene density and kmer mapping density using the scipy package in python 2.7.</td>\n",
       "      <td>scipy</td>\n",
       "    </tr>\n",
       "  </tbody>\n",
       "</table>\n",
       "</div>"
      ],
      "text/plain": [
       "               pmid                                                   source  \\\n",
       "3976467  31717800.0  2.9. Bioinformatics Analysis of Tissue-Selective Phages   \n",
       "1112654  29523077.0                            Availability and requirements   \n",
       "3279291  34300770.0                                      4. Inverse Analysis   \n",
       "275735   33042753.0                                     Statistical Analysis   \n",
       "699183   31660850.0                                           paper_abstract   \n",
       "4396430  32200751.0                                              fig_caption   \n",
       "3809265  31830774.0              Patients, phenotyping, and score validation   \n",
       "3663615  32585128.0                                 RNA polymerase I profile   \n",
       "1963273  31208429.0                                                 Analysis   \n",
       "1668652  32000670.0                   K-mer analysis and chromosome painting   \n",
       "\n",
       "                                                                                                                                                                                                                                                                                                                                                                                      text  \\\n",
       "3976467  For each identified motif recovered per tissue, a 2 × 2 contingency table comparing the frequency of each motif observed in the isolated tissue with the frequency of each motif observed in the normalizing sample was prepared and a p-value calculated using a one-sided Fisher’s exact test, implemented in a custom script using the Fisher exact function from the scipy (v   \n",
       "1112654                                                                                                                                                                                                                                                          Other requirements: Python modules numpy 1.12.1, scipy 0.19.0, matplotlib 1.5.3, sklearn 0.18.1, networkx 1.11, community   \n",
       "3279291                                                                                                                                                                                                                                                                  Two sets of different types of optimization procedures have been implemented, both based on scipy.optimize module   \n",
       "275735                                                                                                                                                                                                                                                                          Statistical analysis was performed using two‐tailed Student's t‐test (ttest_ind function of scipy package)   \n",
       "699183                                                                                                                                                                                                                                                                                                  Additional optimization methods from the Python scipy library are utilized as well   \n",
       "4396430                                                                           To test for differences in nitrate, nitrite and ammonia/ammonium concentrations at time T24 the 10 communities in vertical and horizontal regimes (three independent measures per community) were compared using a two-sample Kolmogorov–Smirnov test (implemented in python 3.7.2, package scipy 1.3.1)   \n",
       "3809265                                                                                                                                                                                                                                                         Custom Python scripts utilizing the itertools, scipy, and pandas libraries were used to perform the combinatorics analysis   \n",
       "3663615                                                                                          Downstream analyses were performed using python 2.7 Jupiter notebooks, python libraries (pandas v0.19.2, numpy v1.16.0, scipy v1.2.0, matplotlib v2.2.3) and in-house scripts submitted as an update of gwide toolkit v0.5.27 (https://github.com/tturowski/gwide; Turowski et al., 2016)   \n",
       "1963273                                                                                 The performance of each model was assessed using the Spearman correlation coefficient between the predicted and measured IC50 values in the testing set using the scipy statistics package version 0.17.0, p values were calculated within the statistics package using a student’s t distribution   \n",
       "1668652                                                                                                                                                                     Using scaled data for each of the 25 largest clusters, we calculated the Pearson’s and Spearman’s correlation coefficient between gene density and kmer mapping density using the scipy package in python 2.7.   \n",
       "\n",
       "        software  \n",
       "3976467    scipy  \n",
       "1112654    scipy  \n",
       "3279291    scipy  \n",
       "275735     scipy  \n",
       "699183     scipy  \n",
       "4396430    scipy  \n",
       "3809265    scipy  \n",
       "3663615    scipy  \n",
       "1963273    scipy  \n",
       "1668652    scipy  "
      ]
     },
     "execution_count": 9,
     "metadata": {},
     "output_type": "execute_result"
    }
   ],
   "source": [
    "scipy_mentions_df[['pmid', 'source', 'text', 'software']].sample(10)"
   ]
  },
  {
   "cell_type": "markdown",
   "metadata": {},
   "source": [
    "<a id='dataset_interaction_raw_most_frequent_mentions'></a>\n",
    "#### 3. Retrieve the most frequent software mentions in the corpus\n",
    "Note that here, we define *frequency* by number of unique papers a software appears in\n",
    "\n",
    "**Warning**: this command also takes a long time! Feel free to skip it if you're not interested in this section."
   ]
  },
  {
   "cell_type": "code",
   "execution_count": 10,
   "metadata": {
    "scrolled": false
   },
   "outputs": [
    {
     "data": {
      "text/html": [
       "<div>\n",
       "<style scoped>\n",
       "    .dataframe tbody tr th:only-of-type {\n",
       "        vertical-align: middle;\n",
       "    }\n",
       "\n",
       "    .dataframe tbody tr th {\n",
       "        vertical-align: top;\n",
       "    }\n",
       "\n",
       "    .dataframe thead th {\n",
       "        text-align: right;\n",
       "    }\n",
       "</style>\n",
       "<table border=\"1\" class=\"dataframe\">\n",
       "  <thead>\n",
       "    <tr style=\"text-align: right;\">\n",
       "      <th></th>\n",
       "      <th>license</th>\n",
       "      <th>location</th>\n",
       "      <th>pmcid</th>\n",
       "      <th>pmid</th>\n",
       "      <th>doi</th>\n",
       "      <th>pubdate</th>\n",
       "      <th>source</th>\n",
       "      <th>number</th>\n",
       "      <th>text</th>\n",
       "      <th>version</th>\n",
       "      <th>ID</th>\n",
       "      <th>curation_label</th>\n",
       "    </tr>\n",
       "    <tr>\n",
       "      <th>software</th>\n",
       "      <th></th>\n",
       "      <th></th>\n",
       "      <th></th>\n",
       "      <th></th>\n",
       "      <th></th>\n",
       "      <th></th>\n",
       "      <th></th>\n",
       "      <th></th>\n",
       "      <th></th>\n",
       "      <th></th>\n",
       "      <th></th>\n",
       "      <th></th>\n",
       "    </tr>\n",
       "  </thead>\n",
       "  <tbody>\n",
       "    <tr>\n",
       "      <th>SPSS</th>\n",
       "      <td>1</td>\n",
       "      <td>93333</td>\n",
       "      <td>93333</td>\n",
       "      <td>92987</td>\n",
       "      <td>92109</td>\n",
       "      <td>18</td>\n",
       "      <td>10332</td>\n",
       "      <td>357</td>\n",
       "      <td>97877</td>\n",
       "      <td>450</td>\n",
       "      <td>1</td>\n",
       "      <td>1</td>\n",
       "    </tr>\n",
       "    <tr>\n",
       "      <th>R</th>\n",
       "      <td>1</td>\n",
       "      <td>58276</td>\n",
       "      <td>58276</td>\n",
       "      <td>58161</td>\n",
       "      <td>58045</td>\n",
       "      <td>20</td>\n",
       "      <td>34297</td>\n",
       "      <td>348</td>\n",
       "      <td>94148</td>\n",
       "      <td>445</td>\n",
       "      <td>1</td>\n",
       "      <td>1</td>\n",
       "    </tr>\n",
       "    <tr>\n",
       "      <th>GraphPad Prism</th>\n",
       "      <td>1</td>\n",
       "      <td>31844</td>\n",
       "      <td>31844</td>\n",
       "      <td>31790</td>\n",
       "      <td>31692</td>\n",
       "      <td>18</td>\n",
       "      <td>8688</td>\n",
       "      <td>179</td>\n",
       "      <td>35670</td>\n",
       "      <td>218</td>\n",
       "      <td>1</td>\n",
       "      <td>1</td>\n",
       "    </tr>\n",
       "    <tr>\n",
       "      <th>Excel</th>\n",
       "      <td>1</td>\n",
       "      <td>28227</td>\n",
       "      <td>28227</td>\n",
       "      <td>28097</td>\n",
       "      <td>28010</td>\n",
       "      <td>19</td>\n",
       "      <td>12220</td>\n",
       "      <td>256</td>\n",
       "      <td>34465</td>\n",
       "      <td>153</td>\n",
       "      <td>1</td>\n",
       "      <td>1</td>\n",
       "    </tr>\n",
       "    <tr>\n",
       "      <th>SAS</th>\n",
       "      <td>1</td>\n",
       "      <td>25543</td>\n",
       "      <td>25543</td>\n",
       "      <td>25487</td>\n",
       "      <td>25359</td>\n",
       "      <td>19</td>\n",
       "      <td>5437</td>\n",
       "      <td>181</td>\n",
       "      <td>30612</td>\n",
       "      <td>143</td>\n",
       "      <td>1</td>\n",
       "      <td>1</td>\n",
       "    </tr>\n",
       "    <tr>\n",
       "      <th>ImageJ</th>\n",
       "      <td>1</td>\n",
       "      <td>22701</td>\n",
       "      <td>22701</td>\n",
       "      <td>22629</td>\n",
       "      <td>22560</td>\n",
       "      <td>18</td>\n",
       "      <td>19562</td>\n",
       "      <td>223</td>\n",
       "      <td>38242</td>\n",
       "      <td>345</td>\n",
       "      <td>1</td>\n",
       "      <td>1</td>\n",
       "    </tr>\n",
       "    <tr>\n",
       "      <th>BLAST</th>\n",
       "      <td>1</td>\n",
       "      <td>22648</td>\n",
       "      <td>22648</td>\n",
       "      <td>22603</td>\n",
       "      <td>22529</td>\n",
       "      <td>20</td>\n",
       "      <td>23158</td>\n",
       "      <td>205</td>\n",
       "      <td>44347</td>\n",
       "      <td>82</td>\n",
       "      <td>1</td>\n",
       "      <td>1</td>\n",
       "    </tr>\n",
       "    <tr>\n",
       "      <th>GraphPad</th>\n",
       "      <td>1</td>\n",
       "      <td>20055</td>\n",
       "      <td>20055</td>\n",
       "      <td>20031</td>\n",
       "      <td>19918</td>\n",
       "      <td>18</td>\n",
       "      <td>4830</td>\n",
       "      <td>158</td>\n",
       "      <td>20841</td>\n",
       "      <td>67</td>\n",
       "      <td>1</td>\n",
       "      <td>1</td>\n",
       "    </tr>\n",
       "    <tr>\n",
       "      <th>SHELXL97</th>\n",
       "      <td>1</td>\n",
       "      <td>19209</td>\n",
       "      <td>19209</td>\n",
       "      <td>19208</td>\n",
       "      <td>19209</td>\n",
       "      <td>15</td>\n",
       "      <td>65</td>\n",
       "      <td>50</td>\n",
       "      <td>7103</td>\n",
       "      <td>0</td>\n",
       "      <td>1</td>\n",
       "      <td>1</td>\n",
       "    </tr>\n",
       "    <tr>\n",
       "      <th>Stata</th>\n",
       "      <td>1</td>\n",
       "      <td>17766</td>\n",
       "      <td>17766</td>\n",
       "      <td>17733</td>\n",
       "      <td>17734</td>\n",
       "      <td>19</td>\n",
       "      <td>3205</td>\n",
       "      <td>156</td>\n",
       "      <td>20449</td>\n",
       "      <td>219</td>\n",
       "      <td>1</td>\n",
       "      <td>1</td>\n",
       "    </tr>\n",
       "    <tr>\n",
       "      <th>SHELXS97</th>\n",
       "      <td>1</td>\n",
       "      <td>17475</td>\n",
       "      <td>17475</td>\n",
       "      <td>17473</td>\n",
       "      <td>17475</td>\n",
       "      <td>14</td>\n",
       "      <td>48</td>\n",
       "      <td>42</td>\n",
       "      <td>5983</td>\n",
       "      <td>0</td>\n",
       "      <td>1</td>\n",
       "      <td>1</td>\n",
       "    </tr>\n",
       "    <tr>\n",
       "      <th>STATA</th>\n",
       "      <td>1</td>\n",
       "      <td>13592</td>\n",
       "      <td>13592</td>\n",
       "      <td>13560</td>\n",
       "      <td>13530</td>\n",
       "      <td>19</td>\n",
       "      <td>2187</td>\n",
       "      <td>153</td>\n",
       "      <td>15372</td>\n",
       "      <td>182</td>\n",
       "      <td>1</td>\n",
       "      <td>1</td>\n",
       "    </tr>\n",
       "    <tr>\n",
       "      <th>SAINT</th>\n",
       "      <td>1</td>\n",
       "      <td>12713</td>\n",
       "      <td>12713</td>\n",
       "      <td>12711</td>\n",
       "      <td>12713</td>\n",
       "      <td>16</td>\n",
       "      <td>230</td>\n",
       "      <td>77</td>\n",
       "      <td>3760</td>\n",
       "      <td>1</td>\n",
       "      <td>1</td>\n",
       "      <td>1</td>\n",
       "    </tr>\n",
       "    <tr>\n",
       "      <th>SPSS Statistics</th>\n",
       "      <td>1</td>\n",
       "      <td>11558</td>\n",
       "      <td>11558</td>\n",
       "      <td>11531</td>\n",
       "      <td>11530</td>\n",
       "      <td>13</td>\n",
       "      <td>1781</td>\n",
       "      <td>126</td>\n",
       "      <td>11172</td>\n",
       "      <td>124</td>\n",
       "      <td>1</td>\n",
       "      <td>1</td>\n",
       "    </tr>\n",
       "    <tr>\n",
       "      <th>SHELXTL</th>\n",
       "      <td>1</td>\n",
       "      <td>11399</td>\n",
       "      <td>11399</td>\n",
       "      <td>11398</td>\n",
       "      <td>11399</td>\n",
       "      <td>17</td>\n",
       "      <td>156</td>\n",
       "      <td>52</td>\n",
       "      <td>3224</td>\n",
       "      <td>3</td>\n",
       "      <td>1</td>\n",
       "      <td>1</td>\n",
       "    </tr>\n",
       "    <tr>\n",
       "      <th>MATLAB</th>\n",
       "      <td>1</td>\n",
       "      <td>10263</td>\n",
       "      <td>10263</td>\n",
       "      <td>10209</td>\n",
       "      <td>10236</td>\n",
       "      <td>18</td>\n",
       "      <td>9747</td>\n",
       "      <td>227</td>\n",
       "      <td>17724</td>\n",
       "      <td>275</td>\n",
       "      <td>1</td>\n",
       "      <td>1</td>\n",
       "    </tr>\n",
       "    <tr>\n",
       "      <th>MEGA</th>\n",
       "      <td>1</td>\n",
       "      <td>10097</td>\n",
       "      <td>10097</td>\n",
       "      <td>10081</td>\n",
       "      <td>10072</td>\n",
       "      <td>19</td>\n",
       "      <td>6139</td>\n",
       "      <td>126</td>\n",
       "      <td>15063</td>\n",
       "      <td>136</td>\n",
       "      <td>1</td>\n",
       "      <td>1</td>\n",
       "    </tr>\n",
       "    <tr>\n",
       "      <th>PLATON</th>\n",
       "      <td>1</td>\n",
       "      <td>7489</td>\n",
       "      <td>7489</td>\n",
       "      <td>7486</td>\n",
       "      <td>7489</td>\n",
       "      <td>15</td>\n",
       "      <td>248</td>\n",
       "      <td>67</td>\n",
       "      <td>3424</td>\n",
       "      <td>2</td>\n",
       "      <td>1</td>\n",
       "      <td>1</td>\n",
       "    </tr>\n",
       "    <tr>\n",
       "      <th>Image J</th>\n",
       "      <td>1</td>\n",
       "      <td>7500</td>\n",
       "      <td>7500</td>\n",
       "      <td>7479</td>\n",
       "      <td>7402</td>\n",
       "      <td>18</td>\n",
       "      <td>5595</td>\n",
       "      <td>130</td>\n",
       "      <td>10532</td>\n",
       "      <td>148</td>\n",
       "      <td>1</td>\n",
       "      <td>1</td>\n",
       "    </tr>\n",
       "    <tr>\n",
       "      <th>Prism</th>\n",
       "      <td>1</td>\n",
       "      <td>7485</td>\n",
       "      <td>7485</td>\n",
       "      <td>7476</td>\n",
       "      <td>7432</td>\n",
       "      <td>18</td>\n",
       "      <td>2680</td>\n",
       "      <td>127</td>\n",
       "      <td>8451</td>\n",
       "      <td>154</td>\n",
       "      <td>1</td>\n",
       "      <td>1</td>\n",
       "    </tr>\n",
       "  </tbody>\n",
       "</table>\n",
       "</div>"
      ],
      "text/plain": [
       "                 license  location  pmcid   pmid    doi  pubdate  source  \\\n",
       "software                                                                   \n",
       "SPSS                   1     93333  93333  92987  92109       18   10332   \n",
       "R                      1     58276  58276  58161  58045       20   34297   \n",
       "GraphPad Prism         1     31844  31844  31790  31692       18    8688   \n",
       "Excel                  1     28227  28227  28097  28010       19   12220   \n",
       "SAS                    1     25543  25543  25487  25359       19    5437   \n",
       "ImageJ                 1     22701  22701  22629  22560       18   19562   \n",
       "BLAST                  1     22648  22648  22603  22529       20   23158   \n",
       "GraphPad               1     20055  20055  20031  19918       18    4830   \n",
       "SHELXL97               1     19209  19209  19208  19209       15      65   \n",
       "Stata                  1     17766  17766  17733  17734       19    3205   \n",
       "SHELXS97               1     17475  17475  17473  17475       14      48   \n",
       "STATA                  1     13592  13592  13560  13530       19    2187   \n",
       "SAINT                  1     12713  12713  12711  12713       16     230   \n",
       "SPSS Statistics        1     11558  11558  11531  11530       13    1781   \n",
       "SHELXTL                1     11399  11399  11398  11399       17     156   \n",
       "MATLAB                 1     10263  10263  10209  10236       18    9747   \n",
       "MEGA                   1     10097  10097  10081  10072       19    6139   \n",
       "PLATON                 1      7489   7489   7486   7489       15     248   \n",
       "Image J                1      7500   7500   7479   7402       18    5595   \n",
       "Prism                  1      7485   7485   7476   7432       18    2680   \n",
       "\n",
       "                 number   text  version  ID  curation_label  \n",
       "software                                                     \n",
       "SPSS                357  97877      450   1               1  \n",
       "R                   348  94148      445   1               1  \n",
       "GraphPad Prism      179  35670      218   1               1  \n",
       "Excel               256  34465      153   1               1  \n",
       "SAS                 181  30612      143   1               1  \n",
       "ImageJ              223  38242      345   1               1  \n",
       "BLAST               205  44347       82   1               1  \n",
       "GraphPad            158  20841       67   1               1  \n",
       "SHELXL97             50   7103        0   1               1  \n",
       "Stata               156  20449      219   1               1  \n",
       "SHELXS97             42   5983        0   1               1  \n",
       "STATA               153  15372      182   1               1  \n",
       "SAINT                77   3760        1   1               1  \n",
       "SPSS Statistics     126  11172      124   1               1  \n",
       "SHELXTL              52   3224        3   1               1  \n",
       "MATLAB              227  17724      275   1               1  \n",
       "MEGA                126  15063      136   1               1  \n",
       "PLATON               67   3424        2   1               1  \n",
       "Image J             130  10532      148   1               1  \n",
       "Prism               127   8451      154   1               1  "
      ]
     },
     "execution_count": 10,
     "metadata": {},
     "output_type": "execute_result"
    }
   ],
   "source": [
    "raw_df_aggregated = raw_df.groupby('software').nunique().sort_values(by = 'pmid', ascending = False)\n",
    "raw_df_aggregated[:20]"
   ]
  },
  {
   "cell_type": "markdown",
   "metadata": {},
   "source": [
    "<a id='dataset_interaction_raw_curation_labels'></a>\n",
    "#### 4. Understanding curation labels"
   ]
  },
  {
   "cell_type": "markdown",
   "metadata": {},
   "source": [
    "Now, we may notice that in the most frequent software_mentions retrieved above, there are some obvious false positives picked up by the NER model, such as **'COVID'**, **'COVID-19'** or **'Google'**. This is why we engaged an expert team of biomedical curators to sanity-check the top 10k plain-text software mentions extracted by the NER model from the `comm` dataset. We offer more details about the methodology and guidelines in our [preprint](link), as well as on our [Github Repo](https://github.com/chanzuckerberg/software-mentions). The datasets contain a field ```curation_label``` that tells us the label our curation team assigned to a software mention, or if it was not curated at all. "
   ]
  },
  {
   "cell_type": "markdown",
   "metadata": {},
   "source": [
    "Let's explore these **curation_label** a bit. First, let's see what values are available"
   ]
  },
  {
   "cell_type": "code",
   "execution_count": 11,
   "metadata": {},
   "outputs": [
    {
     "data": {
      "text/plain": [
       "array(['not_curated', 'unclear', 'software', 'not_software'], dtype=object)"
      ]
     },
     "execution_count": 11,
     "metadata": {},
     "output_type": "execute_result"
    }
   ],
   "source": [
    "raw_df['curation_label'].unique()"
   ]
  },
  {
   "cell_type": "markdown",
   "metadata": {},
   "source": [
    "Now, let's create the **mention2curation_label** mapping to map from a mention to its curation label"
   ]
  },
  {
   "cell_type": "code",
   "execution_count": 12,
   "metadata": {},
   "outputs": [],
   "source": [
    "mentions_curation_label_df = raw_df[['software', 'curation_label']].drop_duplicates()\n",
    "mentions = mentions_curation_label_df['software'].values\n",
    "curation_labels = mentions_curation_label_df['curation_label'].values\n",
    "mention2curation_label = {m : c for m, c in zip(mentions, curation_labels)}"
   ]
  },
  {
   "cell_type": "markdown",
   "metadata": {},
   "source": [
    "Let's look at curation labels of the top most frequent mentions obtained above:"
   ]
  },
  {
   "cell_type": "code",
   "execution_count": 13,
   "metadata": {},
   "outputs": [
    {
     "data": {
      "text/html": [
       "<div>\n",
       "<style scoped>\n",
       "    .dataframe tbody tr th:only-of-type {\n",
       "        vertical-align: middle;\n",
       "    }\n",
       "\n",
       "    .dataframe tbody tr th {\n",
       "        vertical-align: top;\n",
       "    }\n",
       "\n",
       "    .dataframe thead th {\n",
       "        text-align: right;\n",
       "    }\n",
       "</style>\n",
       "<table border=\"1\" class=\"dataframe\">\n",
       "  <thead>\n",
       "    <tr style=\"text-align: right;\">\n",
       "      <th></th>\n",
       "      <th>software</th>\n",
       "      <th>license</th>\n",
       "      <th>location</th>\n",
       "      <th>pmcid</th>\n",
       "      <th>pmid</th>\n",
       "      <th>doi</th>\n",
       "      <th>pubdate</th>\n",
       "      <th>source</th>\n",
       "      <th>number</th>\n",
       "      <th>text</th>\n",
       "      <th>version</th>\n",
       "      <th>ID</th>\n",
       "      <th>curation_label</th>\n",
       "    </tr>\n",
       "  </thead>\n",
       "  <tbody>\n",
       "    <tr>\n",
       "      <th>0</th>\n",
       "      <td>SPSS</td>\n",
       "      <td>1</td>\n",
       "      <td>93333</td>\n",
       "      <td>93333</td>\n",
       "      <td>92987</td>\n",
       "      <td>92109</td>\n",
       "      <td>18</td>\n",
       "      <td>10332</td>\n",
       "      <td>357</td>\n",
       "      <td>97877</td>\n",
       "      <td>450</td>\n",
       "      <td>1</td>\n",
       "      <td>software</td>\n",
       "    </tr>\n",
       "    <tr>\n",
       "      <th>1</th>\n",
       "      <td>R</td>\n",
       "      <td>1</td>\n",
       "      <td>58276</td>\n",
       "      <td>58276</td>\n",
       "      <td>58161</td>\n",
       "      <td>58045</td>\n",
       "      <td>20</td>\n",
       "      <td>34297</td>\n",
       "      <td>348</td>\n",
       "      <td>94148</td>\n",
       "      <td>445</td>\n",
       "      <td>1</td>\n",
       "      <td>software</td>\n",
       "    </tr>\n",
       "    <tr>\n",
       "      <th>2</th>\n",
       "      <td>GraphPad Prism</td>\n",
       "      <td>1</td>\n",
       "      <td>31844</td>\n",
       "      <td>31844</td>\n",
       "      <td>31790</td>\n",
       "      <td>31692</td>\n",
       "      <td>18</td>\n",
       "      <td>8688</td>\n",
       "      <td>179</td>\n",
       "      <td>35670</td>\n",
       "      <td>218</td>\n",
       "      <td>1</td>\n",
       "      <td>software</td>\n",
       "    </tr>\n",
       "    <tr>\n",
       "      <th>3</th>\n",
       "      <td>Excel</td>\n",
       "      <td>1</td>\n",
       "      <td>28227</td>\n",
       "      <td>28227</td>\n",
       "      <td>28097</td>\n",
       "      <td>28010</td>\n",
       "      <td>19</td>\n",
       "      <td>12220</td>\n",
       "      <td>256</td>\n",
       "      <td>34465</td>\n",
       "      <td>153</td>\n",
       "      <td>1</td>\n",
       "      <td>software</td>\n",
       "    </tr>\n",
       "    <tr>\n",
       "      <th>4</th>\n",
       "      <td>SAS</td>\n",
       "      <td>1</td>\n",
       "      <td>25543</td>\n",
       "      <td>25543</td>\n",
       "      <td>25487</td>\n",
       "      <td>25359</td>\n",
       "      <td>19</td>\n",
       "      <td>5437</td>\n",
       "      <td>181</td>\n",
       "      <td>30612</td>\n",
       "      <td>143</td>\n",
       "      <td>1</td>\n",
       "      <td>unclear</td>\n",
       "    </tr>\n",
       "    <tr>\n",
       "      <th>5</th>\n",
       "      <td>ImageJ</td>\n",
       "      <td>1</td>\n",
       "      <td>22701</td>\n",
       "      <td>22701</td>\n",
       "      <td>22629</td>\n",
       "      <td>22560</td>\n",
       "      <td>18</td>\n",
       "      <td>19562</td>\n",
       "      <td>223</td>\n",
       "      <td>38242</td>\n",
       "      <td>345</td>\n",
       "      <td>1</td>\n",
       "      <td>software</td>\n",
       "    </tr>\n",
       "    <tr>\n",
       "      <th>6</th>\n",
       "      <td>BLAST</td>\n",
       "      <td>1</td>\n",
       "      <td>22648</td>\n",
       "      <td>22648</td>\n",
       "      <td>22603</td>\n",
       "      <td>22529</td>\n",
       "      <td>20</td>\n",
       "      <td>23158</td>\n",
       "      <td>205</td>\n",
       "      <td>44347</td>\n",
       "      <td>82</td>\n",
       "      <td>1</td>\n",
       "      <td>software</td>\n",
       "    </tr>\n",
       "    <tr>\n",
       "      <th>7</th>\n",
       "      <td>GraphPad</td>\n",
       "      <td>1</td>\n",
       "      <td>20055</td>\n",
       "      <td>20055</td>\n",
       "      <td>20031</td>\n",
       "      <td>19918</td>\n",
       "      <td>18</td>\n",
       "      <td>4830</td>\n",
       "      <td>158</td>\n",
       "      <td>20841</td>\n",
       "      <td>67</td>\n",
       "      <td>1</td>\n",
       "      <td>software</td>\n",
       "    </tr>\n",
       "    <tr>\n",
       "      <th>8</th>\n",
       "      <td>SHELXL97</td>\n",
       "      <td>1</td>\n",
       "      <td>19209</td>\n",
       "      <td>19209</td>\n",
       "      <td>19208</td>\n",
       "      <td>19209</td>\n",
       "      <td>15</td>\n",
       "      <td>65</td>\n",
       "      <td>50</td>\n",
       "      <td>7103</td>\n",
       "      <td>0</td>\n",
       "      <td>1</td>\n",
       "      <td>software</td>\n",
       "    </tr>\n",
       "    <tr>\n",
       "      <th>9</th>\n",
       "      <td>Stata</td>\n",
       "      <td>1</td>\n",
       "      <td>17766</td>\n",
       "      <td>17766</td>\n",
       "      <td>17733</td>\n",
       "      <td>17734</td>\n",
       "      <td>19</td>\n",
       "      <td>3205</td>\n",
       "      <td>156</td>\n",
       "      <td>20449</td>\n",
       "      <td>219</td>\n",
       "      <td>1</td>\n",
       "      <td>software</td>\n",
       "    </tr>\n",
       "    <tr>\n",
       "      <th>10</th>\n",
       "      <td>SHELXS97</td>\n",
       "      <td>1</td>\n",
       "      <td>17475</td>\n",
       "      <td>17475</td>\n",
       "      <td>17473</td>\n",
       "      <td>17475</td>\n",
       "      <td>14</td>\n",
       "      <td>48</td>\n",
       "      <td>42</td>\n",
       "      <td>5983</td>\n",
       "      <td>0</td>\n",
       "      <td>1</td>\n",
       "      <td>software</td>\n",
       "    </tr>\n",
       "    <tr>\n",
       "      <th>11</th>\n",
       "      <td>STATA</td>\n",
       "      <td>1</td>\n",
       "      <td>13592</td>\n",
       "      <td>13592</td>\n",
       "      <td>13560</td>\n",
       "      <td>13530</td>\n",
       "      <td>19</td>\n",
       "      <td>2187</td>\n",
       "      <td>153</td>\n",
       "      <td>15372</td>\n",
       "      <td>182</td>\n",
       "      <td>1</td>\n",
       "      <td>software</td>\n",
       "    </tr>\n",
       "    <tr>\n",
       "      <th>12</th>\n",
       "      <td>SAINT</td>\n",
       "      <td>1</td>\n",
       "      <td>12713</td>\n",
       "      <td>12713</td>\n",
       "      <td>12711</td>\n",
       "      <td>12713</td>\n",
       "      <td>16</td>\n",
       "      <td>230</td>\n",
       "      <td>77</td>\n",
       "      <td>3760</td>\n",
       "      <td>1</td>\n",
       "      <td>1</td>\n",
       "      <td>software</td>\n",
       "    </tr>\n",
       "    <tr>\n",
       "      <th>13</th>\n",
       "      <td>SPSS Statistics</td>\n",
       "      <td>1</td>\n",
       "      <td>11558</td>\n",
       "      <td>11558</td>\n",
       "      <td>11531</td>\n",
       "      <td>11530</td>\n",
       "      <td>13</td>\n",
       "      <td>1781</td>\n",
       "      <td>126</td>\n",
       "      <td>11172</td>\n",
       "      <td>124</td>\n",
       "      <td>1</td>\n",
       "      <td>software</td>\n",
       "    </tr>\n",
       "    <tr>\n",
       "      <th>14</th>\n",
       "      <td>SHELXTL</td>\n",
       "      <td>1</td>\n",
       "      <td>11399</td>\n",
       "      <td>11399</td>\n",
       "      <td>11398</td>\n",
       "      <td>11399</td>\n",
       "      <td>17</td>\n",
       "      <td>156</td>\n",
       "      <td>52</td>\n",
       "      <td>3224</td>\n",
       "      <td>3</td>\n",
       "      <td>1</td>\n",
       "      <td>software</td>\n",
       "    </tr>\n",
       "    <tr>\n",
       "      <th>15</th>\n",
       "      <td>MATLAB</td>\n",
       "      <td>1</td>\n",
       "      <td>10263</td>\n",
       "      <td>10263</td>\n",
       "      <td>10209</td>\n",
       "      <td>10236</td>\n",
       "      <td>18</td>\n",
       "      <td>9747</td>\n",
       "      <td>227</td>\n",
       "      <td>17724</td>\n",
       "      <td>275</td>\n",
       "      <td>1</td>\n",
       "      <td>software</td>\n",
       "    </tr>\n",
       "    <tr>\n",
       "      <th>16</th>\n",
       "      <td>MEGA</td>\n",
       "      <td>1</td>\n",
       "      <td>10097</td>\n",
       "      <td>10097</td>\n",
       "      <td>10081</td>\n",
       "      <td>10072</td>\n",
       "      <td>19</td>\n",
       "      <td>6139</td>\n",
       "      <td>126</td>\n",
       "      <td>15063</td>\n",
       "      <td>136</td>\n",
       "      <td>1</td>\n",
       "      <td>software</td>\n",
       "    </tr>\n",
       "    <tr>\n",
       "      <th>17</th>\n",
       "      <td>PLATON</td>\n",
       "      <td>1</td>\n",
       "      <td>7489</td>\n",
       "      <td>7489</td>\n",
       "      <td>7486</td>\n",
       "      <td>7489</td>\n",
       "      <td>15</td>\n",
       "      <td>248</td>\n",
       "      <td>67</td>\n",
       "      <td>3424</td>\n",
       "      <td>2</td>\n",
       "      <td>1</td>\n",
       "      <td>software</td>\n",
       "    </tr>\n",
       "    <tr>\n",
       "      <th>18</th>\n",
       "      <td>Image J</td>\n",
       "      <td>1</td>\n",
       "      <td>7500</td>\n",
       "      <td>7500</td>\n",
       "      <td>7479</td>\n",
       "      <td>7402</td>\n",
       "      <td>18</td>\n",
       "      <td>5595</td>\n",
       "      <td>130</td>\n",
       "      <td>10532</td>\n",
       "      <td>148</td>\n",
       "      <td>1</td>\n",
       "      <td>software</td>\n",
       "    </tr>\n",
       "    <tr>\n",
       "      <th>19</th>\n",
       "      <td>Prism</td>\n",
       "      <td>1</td>\n",
       "      <td>7485</td>\n",
       "      <td>7485</td>\n",
       "      <td>7476</td>\n",
       "      <td>7432</td>\n",
       "      <td>18</td>\n",
       "      <td>2680</td>\n",
       "      <td>127</td>\n",
       "      <td>8451</td>\n",
       "      <td>154</td>\n",
       "      <td>1</td>\n",
       "      <td>software</td>\n",
       "    </tr>\n",
       "  </tbody>\n",
       "</table>\n",
       "</div>"
      ],
      "text/plain": [
       "           software  license  location  pmcid   pmid    doi  pubdate  source  \\\n",
       "0              SPSS        1     93333  93333  92987  92109       18   10332   \n",
       "1                 R        1     58276  58276  58161  58045       20   34297   \n",
       "2    GraphPad Prism        1     31844  31844  31790  31692       18    8688   \n",
       "3             Excel        1     28227  28227  28097  28010       19   12220   \n",
       "4               SAS        1     25543  25543  25487  25359       19    5437   \n",
       "5            ImageJ        1     22701  22701  22629  22560       18   19562   \n",
       "6             BLAST        1     22648  22648  22603  22529       20   23158   \n",
       "7          GraphPad        1     20055  20055  20031  19918       18    4830   \n",
       "8          SHELXL97        1     19209  19209  19208  19209       15      65   \n",
       "9             Stata        1     17766  17766  17733  17734       19    3205   \n",
       "10         SHELXS97        1     17475  17475  17473  17475       14      48   \n",
       "11            STATA        1     13592  13592  13560  13530       19    2187   \n",
       "12            SAINT        1     12713  12713  12711  12713       16     230   \n",
       "13  SPSS Statistics        1     11558  11558  11531  11530       13    1781   \n",
       "14          SHELXTL        1     11399  11399  11398  11399       17     156   \n",
       "15           MATLAB        1     10263  10263  10209  10236       18    9747   \n",
       "16             MEGA        1     10097  10097  10081  10072       19    6139   \n",
       "17           PLATON        1      7489   7489   7486   7489       15     248   \n",
       "18          Image J        1      7500   7500   7479   7402       18    5595   \n",
       "19            Prism        1      7485   7485   7476   7432       18    2680   \n",
       "\n",
       "    number   text  version  ID curation_label  \n",
       "0      357  97877      450   1       software  \n",
       "1      348  94148      445   1       software  \n",
       "2      179  35670      218   1       software  \n",
       "3      256  34465      153   1       software  \n",
       "4      181  30612      143   1        unclear  \n",
       "5      223  38242      345   1       software  \n",
       "6      205  44347       82   1       software  \n",
       "7      158  20841       67   1       software  \n",
       "8       50   7103        0   1       software  \n",
       "9      156  20449      219   1       software  \n",
       "10      42   5983        0   1       software  \n",
       "11     153  15372      182   1       software  \n",
       "12      77   3760        1   1       software  \n",
       "13     126  11172      124   1       software  \n",
       "14      52   3224        3   1       software  \n",
       "15     227  17724      275   1       software  \n",
       "16     126  15063      136   1       software  \n",
       "17      67   3424        2   1       software  \n",
       "18     130  10532      148   1       software  \n",
       "19     127   8451      154   1       software  "
      ]
     },
     "execution_count": 13,
     "metadata": {},
     "output_type": "execute_result"
    }
   ],
   "source": [
    "raw_df_aggregated = raw_df_aggregated.reset_index()\n",
    "raw_df_aggregated['curation_label'] = raw_df_aggregated['software'].apply(lambda x: mention2curation_label[x])\n",
    "raw_df_aggregated[:20]"
   ]
  },
  {
   "cell_type": "markdown",
   "metadata": {},
   "source": [
    "We can see that the mentions `COVID`, `COVID-19`, `Google Scholar`, as well as `Google` have been correctly marked by our curators as **not_software**. <br>\n",
    "We can now segment the dataset based on the curation_labels:"
   ]
  },
  {
   "cell_type": "code",
   "execution_count": 14,
   "metadata": {},
   "outputs": [],
   "source": [
    "not_software_raw = raw_df[raw_df['curation_label'] == 'not_software']\n",
    "unclear_raw = raw_df[raw_df['curation_label'] == 'unclear']\n",
    "not_curated_raw = raw_df[raw_df['curation_label'] == 'not_curated']\n",
    "software_raw = raw_df[raw_df['curation_label'] == 'software']"
   ]
  },
  {
   "cell_type": "markdown",
   "metadata": {},
   "source": [
    "Let's look at some more examples of mentions that have been marked by our curators as **not_software** and the context in which they appear:"
   ]
  },
  {
   "cell_type": "code",
   "execution_count": 15,
   "metadata": {
    "scrolled": false
   },
   "outputs": [
    {
     "data": {
      "text/html": [
       "<div>\n",
       "<style scoped>\n",
       "    .dataframe tbody tr th:only-of-type {\n",
       "        vertical-align: middle;\n",
       "    }\n",
       "\n",
       "    .dataframe tbody tr th {\n",
       "        vertical-align: top;\n",
       "    }\n",
       "\n",
       "    .dataframe thead th {\n",
       "        text-align: right;\n",
       "    }\n",
       "</style>\n",
       "<table border=\"1\" class=\"dataframe\">\n",
       "  <thead>\n",
       "    <tr style=\"text-align: right;\">\n",
       "      <th></th>\n",
       "      <th>pmid</th>\n",
       "      <th>text</th>\n",
       "      <th>software</th>\n",
       "    </tr>\n",
       "  </thead>\n",
       "  <tbody>\n",
       "    <tr>\n",
       "      <th>3765342</th>\n",
       "      <td>30813336.0</td>\n",
       "      <td>The objective of OPLS-DA is to separate the systematic variation in X into two parts, one part which is linearly related to Y, and another part is orthogonal to Y, which leads to better class resolution in a discriminant problem [31]</td>\n",
       "      <td>OPLS-DA</td>\n",
       "    </tr>\n",
       "    <tr>\n",
       "      <th>3209673</th>\n",
       "      <td>32019541.0</td>\n",
       "      <td>Genetic polymorphisms and the natural selection of PvLDH and PfLDH were analysed using DNASTAR, MEGA6, and DnaSP ver</td>\n",
       "      <td>DNASTAR</td>\n",
       "    </tr>\n",
       "    <tr>\n",
       "      <th>1868966</th>\n",
       "      <td>21961925.0</td>\n",
       "      <td>Key organizational factors at local VHA medical centers were strongly associated with MOVE! implementation</td>\n",
       "      <td>MOVE!</td>\n",
       "    </tr>\n",
       "    <tr>\n",
       "      <th>4806164</th>\n",
       "      <td>23028359.0</td>\n",
       "      <td>Genes repressed by COMPASS therefore show abberant H3K4 methylation patterns that are characterized by a reversed orientation of the normal H3K4 methylation pattern observed for active genes [3].</td>\n",
       "      <td>COMPASS</td>\n",
       "    </tr>\n",
       "    <tr>\n",
       "      <th>1904253</th>\n",
       "      <td>28284209.0</td>\n",
       "      <td>STARD [17] diagram DENV-4 patients in Rio de Janeiro, 2013</td>\n",
       "      <td>STARD</td>\n",
       "    </tr>\n",
       "    <tr>\n",
       "      <th>2036046</th>\n",
       "      <td>31533828.0</td>\n",
       "      <td>This toolkit consisted of a PtDA (MyDiabetesPlan) and its accompanying implementation tools (such as how-to videos, and enabler cards with step-by-step instructions)</td>\n",
       "      <td>PtDA</td>\n",
       "    </tr>\n",
       "    <tr>\n",
       "      <th>4926277</th>\n",
       "      <td>27529696.0</td>\n",
       "      <td>Data were analyzed using FlowJo (Treestar), and counts of each population (Tv, T-cell or B-cell) were determined according to the gating strategy is shown in S1 Fig</td>\n",
       "      <td>Treestar</td>\n",
       "    </tr>\n",
       "    <tr>\n",
       "      <th>4904976</th>\n",
       "      <td>32614857.0</td>\n",
       "      <td>The models were parameterized with age-structured data on approximately 21,000 individuals included in the KalaNet bednet trial in India and Nepal [37] and have undergone geographical cross-validation against data on &gt;5000 VL cases from 8 endemic districts in Bihar collected by CARE India [38] (see [36] for full model code and descriptions, and sensitivity analyses)</td>\n",
       "      <td>CARE</td>\n",
       "    </tr>\n",
       "    <tr>\n",
       "      <th>4400637</th>\n",
       "      <td>33100806.0</td>\n",
       "      <td>The contagion airborne transmission (CAT) inequality that evaluates the conditions for the airborne transmission of a respiratory infection such as COVID-19</td>\n",
       "      <td>COVID</td>\n",
       "    </tr>\n",
       "    <tr>\n",
       "      <th>1935657</th>\n",
       "      <td>24886446.0</td>\n",
       "      <td>The entire compilation of CanMEDS 2005 text documents were accessed on the website of the Royal College of Physicians and Surgeons of Canada [21] on July 31, 2013</td>\n",
       "      <td>CanMEDS</td>\n",
       "    </tr>\n",
       "  </tbody>\n",
       "</table>\n",
       "</div>"
      ],
      "text/plain": [
       "               pmid  \\\n",
       "3765342  30813336.0   \n",
       "3209673  32019541.0   \n",
       "1868966  21961925.0   \n",
       "4806164  23028359.0   \n",
       "1904253  28284209.0   \n",
       "2036046  31533828.0   \n",
       "4926277  27529696.0   \n",
       "4904976  32614857.0   \n",
       "4400637  33100806.0   \n",
       "1935657  24886446.0   \n",
       "\n",
       "                                                                                                                                                                                                                                                                                                                                                                                     text  \\\n",
       "3765342                                                                                                                                         The objective of OPLS-DA is to separate the systematic variation in X into two parts, one part which is linearly related to Y, and another part is orthogonal to Y, which leads to better class resolution in a discriminant problem [31]   \n",
       "3209673                                                                                                                                                                                                                                                              Genetic polymorphisms and the natural selection of PvLDH and PfLDH were analysed using DNASTAR, MEGA6, and DnaSP ver   \n",
       "1868966                                                                                                                                                                                                                                                                        Key organizational factors at local VHA medical centers were strongly associated with MOVE! implementation   \n",
       "4806164                                                                                                                                                                               Genes repressed by COMPASS therefore show abberant H3K4 methylation patterns that are characterized by a reversed orientation of the normal H3K4 methylation pattern observed for active genes [3].   \n",
       "1904253                                                                                                                                                                                                                                                                                                                       STARD [17] diagram DENV-4 patients in Rio de Janeiro, 2013    \n",
       "2036046                                                                                                                                                                                                             This toolkit consisted of a PtDA (MyDiabetesPlan) and its accompanying implementation tools (such as how-to videos, and enabler cards with step-by-step instructions)   \n",
       "4926277                                                                                                                                                                                                              Data were analyzed using FlowJo (Treestar), and counts of each population (Tv, T-cell or B-cell) were determined according to the gating strategy is shown in S1 Fig   \n",
       "4904976  The models were parameterized with age-structured data on approximately 21,000 individuals included in the KalaNet bednet trial in India and Nepal [37] and have undergone geographical cross-validation against data on >5000 VL cases from 8 endemic districts in Bihar collected by CARE India [38] (see [36] for full model code and descriptions, and sensitivity analyses)   \n",
       "4400637                                                                                                                                                                                                                      The contagion airborne transmission (CAT) inequality that evaluates the conditions for the airborne transmission of a respiratory infection such as COVID-19   \n",
       "1935657                                                                                                                                                                                                                The entire compilation of CanMEDS 2005 text documents were accessed on the website of the Royal College of Physicians and Surgeons of Canada [21] on July 31, 2013   \n",
       "\n",
       "         software  \n",
       "3765342   OPLS-DA  \n",
       "3209673   DNASTAR  \n",
       "1868966     MOVE!  \n",
       "4806164   COMPASS  \n",
       "1904253     STARD  \n",
       "2036046      PtDA  \n",
       "4926277  Treestar  \n",
       "4904976      CARE  \n",
       "4400637     COVID  \n",
       "1935657   CanMEDS  "
      ]
     },
     "execution_count": 15,
     "metadata": {},
     "output_type": "execute_result"
    }
   ],
   "source": [
    "not_software_raw.sample(10)[['pmid', 'text', 'software']]"
   ]
  },
  {
   "cell_type": "markdown",
   "metadata": {},
   "source": [
    "Similarly, we can look at examples of mentions that have been marked by our curators as **software**:"
   ]
  },
  {
   "cell_type": "code",
   "execution_count": 16,
   "metadata": {},
   "outputs": [
    {
     "data": {
      "text/html": [
       "<div>\n",
       "<style scoped>\n",
       "    .dataframe tbody tr th:only-of-type {\n",
       "        vertical-align: middle;\n",
       "    }\n",
       "\n",
       "    .dataframe tbody tr th {\n",
       "        vertical-align: top;\n",
       "    }\n",
       "\n",
       "    .dataframe thead th {\n",
       "        text-align: right;\n",
       "    }\n",
       "</style>\n",
       "<table border=\"1\" class=\"dataframe\">\n",
       "  <thead>\n",
       "    <tr style=\"text-align: right;\">\n",
       "      <th></th>\n",
       "      <th>pmid</th>\n",
       "      <th>text</th>\n",
       "      <th>software</th>\n",
       "    </tr>\n",
       "  </thead>\n",
       "  <tbody>\n",
       "    <tr>\n",
       "      <th>315987</th>\n",
       "      <td>34176789.0</td>\n",
       "      <td>Furthermore, six core gene targets including CAT, NOS2, CXCR3, MAPK1, GPT, and ICAM1 of VA against CHOL/COVID-19 were identified using Cytoscape tool (Figure 4B).</td>\n",
       "      <td>Cytoscape</td>\n",
       "    </tr>\n",
       "    <tr>\n",
       "      <th>2570083</th>\n",
       "      <td>24847907.0</td>\n",
       "      <td>Immunoreactive bands were visualized using enhanced chemiluminescence (ECL; Amersham Pharmacia Biotech) and quantified by NIH image software</td>\n",
       "      <td>NIH image</td>\n",
       "    </tr>\n",
       "    <tr>\n",
       "      <th>4969874</th>\n",
       "      <td>22479336.0</td>\n",
       "      <td>(3) Number of males released, because our VORTEX model results suggested, perhaps counter-intuitively, that number of adult males released should have no effect on reintroduction success.</td>\n",
       "      <td>VORTEX</td>\n",
       "    </tr>\n",
       "    <tr>\n",
       "      <th>2569649</th>\n",
       "      <td>30034650.0</td>\n",
       "      <td>Graph Pad Prism software version 4.03 was used for statistical analysis</td>\n",
       "      <td>Graph Pad Prism</td>\n",
       "    </tr>\n",
       "    <tr>\n",
       "      <th>3814021</th>\n",
       "      <td>29948643.0</td>\n",
       "      <td>PET image reconstruction were performed using an OSEM 3D/OP-MAP with scatter correction and a ramp filter (matrix size 128 × 128)</td>\n",
       "      <td>OSEM</td>\n",
       "    </tr>\n",
       "    <tr>\n",
       "      <th>1440449</th>\n",
       "      <td>17459166.0</td>\n",
       "      <td>Log2 measures of gene expression were normalized using a linear mixed model in SAS (JMP v6.0.0 with a microarray platform beta-version in SAS v9.1.3) to remove the effects of dye (fixed effect) and array (random effect) following a joint regional and spatial Lowess transformation in MAANOVA Version 0.98.8 for R to account for both intensity and spatial bias [43]</td>\n",
       "      <td>MAANOVA</td>\n",
       "    </tr>\n",
       "    <tr>\n",
       "      <th>3849646</th>\n",
       "      <td>32281725.0</td>\n",
       "      <td>Alignment was performed with ClustalW based on identical residues</td>\n",
       "      <td>ClustalW</td>\n",
       "    </tr>\n",
       "    <tr>\n",
       "      <th>4976099</th>\n",
       "      <td>25243403.0</td>\n",
       "      <td>Therefore, ELASPIC should not be taken as a predictor of disease mutations, such as the sequence-based methods MutationTaster [56] or SNAP [57], since it was trained to predict stability rather than phenotype effect of mutations</td>\n",
       "      <td>MutationTaster</td>\n",
       "    </tr>\n",
       "    <tr>\n",
       "      <th>1374396</th>\n",
       "      <td>23642277.0</td>\n",
       "      <td>Interviews were transcribed verbatim anonymously and analyzed using QSR International's NVivo 9 software [13]</td>\n",
       "      <td>NVivo</td>\n",
       "    </tr>\n",
       "    <tr>\n",
       "      <th>4448333</th>\n",
       "      <td>29989238.0</td>\n",
       "      <td>Chains of syntenic genes were identified using DAGchainer (Haas et al., 2004), allowing a maximum gene distance of 20 between two matches and with a minimum number of four aligned pairs constituting a syntenic block</td>\n",
       "      <td>DAGchainer</td>\n",
       "    </tr>\n",
       "  </tbody>\n",
       "</table>\n",
       "</div>"
      ],
      "text/plain": [
       "               pmid  \\\n",
       "315987   34176789.0   \n",
       "2570083  24847907.0   \n",
       "4969874  22479336.0   \n",
       "2569649  30034650.0   \n",
       "3814021  29948643.0   \n",
       "1440449  17459166.0   \n",
       "3849646  32281725.0   \n",
       "4976099  25243403.0   \n",
       "1374396  23642277.0   \n",
       "4448333  29989238.0   \n",
       "\n",
       "                                                                                                                                                                                                                                                                                                                                                                                 text  \\\n",
       "315987                                                                                                                                                                                                             Furthermore, six core gene targets including CAT, NOS2, CXCR3, MAPK1, GPT, and ICAM1 of VA against CHOL/COVID-19 were identified using Cytoscape tool (Figure 4B).   \n",
       "2570083                                                                                                                                                                                                                                  Immunoreactive bands were visualized using enhanced chemiluminescence (ECL; Amersham Pharmacia Biotech) and quantified by NIH image software   \n",
       "4969874                                                                                                                                                                                   (3) Number of males released, because our VORTEX model results suggested, perhaps counter-intuitively, that number of adult males released should have no effect on reintroduction success.   \n",
       "2569649                                                                                                                                                                                                                                                                                                       Graph Pad Prism software version 4.03 was used for statistical analysis   \n",
       "3814021                                                                                                                                                                                                                                             PET image reconstruction were performed using an OSEM 3D/OP-MAP with scatter correction and a ramp filter (matrix size 128 × 128)   \n",
       "1440449  Log2 measures of gene expression were normalized using a linear mixed model in SAS (JMP v6.0.0 with a microarray platform beta-version in SAS v9.1.3) to remove the effects of dye (fixed effect) and array (random effect) following a joint regional and spatial Lowess transformation in MAANOVA Version 0.98.8 for R to account for both intensity and spatial bias [43]   \n",
       "3849646                                                                                                                                                                                                                                                                                                             Alignment was performed with ClustalW based on identical residues   \n",
       "4976099                                                                                                                                          Therefore, ELASPIC should not be taken as a predictor of disease mutations, such as the sequence-based methods MutationTaster [56] or SNAP [57], since it was trained to predict stability rather than phenotype effect of mutations   \n",
       "1374396                                                                                                                                                                                                                                                                 Interviews were transcribed verbatim anonymously and analyzed using QSR International's NVivo 9 software [13]   \n",
       "4448333                                                                                                                                                       Chains of syntenic genes were identified using DAGchainer (Haas et al., 2004), allowing a maximum gene distance of 20 between two matches and with a minimum number of four aligned pairs constituting a syntenic block   \n",
       "\n",
       "                software  \n",
       "315987         Cytoscape  \n",
       "2570083        NIH image  \n",
       "4969874           VORTEX  \n",
       "2569649  Graph Pad Prism  \n",
       "3814021             OSEM  \n",
       "1440449          MAANOVA  \n",
       "3849646         ClustalW  \n",
       "4976099   MutationTaster  \n",
       "1374396            NVivo  \n",
       "4448333       DAGchainer  "
      ]
     },
     "execution_count": 16,
     "metadata": {},
     "output_type": "execute_result"
    }
   ],
   "source": [
    "software_raw.sample(10)[['pmid', 'text', 'software']]"
   ]
  },
  {
   "cell_type": "markdown",
   "metadata": {},
   "source": [
    "Same for **unclear**:"
   ]
  },
  {
   "cell_type": "code",
   "execution_count": 17,
   "metadata": {},
   "outputs": [
    {
     "data": {
      "text/html": [
       "<div>\n",
       "<style scoped>\n",
       "    .dataframe tbody tr th:only-of-type {\n",
       "        vertical-align: middle;\n",
       "    }\n",
       "\n",
       "    .dataframe tbody tr th {\n",
       "        vertical-align: top;\n",
       "    }\n",
       "\n",
       "    .dataframe thead th {\n",
       "        text-align: right;\n",
       "    }\n",
       "</style>\n",
       "<table border=\"1\" class=\"dataframe\">\n",
       "  <thead>\n",
       "    <tr style=\"text-align: right;\">\n",
       "      <th></th>\n",
       "      <th>pmid</th>\n",
       "      <th>text</th>\n",
       "      <th>software</th>\n",
       "    </tr>\n",
       "  </thead>\n",
       "  <tbody>\n",
       "    <tr>\n",
       "      <th>4698095</th>\n",
       "      <td>33370252.0</td>\n",
       "      <td>Moco contains additional cost modules beyond what is shown here, and users can define their own custom modules.</td>\n",
       "      <td>Moco</td>\n",
       "    </tr>\n",
       "    <tr>\n",
       "      <th>433488</th>\n",
       "      <td>33430096.0</td>\n",
       "      <td>Analyses were performed on a BD FACSCanto™ II (BD Biosciences, Heidelberg, Germany) equipped with a 488 nm blue laser, 630 nm red laser, and a 405 nm violet laser, and by using BD FACSDiva™ Software II (BD Biosciences)</td>\n",
       "      <td>BD</td>\n",
       "    </tr>\n",
       "    <tr>\n",
       "      <th>4599589</th>\n",
       "      <td>32287273.0</td>\n",
       "      <td>a) DOT assigns lower p-values than other methods do to the 4 selected breast cancer genes</td>\n",
       "      <td>DOT</td>\n",
       "    </tr>\n",
       "    <tr>\n",
       "      <th>3216322</th>\n",
       "      <td>18062817.0</td>\n",
       "      <td>Box plots of the anomalies of the DEMETER re-forecasts over Kagera region</td>\n",
       "      <td>DEMETER</td>\n",
       "    </tr>\n",
       "    <tr>\n",
       "      <th>2189796</th>\n",
       "      <td>25204857.0</td>\n",
       "      <td>Studies up to December 31, 2012 were retrieved using the following 11 electronic databases: (1) Medline, (2) CINAHL, (3) Scopus, (4) Academic Search Complete, (5) Educational Research Complete, (6) Web of Science, (7) Sport Discus, (8) ERIC, (9) LILACS, (10) Cochrane Central Register of Controlled Trials (CENTRAL) and (11) Proquest</td>\n",
       "      <td>Web</td>\n",
       "    </tr>\n",
       "    <tr>\n",
       "      <th>4016972</th>\n",
       "      <td>33693062.0</td>\n",
       "      <td>Is the Open Letter written in accessible language?</td>\n",
       "      <td>Open</td>\n",
       "    </tr>\n",
       "    <tr>\n",
       "      <th>4343195</th>\n",
       "      <td>33816840.0</td>\n",
       "      <td>The results of our empirical study show that only very few LFR methods actually contain a fault, and thus, they indicate that IDP can successfully identify methods that are not fault-prone</td>\n",
       "      <td>IDP</td>\n",
       "    </tr>\n",
       "    <tr>\n",
       "      <th>2136037</th>\n",
       "      <td>19761597.0</td>\n",
       "      <td>All analyses were performed with SAS version 9.1</td>\n",
       "      <td>SAS</td>\n",
       "    </tr>\n",
       "    <tr>\n",
       "      <th>2586281</th>\n",
       "      <td>28342072.0</td>\n",
       "      <td>Example SAS code for all Monte Carlo studies in this manuscript is available online at https://figshare.com/s/8d48fed4a23fff78e2a3 .</td>\n",
       "      <td>SAS</td>\n",
       "    </tr>\n",
       "    <tr>\n",
       "      <th>3645905</th>\n",
       "      <td>23396999.0</td>\n",
       "      <td>Analysis of variance (ANOVA) was performed in SAS v.9.2 (SAS Institute 2010) to develop least square means for genotypes grown in 2011 near Toluca (experimental design Randomized Complete Block Design; genotype as fixed and replication as random variables)</td>\n",
       "      <td>SAS</td>\n",
       "    </tr>\n",
       "  </tbody>\n",
       "</table>\n",
       "</div>"
      ],
      "text/plain": [
       "               pmid  \\\n",
       "4698095  33370252.0   \n",
       "433488   33430096.0   \n",
       "4599589  32287273.0   \n",
       "3216322  18062817.0   \n",
       "2189796  25204857.0   \n",
       "4016972  33693062.0   \n",
       "4343195  33816840.0   \n",
       "2136037  19761597.0   \n",
       "2586281  28342072.0   \n",
       "3645905  23396999.0   \n",
       "\n",
       "                                                                                                                                                                                                                                                                                                                                                  text  \\\n",
       "4698095                                                                                                                                                                                                                                Moco contains additional cost modules beyond what is shown here, and users can define their own custom modules.   \n",
       "433488                                                                                                                      Analyses were performed on a BD FACSCanto™ II (BD Biosciences, Heidelberg, Germany) equipped with a 488 nm blue laser, 630 nm red laser, and a 405 nm violet laser, and by using BD FACSDiva™ Software II (BD Biosciences)   \n",
       "4599589                                                                                                                                                                                                                                                      a) DOT assigns lower p-values than other methods do to the 4 selected breast cancer genes   \n",
       "3216322                                                                                                                                                                                                                                                                      Box plots of the anomalies of the DEMETER re-forecasts over Kagera region   \n",
       "2189796  Studies up to December 31, 2012 were retrieved using the following 11 electronic databases: (1) Medline, (2) CINAHL, (3) Scopus, (4) Academic Search Complete, (5) Educational Research Complete, (6) Web of Science, (7) Sport Discus, (8) ERIC, (9) LILACS, (10) Cochrane Central Register of Controlled Trials (CENTRAL) and (11) Proquest   \n",
       "4016972                                                                                                                                                                                                                                                                                             Is the Open Letter written in accessible language?   \n",
       "4343195                                                                                                                                                   The results of our empirical study show that only very few LFR methods actually contain a fault, and thus, they indicate that IDP can successfully identify methods that are not fault-prone   \n",
       "2136037                                                                                                                                                                                                                                                                                               All analyses were performed with SAS version 9.1   \n",
       "2586281                                                                                                                                                                                                           Example SAS code for all Monte Carlo studies in this manuscript is available online at https://figshare.com/s/8d48fed4a23fff78e2a3 .   \n",
       "3645905                                                                               Analysis of variance (ANOVA) was performed in SAS v.9.2 (SAS Institute 2010) to develop least square means for genotypes grown in 2011 near Toluca (experimental design Randomized Complete Block Design; genotype as fixed and replication as random variables)   \n",
       "\n",
       "        software  \n",
       "4698095     Moco  \n",
       "433488        BD  \n",
       "4599589      DOT  \n",
       "3216322  DEMETER  \n",
       "2189796      Web  \n",
       "4016972     Open  \n",
       "4343195      IDP  \n",
       "2136037      SAS  \n",
       "2586281      SAS  \n",
       "3645905      SAS  "
      ]
     },
     "execution_count": 17,
     "metadata": {},
     "output_type": "execute_result"
    }
   ],
   "source": [
    "unclear_raw.sample(10)[['pmid', 'text', 'software']]"
   ]
  },
  {
   "cell_type": "markdown",
   "metadata": {},
   "source": [
    "Note that for mentions that are marked as **unclear**, we don't recommend excluding them from analyses. They should rather be interpreted as *it cannot be assumed that this plain-text software mention will always be a true software mention when appearing in text*. The curators have only been provided with 5 sentences per software mention, and they did not curate each individual sentence in which a mention appears. The evaluations are based solely on those 5 sentences. We offer a more in-depth discussion about this in our [preprint](link) and [curation documents](link)"
   ]
  },
  {
   "cell_type": "markdown",
   "metadata": {},
   "source": [
    "This means that if we wanted to clean our dataset, we should only exclude the mentions markes as **not_software**:"
   ]
  },
  {
   "cell_type": "code",
   "execution_count": 18,
   "metadata": {},
   "outputs": [],
   "source": [
    "raw_df_clean = raw_df[raw_df['curation_label'] != 'not_software']"
   ]
  },
  {
   "cell_type": "markdown",
   "metadata": {},
   "source": [
    "Looking at the top mentions again:"
   ]
  },
  {
   "cell_type": "code",
   "execution_count": 19,
   "metadata": {
    "scrolled": false
   },
   "outputs": [
    {
     "data": {
      "text/html": [
       "<div>\n",
       "<style scoped>\n",
       "    .dataframe tbody tr th:only-of-type {\n",
       "        vertical-align: middle;\n",
       "    }\n",
       "\n",
       "    .dataframe tbody tr th {\n",
       "        vertical-align: top;\n",
       "    }\n",
       "\n",
       "    .dataframe thead th {\n",
       "        text-align: right;\n",
       "    }\n",
       "</style>\n",
       "<table border=\"1\" class=\"dataframe\">\n",
       "  <thead>\n",
       "    <tr style=\"text-align: right;\">\n",
       "      <th></th>\n",
       "      <th>license</th>\n",
       "      <th>location</th>\n",
       "      <th>pmcid</th>\n",
       "      <th>pmid</th>\n",
       "      <th>doi</th>\n",
       "      <th>pubdate</th>\n",
       "      <th>source</th>\n",
       "      <th>number</th>\n",
       "      <th>text</th>\n",
       "      <th>version</th>\n",
       "      <th>ID</th>\n",
       "      <th>curation_label</th>\n",
       "    </tr>\n",
       "    <tr>\n",
       "      <th>software</th>\n",
       "      <th></th>\n",
       "      <th></th>\n",
       "      <th></th>\n",
       "      <th></th>\n",
       "      <th></th>\n",
       "      <th></th>\n",
       "      <th></th>\n",
       "      <th></th>\n",
       "      <th></th>\n",
       "      <th></th>\n",
       "      <th></th>\n",
       "      <th></th>\n",
       "    </tr>\n",
       "  </thead>\n",
       "  <tbody>\n",
       "    <tr>\n",
       "      <th>SPSS</th>\n",
       "      <td>1</td>\n",
       "      <td>93333</td>\n",
       "      <td>93333</td>\n",
       "      <td>92987</td>\n",
       "      <td>92109</td>\n",
       "      <td>18</td>\n",
       "      <td>10332</td>\n",
       "      <td>357</td>\n",
       "      <td>97877</td>\n",
       "      <td>450</td>\n",
       "      <td>1</td>\n",
       "      <td>1</td>\n",
       "    </tr>\n",
       "    <tr>\n",
       "      <th>R</th>\n",
       "      <td>1</td>\n",
       "      <td>58276</td>\n",
       "      <td>58276</td>\n",
       "      <td>58161</td>\n",
       "      <td>58045</td>\n",
       "      <td>20</td>\n",
       "      <td>34297</td>\n",
       "      <td>348</td>\n",
       "      <td>94148</td>\n",
       "      <td>445</td>\n",
       "      <td>1</td>\n",
       "      <td>1</td>\n",
       "    </tr>\n",
       "    <tr>\n",
       "      <th>GraphPad Prism</th>\n",
       "      <td>1</td>\n",
       "      <td>31844</td>\n",
       "      <td>31844</td>\n",
       "      <td>31790</td>\n",
       "      <td>31692</td>\n",
       "      <td>18</td>\n",
       "      <td>8688</td>\n",
       "      <td>179</td>\n",
       "      <td>35670</td>\n",
       "      <td>218</td>\n",
       "      <td>1</td>\n",
       "      <td>1</td>\n",
       "    </tr>\n",
       "    <tr>\n",
       "      <th>Excel</th>\n",
       "      <td>1</td>\n",
       "      <td>28227</td>\n",
       "      <td>28227</td>\n",
       "      <td>28097</td>\n",
       "      <td>28010</td>\n",
       "      <td>19</td>\n",
       "      <td>12220</td>\n",
       "      <td>256</td>\n",
       "      <td>34465</td>\n",
       "      <td>153</td>\n",
       "      <td>1</td>\n",
       "      <td>1</td>\n",
       "    </tr>\n",
       "    <tr>\n",
       "      <th>SAS</th>\n",
       "      <td>1</td>\n",
       "      <td>25543</td>\n",
       "      <td>25543</td>\n",
       "      <td>25487</td>\n",
       "      <td>25359</td>\n",
       "      <td>19</td>\n",
       "      <td>5437</td>\n",
       "      <td>181</td>\n",
       "      <td>30612</td>\n",
       "      <td>143</td>\n",
       "      <td>1</td>\n",
       "      <td>1</td>\n",
       "    </tr>\n",
       "    <tr>\n",
       "      <th>ImageJ</th>\n",
       "      <td>1</td>\n",
       "      <td>22701</td>\n",
       "      <td>22701</td>\n",
       "      <td>22629</td>\n",
       "      <td>22560</td>\n",
       "      <td>18</td>\n",
       "      <td>19562</td>\n",
       "      <td>223</td>\n",
       "      <td>38242</td>\n",
       "      <td>345</td>\n",
       "      <td>1</td>\n",
       "      <td>1</td>\n",
       "    </tr>\n",
       "    <tr>\n",
       "      <th>BLAST</th>\n",
       "      <td>1</td>\n",
       "      <td>22648</td>\n",
       "      <td>22648</td>\n",
       "      <td>22603</td>\n",
       "      <td>22529</td>\n",
       "      <td>20</td>\n",
       "      <td>23158</td>\n",
       "      <td>205</td>\n",
       "      <td>44347</td>\n",
       "      <td>82</td>\n",
       "      <td>1</td>\n",
       "      <td>1</td>\n",
       "    </tr>\n",
       "    <tr>\n",
       "      <th>GraphPad</th>\n",
       "      <td>1</td>\n",
       "      <td>20055</td>\n",
       "      <td>20055</td>\n",
       "      <td>20031</td>\n",
       "      <td>19918</td>\n",
       "      <td>18</td>\n",
       "      <td>4830</td>\n",
       "      <td>158</td>\n",
       "      <td>20841</td>\n",
       "      <td>67</td>\n",
       "      <td>1</td>\n",
       "      <td>1</td>\n",
       "    </tr>\n",
       "    <tr>\n",
       "      <th>SHELXL97</th>\n",
       "      <td>1</td>\n",
       "      <td>19209</td>\n",
       "      <td>19209</td>\n",
       "      <td>19208</td>\n",
       "      <td>19209</td>\n",
       "      <td>15</td>\n",
       "      <td>65</td>\n",
       "      <td>50</td>\n",
       "      <td>7103</td>\n",
       "      <td>0</td>\n",
       "      <td>1</td>\n",
       "      <td>1</td>\n",
       "    </tr>\n",
       "    <tr>\n",
       "      <th>Stata</th>\n",
       "      <td>1</td>\n",
       "      <td>17766</td>\n",
       "      <td>17766</td>\n",
       "      <td>17733</td>\n",
       "      <td>17734</td>\n",
       "      <td>19</td>\n",
       "      <td>3205</td>\n",
       "      <td>156</td>\n",
       "      <td>20449</td>\n",
       "      <td>219</td>\n",
       "      <td>1</td>\n",
       "      <td>1</td>\n",
       "    </tr>\n",
       "    <tr>\n",
       "      <th>SHELXS97</th>\n",
       "      <td>1</td>\n",
       "      <td>17475</td>\n",
       "      <td>17475</td>\n",
       "      <td>17473</td>\n",
       "      <td>17475</td>\n",
       "      <td>14</td>\n",
       "      <td>48</td>\n",
       "      <td>42</td>\n",
       "      <td>5983</td>\n",
       "      <td>0</td>\n",
       "      <td>1</td>\n",
       "      <td>1</td>\n",
       "    </tr>\n",
       "    <tr>\n",
       "      <th>STATA</th>\n",
       "      <td>1</td>\n",
       "      <td>13592</td>\n",
       "      <td>13592</td>\n",
       "      <td>13560</td>\n",
       "      <td>13530</td>\n",
       "      <td>19</td>\n",
       "      <td>2187</td>\n",
       "      <td>153</td>\n",
       "      <td>15372</td>\n",
       "      <td>182</td>\n",
       "      <td>1</td>\n",
       "      <td>1</td>\n",
       "    </tr>\n",
       "    <tr>\n",
       "      <th>SAINT</th>\n",
       "      <td>1</td>\n",
       "      <td>12713</td>\n",
       "      <td>12713</td>\n",
       "      <td>12711</td>\n",
       "      <td>12713</td>\n",
       "      <td>16</td>\n",
       "      <td>230</td>\n",
       "      <td>77</td>\n",
       "      <td>3760</td>\n",
       "      <td>1</td>\n",
       "      <td>1</td>\n",
       "      <td>1</td>\n",
       "    </tr>\n",
       "    <tr>\n",
       "      <th>SPSS Statistics</th>\n",
       "      <td>1</td>\n",
       "      <td>11558</td>\n",
       "      <td>11558</td>\n",
       "      <td>11531</td>\n",
       "      <td>11530</td>\n",
       "      <td>13</td>\n",
       "      <td>1781</td>\n",
       "      <td>126</td>\n",
       "      <td>11172</td>\n",
       "      <td>124</td>\n",
       "      <td>1</td>\n",
       "      <td>1</td>\n",
       "    </tr>\n",
       "    <tr>\n",
       "      <th>SHELXTL</th>\n",
       "      <td>1</td>\n",
       "      <td>11399</td>\n",
       "      <td>11399</td>\n",
       "      <td>11398</td>\n",
       "      <td>11399</td>\n",
       "      <td>17</td>\n",
       "      <td>156</td>\n",
       "      <td>52</td>\n",
       "      <td>3224</td>\n",
       "      <td>3</td>\n",
       "      <td>1</td>\n",
       "      <td>1</td>\n",
       "    </tr>\n",
       "    <tr>\n",
       "      <th>MATLAB</th>\n",
       "      <td>1</td>\n",
       "      <td>10263</td>\n",
       "      <td>10263</td>\n",
       "      <td>10209</td>\n",
       "      <td>10236</td>\n",
       "      <td>18</td>\n",
       "      <td>9747</td>\n",
       "      <td>227</td>\n",
       "      <td>17724</td>\n",
       "      <td>275</td>\n",
       "      <td>1</td>\n",
       "      <td>1</td>\n",
       "    </tr>\n",
       "    <tr>\n",
       "      <th>MEGA</th>\n",
       "      <td>1</td>\n",
       "      <td>10097</td>\n",
       "      <td>10097</td>\n",
       "      <td>10081</td>\n",
       "      <td>10072</td>\n",
       "      <td>19</td>\n",
       "      <td>6139</td>\n",
       "      <td>126</td>\n",
       "      <td>15063</td>\n",
       "      <td>136</td>\n",
       "      <td>1</td>\n",
       "      <td>1</td>\n",
       "    </tr>\n",
       "    <tr>\n",
       "      <th>PLATON</th>\n",
       "      <td>1</td>\n",
       "      <td>7489</td>\n",
       "      <td>7489</td>\n",
       "      <td>7486</td>\n",
       "      <td>7489</td>\n",
       "      <td>15</td>\n",
       "      <td>248</td>\n",
       "      <td>67</td>\n",
       "      <td>3424</td>\n",
       "      <td>2</td>\n",
       "      <td>1</td>\n",
       "      <td>1</td>\n",
       "    </tr>\n",
       "    <tr>\n",
       "      <th>Image J</th>\n",
       "      <td>1</td>\n",
       "      <td>7500</td>\n",
       "      <td>7500</td>\n",
       "      <td>7479</td>\n",
       "      <td>7402</td>\n",
       "      <td>18</td>\n",
       "      <td>5595</td>\n",
       "      <td>130</td>\n",
       "      <td>10532</td>\n",
       "      <td>148</td>\n",
       "      <td>1</td>\n",
       "      <td>1</td>\n",
       "    </tr>\n",
       "    <tr>\n",
       "      <th>Prism</th>\n",
       "      <td>1</td>\n",
       "      <td>7485</td>\n",
       "      <td>7485</td>\n",
       "      <td>7476</td>\n",
       "      <td>7432</td>\n",
       "      <td>18</td>\n",
       "      <td>2680</td>\n",
       "      <td>127</td>\n",
       "      <td>8451</td>\n",
       "      <td>154</td>\n",
       "      <td>1</td>\n",
       "      <td>1</td>\n",
       "    </tr>\n",
       "  </tbody>\n",
       "</table>\n",
       "</div>"
      ],
      "text/plain": [
       "                 license  location  pmcid   pmid    doi  pubdate  source  \\\n",
       "software                                                                   \n",
       "SPSS                   1     93333  93333  92987  92109       18   10332   \n",
       "R                      1     58276  58276  58161  58045       20   34297   \n",
       "GraphPad Prism         1     31844  31844  31790  31692       18    8688   \n",
       "Excel                  1     28227  28227  28097  28010       19   12220   \n",
       "SAS                    1     25543  25543  25487  25359       19    5437   \n",
       "ImageJ                 1     22701  22701  22629  22560       18   19562   \n",
       "BLAST                  1     22648  22648  22603  22529       20   23158   \n",
       "GraphPad               1     20055  20055  20031  19918       18    4830   \n",
       "SHELXL97               1     19209  19209  19208  19209       15      65   \n",
       "Stata                  1     17766  17766  17733  17734       19    3205   \n",
       "SHELXS97               1     17475  17475  17473  17475       14      48   \n",
       "STATA                  1     13592  13592  13560  13530       19    2187   \n",
       "SAINT                  1     12713  12713  12711  12713       16     230   \n",
       "SPSS Statistics        1     11558  11558  11531  11530       13    1781   \n",
       "SHELXTL                1     11399  11399  11398  11399       17     156   \n",
       "MATLAB                 1     10263  10263  10209  10236       18    9747   \n",
       "MEGA                   1     10097  10097  10081  10072       19    6139   \n",
       "PLATON                 1      7489   7489   7486   7489       15     248   \n",
       "Image J                1      7500   7500   7479   7402       18    5595   \n",
       "Prism                  1      7485   7485   7476   7432       18    2680   \n",
       "\n",
       "                 number   text  version  ID  curation_label  \n",
       "software                                                     \n",
       "SPSS                357  97877      450   1               1  \n",
       "R                   348  94148      445   1               1  \n",
       "GraphPad Prism      179  35670      218   1               1  \n",
       "Excel               256  34465      153   1               1  \n",
       "SAS                 181  30612      143   1               1  \n",
       "ImageJ              223  38242      345   1               1  \n",
       "BLAST               205  44347       82   1               1  \n",
       "GraphPad            158  20841       67   1               1  \n",
       "SHELXL97             50   7103        0   1               1  \n",
       "Stata               156  20449      219   1               1  \n",
       "SHELXS97             42   5983        0   1               1  \n",
       "STATA               153  15372      182   1               1  \n",
       "SAINT                77   3760        1   1               1  \n",
       "SPSS Statistics     126  11172      124   1               1  \n",
       "SHELXTL              52   3224        3   1               1  \n",
       "MATLAB              227  17724      275   1               1  \n",
       "MEGA                126  15063      136   1               1  \n",
       "PLATON               67   3424        2   1               1  \n",
       "Image J             130  10532      148   1               1  \n",
       "Prism               127   8451      154   1               1  "
      ]
     },
     "execution_count": 19,
     "metadata": {},
     "output_type": "execute_result"
    }
   ],
   "source": [
    "raw_df_clean_aggregated = raw_df_clean.groupby('software').nunique().sort_values(by = 'pmid', ascending = False)\n",
    "raw_df_clean_aggregated[:20]"
   ]
  },
  {
   "cell_type": "markdown",
   "metadata": {},
   "source": [
    "<a id='dataset_interaction_disambiguated_freq_samples'></a>\n",
    "Now, by looking at the most frequent mentions on the dataset above, we can make another observation. There seem to be plain-text software mentions that point to the same software. For Instance:\n",
    "- **SPSS** and **SPSS Statistics** are the same software **SPSS**, \n",
    "- **GraphPad Prism**, **GraphPad** and **Prism** are likely pointing to the same software **GraphPad Prism**\n",
    "- **MATLAB** and **Matlab** \n",
    "- **ImageJ** and **Image J**\n",
    "\n",
    "If we want to gauge the full impact of a piece of software, we should aggregate the impact of all of its string variations. This is the issue we address in the section below."
   ]
  },
  {
   "cell_type": "markdown",
   "metadata": {},
   "source": [
    "<a id='dataset_interaction_disambiguated'></a>\n",
    "### disambiguated files\n",
    "\n",
    "Through disambiguation, the goal is to cluster together plain-text software mentions that point to the same software entity. In this section, we go over a [short description of the motivation](#dataset_interaction_disambiguated_motivation'), as well as some examples of engaging with the disambiguated dataset. More in-depth details about the disambiguation algorithm, which is based on string similarity algorithms and [DBSCAN](#references_dbscan), can be found in our preprint, as well as under our Github repository page.\n",
    "\n",
    "\n",
    "The **disambiguated** files contain plain-text mentions, as extracted by the NER model, mapped to software entities, as determined by our disambiguation algorithm. There is only one file to interact with:\n",
    "- comm_disambiguated.tsv.gz\n",
    "\n",
    "The file is quite large and stored as GZIP archive. Similarly to the [**raw** datasets](#dataset_interaction_raw), if you are using pandas, we recommend opening using the following. We also offer an example of reading only the first 1000000 rows. For querying the entire dataset, please remove this constraint and run:"
   ]
  },
  {
   "cell_type": "code",
   "execution_count": 20,
   "metadata": {},
   "outputs": [],
   "source": [
    "#disambiguated_df = pd.read_csv(ROOT_DATA_DIR + 'disambiguated/comm_disambiguated.tsv.gz', sep = '\\\\t', engine = 'python', compression = 'gzip')"
   ]
  },
  {
   "cell_type": "code",
   "execution_count": null,
   "metadata": {},
   "outputs": [],
   "source": [
    "disambiguated_df = pd.read_csv(ROOT_DATA_DIR + 'disambiguated/comm_disambiguated.tsv.gz', sep = '\\\\t', engine = 'python', compression = 'gzip', nrows = 10000000)"
   ]
  },
  {
   "cell_type": "markdown",
   "metadata": {},
   "source": [
    "Note that due to its size, reading the entire file will take quite a long time to open (~20 min)"
   ]
  },
  {
   "cell_type": "markdown",
   "metadata": {},
   "source": [
    "Let's start by looking at a few samples:"
   ]
  },
  {
   "cell_type": "code",
   "execution_count": null,
   "metadata": {},
   "outputs": [],
   "source": [
    "pd.set_option('max_colwidth', 50)\n",
    "disambiguated_df.sample(3)"
   ]
  },
  {
   "cell_type": "markdown",
   "metadata": {},
   "source": [
    "We can look at the fields we have available"
   ]
  },
  {
   "cell_type": "code",
   "execution_count": null,
   "metadata": {},
   "outputs": [],
   "source": [
    "disambiguated_df.columns"
   ]
  },
  {
   "cell_type": "markdown",
   "metadata": {},
   "source": [
    "The fields in this dataset are largely the same as the ones in the **raw** dataset. As a reminder: \n",
    "- **software** : the software mention extracted by the NER algorithm from **text**\n",
    "- **version** : software version as extracted by the NER algorithm (note that not all mentions will have this)\n",
    "- **text** : text that **software** is being extracted from\n",
    "- **curation_label** : label assigned to software mention by our curators \n",
    "\n",
    "These are all fields we've seen before in the **raw** dataset. However, now we get an extra field:\n",
    "\n",
    "- **mapped_to_software** : software entity (or cluster) the **software** mention is predicted to be part of; this is the result of disambiguation\n",
    "\n",
    "As a reminder, for a full definition of all of the fields, please take a look at the [Dataset_README.md](link) file in our [Github repo](https://github.com/chanzuckerberg/software-mentions). \n",
    "\n",
    "Now let's get started exploring the disambiguated dataset!"
   ]
  },
  {
   "cell_type": "markdown",
   "metadata": {},
   "source": [
    "For mentions we were not able to disambiguate, we set the **mapped_to_software** field to the value of the **software** mention itself."
   ]
  },
  {
   "cell_type": "code",
   "execution_count": null,
   "metadata": {},
   "outputs": [],
   "source": [
    "def populate_map_to_software(x):\n",
    "    if x['mapped_to_software'] == 'not_disambiguated':\n",
    "        return x['software']\n",
    "    return x['mapped_to_software']"
   ]
  },
  {
   "cell_type": "code",
   "execution_count": null,
   "metadata": {},
   "outputs": [],
   "source": [
    "disambiguated_df['mapped_to_software'] = disambiguated_df.apply(populate_map_to_software, axis = 1)"
   ]
  },
  {
   "cell_type": "markdown",
   "metadata": {},
   "source": [
    "<a id='dataset_interaction_disambiguated_motivation'></a>\n",
    "#### 1. Why do we need disambiguation? \n",
    "\n",
    "First, let's understand more why we would want to disambiguate the software mentions. \n",
    "[In the previous section](#dataset_interaction_disambiguated_freq_samples), we already started to see that the same software can be extracted by the NER model from a paper under different string variations. Let's look at a few more examples, to drive the point home."
   ]
  },
  {
   "cell_type": "markdown",
   "metadata": {},
   "source": [
    "<a id='dataset_interaction_disambiguated_motivation_scipy'></a>\n",
    "##### SciPy\n",
    "We have already looked at **SciPy** in the previous section. But *'SciPy'* is not the only string variation authors can mention the software **SciPy** in their papers, or in which the NER model might extract a string that points to the **SciPy** software entry. Some possible variations that the NER model could extract are: `['scipy', 'Scipy', 'SciPy', 'SCIPY']`. Let's see  how these can appear in the dataset. <br> \n",
    "Note that for simplification, we're only outputting the **pmid**, **text** and **software**."
   ]
  },
  {
   "cell_type": "code",
   "execution_count": null,
   "metadata": {},
   "outputs": [],
   "source": [
    "relevant_fields = ['pmid', 'text', 'software']\n",
    "num_samples = 5\n",
    "raw_df[raw_df['software'] == 'scipy'][relevant_fields][:num_samples]"
   ]
  },
  {
   "cell_type": "code",
   "execution_count": null,
   "metadata": {},
   "outputs": [],
   "source": [
    "raw_df[raw_df['software'] == 'Scipy'][relevant_fields][:num_samples]"
   ]
  },
  {
   "cell_type": "code",
   "execution_count": null,
   "metadata": {},
   "outputs": [],
   "source": [
    "raw_df[raw_df['software'] == 'SciPy'][relevant_fields][:num_samples]"
   ]
  },
  {
   "cell_type": "code",
   "execution_count": null,
   "metadata": {},
   "outputs": [],
   "source": [
    "raw_df[raw_df['software'] == 'SCIPY'][relevant_fields][:num_samples]"
   ]
  },
  {
   "cell_type": "markdown",
   "metadata": {},
   "source": [
    "Let's look at a few more examples! Note that in each case, we are only showcasing a **few** string variations as an example. However, software entities can have hundreds of string variations, as extracted by the NER model. For more examples of this and a discussion, please visit our preprint."
   ]
  },
  {
   "cell_type": "markdown",
   "metadata": {},
   "source": [
    "<a id='dataset_interaction_disambiguated_motivation_BLAST'></a>\n",
    "##### BLAST\n",
    "Some example of string variations can be: `['BLAST', '(BLAST)', 'BLAST Whole Genome', 'BLAST) search']`"
   ]
  },
  {
   "cell_type": "code",
   "execution_count": null,
   "metadata": {},
   "outputs": [],
   "source": [
    "raw_df[raw_df['software'] == 'BLAST'][relevant_fields][:num_samples]"
   ]
  },
  {
   "cell_type": "code",
   "execution_count": null,
   "metadata": {},
   "outputs": [],
   "source": [
    "raw_df[raw_df['software'] == '(BLAST)'][relevant_fields][:num_samples]"
   ]
  },
  {
   "cell_type": "code",
   "execution_count": null,
   "metadata": {},
   "outputs": [],
   "source": [
    "raw_df[raw_df['software'] == 'BLAST Whole Genome'][relevant_fields][:num_samples]"
   ]
  },
  {
   "cell_type": "code",
   "execution_count": null,
   "metadata": {},
   "outputs": [],
   "source": [
    "raw_df[raw_df['software'] == 'BLAST) search'][relevant_fields][:num_samples]"
   ]
  },
  {
   "cell_type": "markdown",
   "metadata": {},
   "source": [
    "<a id='dataset_interaction_disambiguated_motivation_sklearn'></a>\n",
    "##### scikit-learn\n",
    "\n",
    "Example string variations:\n",
    "`['scikit-learn', 'scikit-learn python package', 'scikit-learn python library', 'scikit-learn python', 'scikit-learn library for Python', 'scikit-learn Python package2223']`"
   ]
  },
  {
   "cell_type": "code",
   "execution_count": null,
   "metadata": {},
   "outputs": [],
   "source": [
    "raw_df[raw_df['software'] == 'scikit-learn'][relevant_fields][:num_samples]"
   ]
  },
  {
   "cell_type": "code",
   "execution_count": null,
   "metadata": {},
   "outputs": [],
   "source": [
    "raw_df[raw_df['software'] == 'scikit-learn python package'][relevant_fields][:num_samples]"
   ]
  },
  {
   "cell_type": "code",
   "execution_count": null,
   "metadata": {},
   "outputs": [],
   "source": [
    "raw_df[raw_df['software'] == 'scikit-learn python library'][relevant_fields][:num_samples]"
   ]
  },
  {
   "cell_type": "code",
   "execution_count": null,
   "metadata": {},
   "outputs": [],
   "source": [
    "raw_df[raw_df['software'] == 'scikit-learn python'][relevant_fields][:num_samples]"
   ]
  },
  {
   "cell_type": "code",
   "execution_count": null,
   "metadata": {},
   "outputs": [],
   "source": [
    "raw_df[raw_df['software'] == 'scikit-learn library for Python'][relevant_fields][:num_samples]"
   ]
  },
  {
   "cell_type": "code",
   "execution_count": null,
   "metadata": {},
   "outputs": [],
   "source": [
    "raw_df[raw_df['software'] == 'scikit-learn Python package2223'][relevant_fields][:num_samples]"
   ]
  },
  {
   "cell_type": "markdown",
   "metadata": {},
   "source": [
    "<a id='dataset_interaction_disambiguated_motivation_ImageJ'></a>\n",
    "##### ImageJ\n",
    "\n",
    "Example string variations:\n",
    "`['ImageJ', 'Image J']`"
   ]
  },
  {
   "cell_type": "code",
   "execution_count": null,
   "metadata": {},
   "outputs": [],
   "source": [
    "raw_df[raw_df['software'] == 'ImageJ'][relevant_fields][:num_samples]"
   ]
  },
  {
   "cell_type": "code",
   "execution_count": null,
   "metadata": {},
   "outputs": [],
   "source": [
    "raw_df[raw_df['software'] == 'Image J'][relevant_fields][:num_samples]"
   ]
  },
  {
   "cell_type": "markdown",
   "metadata": {},
   "source": [
    "<a id='dataset_interaction_disambiguated_motivation_MATLAB'></a>\n",
    "#### MATLAB\n",
    "Example string variations:\n",
    "`['MaTLab', 'MatLAB', 'MatLab', 'Matlab', 'MATLAB, Statistics and Machine Learning Toolbox', 'mAtLab)', 'Matlab)']`"
   ]
  },
  {
   "cell_type": "code",
   "execution_count": null,
   "metadata": {},
   "outputs": [],
   "source": [
    "raw_df[raw_df['software'] == 'MaTLab'][relevant_fields][:num_samples]"
   ]
  },
  {
   "cell_type": "code",
   "execution_count": null,
   "metadata": {},
   "outputs": [],
   "source": [
    "raw_df[raw_df['software'] == 'MatLAB'][relevant_fields][:num_samples]"
   ]
  },
  {
   "cell_type": "code",
   "execution_count": null,
   "metadata": {},
   "outputs": [],
   "source": [
    "raw_df[raw_df['software'] == 'MaTLab'][relevant_fields][:num_samples]"
   ]
  },
  {
   "cell_type": "code",
   "execution_count": null,
   "metadata": {},
   "outputs": [],
   "source": [
    "raw_df[raw_df['software'] == 'MatLab'][relevant_fields][:num_samples]"
   ]
  },
  {
   "cell_type": "code",
   "execution_count": null,
   "metadata": {},
   "outputs": [],
   "source": [
    "raw_df[raw_df['software'] == 'Matlab'][relevant_fields][:num_samples]"
   ]
  },
  {
   "cell_type": "markdown",
   "metadata": {},
   "source": [
    "<a id='dataset_interaction_disambiguated_dataset_query'></a>\n",
    "#### Query the dataset for a particular software, including all string variations\n",
    "\n",
    "Great! So now that we saw the benefit of disambiguating the software terms, let's see how we can query our disambiguated dataset and interact with it. Let's start by going back to searching for the **scipy** entry. <BR>"
   ]
  },
  {
   "cell_type": "code",
   "execution_count": null,
   "metadata": {},
   "outputs": [],
   "source": [
    "software = 'scipy'\n",
    "disambiguated_df[disambiguated_df['software'] == software].head(3)"
   ]
  },
  {
   "cell_type": "markdown",
   "metadata": {},
   "source": [
    "We see that the **mapped_to_software** field for the entries in which **software** is **scipy** is **SciPy**, which means that the plain-text software mention **scipy** got mapped to the **SciPy** software entity through disambiguation. We can also obtain this by:"
   ]
  },
  {
   "cell_type": "code",
   "execution_count": null,
   "metadata": {},
   "outputs": [],
   "source": [
    "mapped_to = disambiguated_df[disambiguated_df['software'] == software]['mapped_to_software'].values[0]\n",
    "print('The', software, 'mention got mapped to the', mapped_to, 'software entity')"
   ]
  },
  {
   "cell_type": "code",
   "execution_count": null,
   "metadata": {},
   "outputs": [],
   "source": [
    "mapped_to"
   ]
  },
  {
   "cell_type": "markdown",
   "metadata": {},
   "source": [
    "Now, let's look at all the other entries that got mapped to the same entry:"
   ]
  },
  {
   "cell_type": "code",
   "execution_count": null,
   "metadata": {},
   "outputs": [],
   "source": [
    "mapped_to_df = disambiguated_df[disambiguated_df['mapped_to_software'] == mapped_to]"
   ]
  },
  {
   "cell_type": "markdown",
   "metadata": {},
   "source": [
    "Now we can retrieve all of the string variations that map to the same entry:"
   ]
  },
  {
   "cell_type": "code",
   "execution_count": null,
   "metadata": {},
   "outputs": [],
   "source": [
    "string_variations = mapped_to_df['software'].unique()\n",
    "print('Here are other potential string variations for', software, 'as given by the disambiguation algorithm')\n",
    "print(string_variations)"
   ]
  },
  {
   "cell_type": "markdown",
   "metadata": {},
   "source": [
    "<a id='dataset_interaction_disambiguated_examples'></a>\n",
    "#### Examples of disambiguated software terms\n",
    "\n",
    "Now let's look at a few more examples! For the software mentions below, we will retrieve the software entity they get mapped to, and what other string variations they can appear under"
   ]
  },
  {
   "cell_type": "code",
   "execution_count": null,
   "metadata": {
    "scrolled": false
   },
   "outputs": [],
   "source": [
    "software_mentions = ['BLAST', 'sklearn', 'SciPy', 'SPSS', 'ImageJ', 'limma', 'BERT', 'scikit-image', \n",
    "                    'GraphPad Prism']\n",
    "\n",
    "for software in software_mentions:\n",
    "    mapped_to = disambiguated_df[disambiguated_df['software'] == software]['mapped_to_software'].values[0]\n",
    "    mapped_to_df = disambiguated_df[disambiguated_df['mapped_to_software'] == mapped_to]\n",
    "    string_variations = mapped_to_df['software'].unique()\n",
    "    print(software, 'got mapped to the', mapped_to, 'software entity')\n",
    "    print('There are', len(string_variations), 'other potential string variations')\n",
    "    print('Some of these are:')\n",
    "    print('='*30)\n",
    "    print(string_variations[:50]) #only printing 50 for visibility"
   ]
  },
  {
   "cell_type": "markdown",
   "metadata": {},
   "source": [
    "<a id='dataset_interaction_disambiguated_most_frequent_mentions'></a>\n",
    "\n",
    "#### Example: Retrieve the most frequent software mentions based on disambiguated dataset\n",
    "\n",
    "Now let's look at getting the most frequent terms in our dataset, bassed on the **mapped_to** field\n",
    "It is the same command as on the [**raw** dataset](#dataset_interaction_raw_most_frequent_mentions), except that now we change the **software** field for the **mapped_to_software** field. Now the counts should be aggregated over *all* the string variations, as outputted by the disambiguation algorithm."
   ]
  },
  {
   "cell_type": "code",
   "execution_count": null,
   "metadata": {},
   "outputs": [],
   "source": [
    "disambiguated_df_aggregated = raw_df.groupby('software').nunique().sort_values(by = 'pmid', ascending = False)\n",
    "disambiguated_df_aggregated[:20]"
   ]
  },
  {
   "cell_type": "markdown",
   "metadata": {},
   "source": [
    "Let's remind ourselves the most frequent terms on the raw dataset:"
   ]
  },
  {
   "cell_type": "code",
   "execution_count": null,
   "metadata": {},
   "outputs": [],
   "source": [
    "raw_df_aggregated[:20]"
   ]
  },
  {
   "cell_type": "markdown",
   "metadata": {},
   "source": [
    "Note that the counts on the **disambiguated** and the **raw** dataset splits are different. This is because now, we are aggregating over multiple string variations for each string. "
   ]
  },
  {
   "cell_type": "markdown",
   "metadata": {},
   "source": [
    "<a id='dataset_interaction_linked'></a>\n",
    "### linked files\n",
    "\n",
    "We queried a number of databases, searching for exact matches for plain text sofware mentions in the `comm` collection. The databases we queryied are: \n",
    "- [PyPI Index](https://pypi.org/simple/)\n",
    "- [Bioconductor Index](https://www.bioconductor.org/packages/release/bioc/)\n",
    "- [CRAN Index](https://cran.r-project.org/web/packages/available_packages_by_name.html)\n",
    "- [GitHub API](https://github.com)\n",
    "- [SciCrunch API](https://scicrunch.org/resources)\n",
    "\n",
    "We describe in detail the methodology we used to obtain the links in our preprint, as well as in our [Github Repository](https://github.com/chanzuckerberg/software-mentions/tree/main/software-mentions-linker-disambiguator)\n",
    "\n",
    "We compiled this information in the `metadata.tsv.gz` file, which is assumed to be under the `linked` directory, as described in the [Interacting with the dataset Section](#dataset_interaction)"
   ]
  },
  {
   "cell_type": "markdown",
   "metadata": {},
   "source": [
    "The **linked** files contain metadata links, extracted through the linking algorithm. There is only one file to interact with:\n",
    "- metadata.tsv.gz\n",
    "\n",
    "The file is also stored as GZIP archive. Similarly to the [**raw** datasets](#dataset_interaction_raw), if you are using pandas, we recommend opening using the following:"
   ]
  },
  {
   "cell_type": "code",
   "execution_count": null,
   "metadata": {},
   "outputs": [],
   "source": [
    "linked_df = pd.read_csv(ROOT_DATA_DIR + 'linked/metadata.tsv.gz', sep = '\\\\t', engine = 'python', compression = 'gzip')"
   ]
  },
  {
   "cell_type": "markdown",
   "metadata": {},
   "source": [
    "Let's start by looking at a few samples:"
   ]
  },
  {
   "cell_type": "code",
   "execution_count": null,
   "metadata": {},
   "outputs": [],
   "source": [
    "linked_df.sample(3)"
   ]
  },
  {
   "cell_type": "markdown",
   "metadata": {},
   "source": [
    "We can look at the fields we have available"
   ]
  },
  {
   "cell_type": "code",
   "execution_count": null,
   "metadata": {},
   "outputs": [],
   "source": [
    "linked_df.columns"
   ]
  },
  {
   "cell_type": "markdown",
   "metadata": {},
   "source": [
    "We describe the fields in details on the Github repository, under [Linking Schema](https://github.com/chanzuckerberg/software-mentions/tree/main/software-mentions-linker-disambiguator#linking-schema)\n",
    "\n",
    "Now let's explore the information we have available!"
   ]
  },
  {
   "cell_type": "markdown",
   "metadata": {},
   "source": [
    "<a id='dataset_interaction_linked'></a>\n",
    "#### Examples of linked software terms\n",
    "\n",
    "Let's start by querying a number of software mentions, to see what links we get. We can start with the previous set of software mentions we looked at: ***'BLAST', 'sklearn', 'SciPy', 'SPSS', 'ImageJ', 'limma', 'BERT', 'scikit-image', 'GraphPad Prism'***"
   ]
  },
  {
   "cell_type": "markdown",
   "metadata": {},
   "source": [
    "##### BLAST"
   ]
  },
  {
   "cell_type": "code",
   "execution_count": null,
   "metadata": {},
   "outputs": [],
   "source": [
    "linked_df[linked_df['software'] == 'BLAST']"
   ]
  },
  {
   "cell_type": "markdown",
   "metadata": {},
   "source": [
    "##### sklearn"
   ]
  },
  {
   "cell_type": "code",
   "execution_count": null,
   "metadata": {},
   "outputs": [],
   "source": [
    "linked_df[linked_df['software'] == 'sklearn']"
   ]
  },
  {
   "cell_type": "markdown",
   "metadata": {},
   "source": [
    "##### SciPy"
   ]
  },
  {
   "cell_type": "code",
   "execution_count": null,
   "metadata": {},
   "outputs": [],
   "source": [
    "linked_df[linked_df['software'] == 'SciPy']"
   ]
  },
  {
   "cell_type": "markdown",
   "metadata": {},
   "source": [
    "##### SPSS"
   ]
  },
  {
   "cell_type": "code",
   "execution_count": null,
   "metadata": {},
   "outputs": [],
   "source": [
    "linked_df[linked_df['software'] == 'SPSS']"
   ]
  },
  {
   "cell_type": "markdown",
   "metadata": {},
   "source": [
    "##### ImageJ"
   ]
  },
  {
   "cell_type": "code",
   "execution_count": null,
   "metadata": {},
   "outputs": [],
   "source": [
    "linked_df[linked_df['software'] == 'ImageJ']"
   ]
  },
  {
   "cell_type": "markdown",
   "metadata": {},
   "source": [
    "##### limma"
   ]
  },
  {
   "cell_type": "code",
   "execution_count": null,
   "metadata": {},
   "outputs": [],
   "source": [
    "linked_df[linked_df['software'] == 'limma']"
   ]
  },
  {
   "cell_type": "markdown",
   "metadata": {},
   "source": [
    "##### BERT"
   ]
  },
  {
   "cell_type": "code",
   "execution_count": null,
   "metadata": {},
   "outputs": [],
   "source": [
    "linked_df[linked_df['software'] == 'BERT']"
   ]
  },
  {
   "cell_type": "markdown",
   "metadata": {},
   "source": [
    "##### scikit-image"
   ]
  },
  {
   "cell_type": "code",
   "execution_count": null,
   "metadata": {},
   "outputs": [],
   "source": [
    "linked_df[linked_df['software'] == 'scikit-image']"
   ]
  },
  {
   "cell_type": "markdown",
   "metadata": {},
   "source": [
    "<a id='dataset_interaction_linked_metadata_fields'></a>\n",
    "#### Exploration of metadata fields\n",
    "\n",
    "In this section, we want to offer some examples of the type of metadata we are able to retrieve through the links we created. <br>\n",
    "First, let's remind ourselves the fields we have available:"
   ]
  },
  {
   "cell_type": "code",
   "execution_count": null,
   "metadata": {},
   "outputs": [],
   "source": [
    "linked_df.columns"
   ]
  },
  {
   "cell_type": "markdown",
   "metadata": {},
   "source": [
    "And here is a full description of the metadata fields:\n",
    "\n",
    "| field | description |\n",
    "| :--- | :--- |\n",
    "| **ID** \t| unique ID of software mention (generated by us) |\n",
    "| **software_mention**\t| plain-text software mention |\n",
    "| **mapped_to**\t| value the software_mention is being mapped to |\n",
    "| **source**\t| source of the mapping - eg Bioconductor Index, GitHub API |\n",
    "| **platform**\t| platform of software_mention - eg PyPI, CRAN |\n",
    "| **package_url**\t| URL linking software_mention to source |\n",
    "| **description**\t| description of software_mention |\n",
    "| **homepage_url**\t| homepage_url of software_mention |\n",
    "| **other_urls**\t| other related URLs |\n",
    "| **license**\t| software license |\n",
    "| **github_repo**\t| GitHub repository |\n",
    "| **github_repo_license**\t| GitHub repository license |\n",
    "| **exact_match**\t| whether or not this mapping was an exact match |\n",
    "| **RRID**\t| RRID for software_mention |\n",
    "| **reference**\t| journal articles linked to software_mention (identified either through DOI, pmid or RRID) |\n",
    "| **scicrunch_synonyms**\t| synonyms for software_mention, retrieved from Scicrunch |"
   ]
  },
  {
   "cell_type": "markdown",
   "metadata": {},
   "source": [
    "##### package_url + description\n",
    "Examples for the software entities:"
   ]
  },
  {
   "cell_type": "code",
   "execution_count": null,
   "metadata": {},
   "outputs": [],
   "source": [
    "linked_df[linked_df['software'] == software][['software', 'package_url', 'description']]"
   ]
  },
  {
   "cell_type": "markdown",
   "metadata": {},
   "source": [
    "##### homepage_url + other_urls\n",
    "Examples for the software entities:"
   ]
  },
  {
   "cell_type": "code",
   "execution_count": null,
   "metadata": {},
   "outputs": [],
   "source": [
    "linked_df[linked_df['software'] == software][['software', 'homepage_url', 'other_urls']]"
   ]
  },
  {
   "cell_type": "markdown",
   "metadata": {},
   "source": [
    "##### github_repo + github_repo_license\n",
    "Examples for the software entities:"
   ]
  },
  {
   "cell_type": "code",
   "execution_count": null,
   "metadata": {},
   "outputs": [],
   "source": [
    "linked_df[linked_df['software'] == software][['software', 'github_repo', 'github_repo_license']]"
   ]
  },
  {
   "cell_type": "markdown",
   "metadata": {},
   "source": [
    "##### RRID\n",
    "Examples for the software entities:"
   ]
  },
  {
   "cell_type": "code",
   "execution_count": null,
   "metadata": {},
   "outputs": [],
   "source": [
    "linked_df[linked_df['software'] == software][['software', 'RRID']]"
   ]
  },
  {
   "cell_type": "markdown",
   "metadata": {},
   "source": [
    "##### reference\n",
    "Examples for the software entities:"
   ]
  },
  {
   "cell_type": "code",
   "execution_count": null,
   "metadata": {},
   "outputs": [],
   "source": [
    "linked_df[linked_df['software'] == software][['software', 'reference']]"
   ]
  },
  {
   "cell_type": "markdown",
   "metadata": {},
   "source": [
    "##### scicrunch_synonyms\n",
    "Examples for the software entities:"
   ]
  },
  {
   "cell_type": "code",
   "execution_count": null,
   "metadata": {},
   "outputs": [],
   "source": [
    "linked_df[linked_df['software'] == software][['software', 'scicrunch_synonyms']]"
   ]
  },
  {
   "cell_type": "markdown",
   "metadata": {},
   "source": [
    "##### platform\n",
    "Examples for the software entities:"
   ]
  },
  {
   "cell_type": "code",
   "execution_count": null,
   "metadata": {},
   "outputs": [],
   "source": [
    "linked_df[linked_df['software'] == software][['software', 'platform']]"
   ]
  },
  {
   "cell_type": "markdown",
   "metadata": {},
   "source": [
    "##### license\n",
    "Examples for the software entities:"
   ]
  },
  {
   "cell_type": "code",
   "execution_count": null,
   "metadata": {},
   "outputs": [],
   "source": [
    "linked_df[linked_df['software'] == software][['software', 'license']]"
   ]
  },
  {
   "cell_type": "markdown",
   "metadata": {},
   "source": [
    "<a id='dataset_interaction_linked_query'></a>\n",
    "## Query the dataset for a particular software, retrieving all the data\n",
    "In this section, we offer an example of querying the dataset end2end for a particular software entitiy, retrieving all of the available information <br>\n",
    "Let's take for example the software_mention **scikit-learn**\n"
   ]
  },
  {
   "cell_type": "markdown",
   "metadata": {},
   "source": [
    "###### 1. Retrieve software entity mapping"
   ]
  },
  {
   "cell_type": "code",
   "execution_count": null,
   "metadata": {},
   "outputs": [],
   "source": [
    "software_mention = 'scikit-learn'\n",
    "mention_df = disambiguated_df[disambiguated_df['software'] == software_mention]"
   ]
  },
  {
   "cell_type": "code",
   "execution_count": null,
   "metadata": {},
   "outputs": [],
   "source": [
    "software_mention_mapping = disambiguated_df[disambiguated_df['software'] == software_mention]['mapped_to'].values[0]\n",
    "print('Mapped', software_mention, 'to', software_mention_mapping)"
   ]
  },
  {
   "cell_type": "markdown",
   "metadata": {},
   "source": [
    "###### 2. Retrieve string variations"
   ]
  },
  {
   "cell_type": "code",
   "execution_count": null,
   "metadata": {},
   "outputs": [],
   "source": [
    "string_variations = disambiguated_df[disambiguated_df['software'] == software_mention_mapping]['software'].unique\n",
    "print('String variations for', software_mention_mapping)\n",
    "print('=' * 30)\n",
    "print(string_variations)"
   ]
  },
  {
   "cell_type": "markdown",
   "metadata": {},
   "source": [
    "###### 3. Retrieve total number of unique publications mention appears in"
   ]
  },
  {
   "cell_type": "markdown",
   "metadata": {},
   "source": [
    "###### undisambiguated"
   ]
  },
  {
   "cell_type": "code",
   "execution_count": null,
   "metadata": {},
   "outputs": [],
   "source": [
    "num_counts_undisambiguated = disambiguated_df[disambiguated_df['software'] == software_mention]['pmid'].nunique()\n",
    "print(software_mention, 'appears in', num_counts_undisambiguated, 'number of PMIDs')"
   ]
  },
  {
   "cell_type": "markdown",
   "metadata": {},
   "source": [
    "###### disambiguated"
   ]
  },
  {
   "cell_type": "code",
   "execution_count": null,
   "metadata": {},
   "outputs": [],
   "source": [
    "num_counts_disambiguated = disambiguated_df[disambiguated_df['software'] == software_mention_mapping]['pmid'].nunique()\n",
    "print(software_mention, 'is mapped to', software_mention_mapping, 'which appears in', num_counts_disambiguated, 'number of PMIDs')"
   ]
  },
  {
   "cell_type": "markdown",
   "metadata": {},
   "source": [
    "###### 4. Retrieve metadata"
   ]
  },
  {
   "cell_type": "code",
   "execution_count": null,
   "metadata": {},
   "outputs": [],
   "source": [
    "software_mention_medatada = linked_df[linked_df['software'] == software_mention]"
   ]
  },
  {
   "cell_type": "code",
   "execution_count": null,
   "metadata": {},
   "outputs": [],
   "source": [
    "software_mention_medatada"
   ]
  },
  {
   "cell_type": "markdown",
   "metadata": {},
   "source": [
    "<a id='prompts'></a>\n",
    "\n",
    "That's it! This notebook serves as a starting point for showcasing how particular research questions might be answered using the data available in the **CZI Software Mentions Dataset**. It is our hope that it sparks further analyses and interesting research directions. <br>\n",
    "\n",
    "**A non-exhaustive list potential questions to consider next is:**\n",
    "1. Understanding the context in which a software mention appears. Ideas include using topic modeling, pretrained language models embeddings or models for citation intent classification. \n",
    "2. Drawing better insights about usage of software in particular fields by incorporating other metadata about a paper, such as  MESH terms, author provided-keywords, title, or abstract\n",
    "3. Explore measure of impact for software, such as Eigenfactor\n",
    "4. Looking into open-access policies of most used or impactful software, and how that varies in particular fields\n",
    "5. Exploring differences in how software usage varies over time\n",
    "\n",
    "\n",
    "We are excited about the work that will build on top of the **CZI Software Mentions Dataset** and can't wait to see what other ideas you come up with!"
   ]
  },
  {
   "cell_type": "markdown",
   "metadata": {},
   "source": [
    "### References\n",
    "\n",
    "<a id='references_scibert'>1. Beltagy, Iz, Kyle Lo, and Arman Cohan. \"SciBERT: A pretrained language model for scientific text.\" arXiv preprint arXiv:1903.10676 (2019).</a> <br>\n",
    "<a id='references_dbscan'>2. Ester, Martin, et al. \"A density-based algorithm for discovering clusters in large spatial databases with noise.\" kdd. Vol. 96. No. 34. 1996.</a>"
   ]
  }
 ],
 "metadata": {
  "kernelspec": {
   "display_name": "Python 3",
   "language": "python",
   "name": "python3"
  },
  "language_info": {
   "codemirror_mode": {
    "name": "ipython",
    "version": 3
   },
   "file_extension": ".py",
   "mimetype": "text/x-python",
   "name": "python",
   "nbconvert_exporter": "python",
   "pygments_lexer": "ipython3",
   "version": "3.8.3"
  }
 },
 "nbformat": 4,
 "nbformat_minor": 4
}
