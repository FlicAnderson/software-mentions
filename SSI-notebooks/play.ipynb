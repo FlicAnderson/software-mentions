{
 "cells": [
  {
   "cell_type": "markdown",
   "metadata": {},
   "source": [
    "# Ideas for SSI policy research\n",
    "\n",
    "Use existing datasets of software mentions in publications or preprints to analyse aspects of how research software projects have changed over time, or differ between disciplines.\n",
    "\n",
    "Input datasources:\n",
    "- CZI Software Mentions (includes extracted github links)\n",
    "- Softcite Software Mentions (doesn’t include github links) \n",
    "- crawl ePrints to extract github links and associate with appropriate metadata, to create an equivalent set\n",
    "\n",
    "Potential questions:\n",
    "- How has preferred license changed over time?\n",
    "- How has team size (number of concurrent contributors?) changed over time?\n",
    "- How has commit frequency changed over time?\n",
    "- How has linkage to other research outputs (e.g. DOIs to datasets, papers being included in READMEs) changed over time?\n",
    "- License in context of topic (keywords etc)"
   ]
  },
  {
   "attachments": {},
   "cell_type": "markdown",
   "metadata": {},
   "source": [
    "## How to run this notebook\n",
    "\n",
    "Install the following additional requirements in your environment:\n",
    "\n",
    "- [PyGithub](https://pygithub.readthedocs.io/en/latest/)\n",
    "- [tqdm](https://github.com/tqdm/tqdm#installation)\n",
    "- [matplortlib](https://matplotlib.org/stable/users/getting_started/index.html)\n",
    "\n",
    "Download the [CZI dataset](https://datadryad.org/stash/dataset/doi:10.5061/dryad.6wwpzgn2c) and place it in the root of this repository, in a folder called `data`.\n",
    "\n",
    "In order not to run into the GitHub API requests limit immediately, [create an access token (classic)](https://docs.github.com/en/authentication/keeping-your-account-and-data-secure/creating-a-personal-access-token#creating-a-personal-access-token-classic). Then, create a file called `config.cfg` at the root of this repository, with the following content:\n",
    "\n",
    "```bash\n",
    "[ACCESS]\n",
    "token = <your-access-token>\n",
    "```\n",
    "\n",
    "You should be all set up now and able to run the code below."
   ]
  },
  {
   "cell_type": "code",
   "execution_count": 5,
   "metadata": {},
   "outputs": [],
   "source": [
    "import pandas as pd\n",
    "import numpy as np\n",
    "pd.set_option('max_colwidth', 1000)"
   ]
  },
  {
   "cell_type": "code",
   "execution_count": 6,
   "metadata": {},
   "outputs": [],
   "source": [
    "import requests\n",
    "from github import Github\n",
    "import datetime\n",
    "from tqdm import tqdm\n",
    "import matplotlib.pyplot as plt"
   ]
  },
  {
   "cell_type": "code",
   "execution_count": 7,
   "metadata": {},
   "outputs": [],
   "source": [
    "ROOT_DATA_DIR = '../data/'"
   ]
  },
  {
   "cell_type": "code",
   "execution_count": 8,
   "metadata": {},
   "outputs": [
    {
     "name": "stdout",
     "output_type": "stream",
     "text": [
      "/home/flic/software-mentions/SSI-notebooks\n"
     ]
    }
   ],
   "source": [
    "# Get Config\n",
    "import configparser\n",
    "import os\n",
    "print(os.getcwd())\n",
    "\n",
    "config = configparser.ConfigParser()\n",
    "config.read('../config.cfg')\n",
    "config.sections()\n",
    "\n",
    "access_token = config['ACCESS']['token']"
   ]
  },
  {
   "cell_type": "markdown",
   "metadata": {},
   "source": [
    "## Dataset: GitHub linked software\n",
    "\n",
    "Concentrating on software linked on GitHub for now."
   ]
  },
  {
   "cell_type": "code",
   "execution_count": 9,
   "metadata": {},
   "outputs": [
    {
     "name": "stderr",
     "output_type": "stream",
     "text": [
      "/tmp/ipykernel_43005/2743849696.py:1: FutureWarning: The error_bad_lines argument has been deprecated and will be removed in a future version. Use on_bad_lines in the future.\n",
      "\n",
      "\n",
      "  linked_df = pd.read_csv(ROOT_DATA_DIR + 'linked/metadata.tsv.gz', sep = '\\\\t', engine = 'python', compression = 'gzip', error_bad_lines = False)\n"
     ]
    },
    {
     "ename": "FileNotFoundError",
     "evalue": "[Errno 2] No such file or directory: '../data/linked/metadata.tsv.gz'",
     "output_type": "error",
     "traceback": [
      "\u001b[0;31m---------------------------------------------------------------------------\u001b[0m",
      "\u001b[0;31mFileNotFoundError\u001b[0m                         Traceback (most recent call last)",
      "Cell \u001b[0;32mIn[9], line 1\u001b[0m\n\u001b[0;32m----> 1\u001b[0m linked_df \u001b[38;5;241m=\u001b[39m \u001b[43mpd\u001b[49m\u001b[38;5;241;43m.\u001b[39;49m\u001b[43mread_csv\u001b[49m\u001b[43m(\u001b[49m\u001b[43mROOT_DATA_DIR\u001b[49m\u001b[43m \u001b[49m\u001b[38;5;241;43m+\u001b[39;49m\u001b[43m \u001b[49m\u001b[38;5;124;43m'\u001b[39;49m\u001b[38;5;124;43mlinked/metadata.tsv.gz\u001b[39;49m\u001b[38;5;124;43m'\u001b[39;49m\u001b[43m,\u001b[49m\u001b[43m \u001b[49m\u001b[43msep\u001b[49m\u001b[43m \u001b[49m\u001b[38;5;241;43m=\u001b[39;49m\u001b[43m \u001b[49m\u001b[38;5;124;43m'\u001b[39;49m\u001b[38;5;130;43;01m\\\\\u001b[39;49;00m\u001b[38;5;124;43mt\u001b[39;49m\u001b[38;5;124;43m'\u001b[39;49m\u001b[43m,\u001b[49m\u001b[43m \u001b[49m\u001b[43mengine\u001b[49m\u001b[43m \u001b[49m\u001b[38;5;241;43m=\u001b[39;49m\u001b[43m \u001b[49m\u001b[38;5;124;43m'\u001b[39;49m\u001b[38;5;124;43mpython\u001b[39;49m\u001b[38;5;124;43m'\u001b[39;49m\u001b[43m,\u001b[49m\u001b[43m \u001b[49m\u001b[43mcompression\u001b[49m\u001b[43m \u001b[49m\u001b[38;5;241;43m=\u001b[39;49m\u001b[43m \u001b[49m\u001b[38;5;124;43m'\u001b[39;49m\u001b[38;5;124;43mgzip\u001b[39;49m\u001b[38;5;124;43m'\u001b[39;49m\u001b[43m,\u001b[49m\u001b[43m \u001b[49m\u001b[43merror_bad_lines\u001b[49m\u001b[43m \u001b[49m\u001b[38;5;241;43m=\u001b[39;49m\u001b[43m \u001b[49m\u001b[38;5;28;43;01mFalse\u001b[39;49;00m\u001b[43m)\u001b[49m\n",
      "File \u001b[0;32m~/miniconda3/envs/sw_mentions/lib/python3.10/site-packages/pandas/util/_decorators.py:211\u001b[0m, in \u001b[0;36mdeprecate_kwarg.<locals>._deprecate_kwarg.<locals>.wrapper\u001b[0;34m(*args, **kwargs)\u001b[0m\n\u001b[1;32m    209\u001b[0m     \u001b[38;5;28;01melse\u001b[39;00m:\n\u001b[1;32m    210\u001b[0m         kwargs[new_arg_name] \u001b[38;5;241m=\u001b[39m new_arg_value\n\u001b[0;32m--> 211\u001b[0m \u001b[38;5;28;01mreturn\u001b[39;00m \u001b[43mfunc\u001b[49m\u001b[43m(\u001b[49m\u001b[38;5;241;43m*\u001b[39;49m\u001b[43margs\u001b[49m\u001b[43m,\u001b[49m\u001b[43m \u001b[49m\u001b[38;5;241;43m*\u001b[39;49m\u001b[38;5;241;43m*\u001b[39;49m\u001b[43mkwargs\u001b[49m\u001b[43m)\u001b[49m\n",
      "File \u001b[0;32m~/miniconda3/envs/sw_mentions/lib/python3.10/site-packages/pandas/util/_decorators.py:331\u001b[0m, in \u001b[0;36mdeprecate_nonkeyword_arguments.<locals>.decorate.<locals>.wrapper\u001b[0;34m(*args, **kwargs)\u001b[0m\n\u001b[1;32m    325\u001b[0m \u001b[38;5;28;01mif\u001b[39;00m \u001b[38;5;28mlen\u001b[39m(args) \u001b[38;5;241m>\u001b[39m num_allow_args:\n\u001b[1;32m    326\u001b[0m     warnings\u001b[38;5;241m.\u001b[39mwarn(\n\u001b[1;32m    327\u001b[0m         msg\u001b[38;5;241m.\u001b[39mformat(arguments\u001b[38;5;241m=\u001b[39m_format_argument_list(allow_args)),\n\u001b[1;32m    328\u001b[0m         \u001b[38;5;167;01mFutureWarning\u001b[39;00m,\n\u001b[1;32m    329\u001b[0m         stacklevel\u001b[38;5;241m=\u001b[39mfind_stack_level(),\n\u001b[1;32m    330\u001b[0m     )\n\u001b[0;32m--> 331\u001b[0m \u001b[38;5;28;01mreturn\u001b[39;00m \u001b[43mfunc\u001b[49m\u001b[43m(\u001b[49m\u001b[38;5;241;43m*\u001b[39;49m\u001b[43margs\u001b[49m\u001b[43m,\u001b[49m\u001b[43m \u001b[49m\u001b[38;5;241;43m*\u001b[39;49m\u001b[38;5;241;43m*\u001b[39;49m\u001b[43mkwargs\u001b[49m\u001b[43m)\u001b[49m\n",
      "File \u001b[0;32m~/miniconda3/envs/sw_mentions/lib/python3.10/site-packages/pandas/io/parsers/readers.py:950\u001b[0m, in \u001b[0;36mread_csv\u001b[0;34m(filepath_or_buffer, sep, delimiter, header, names, index_col, usecols, squeeze, prefix, mangle_dupe_cols, dtype, engine, converters, true_values, false_values, skipinitialspace, skiprows, skipfooter, nrows, na_values, keep_default_na, na_filter, verbose, skip_blank_lines, parse_dates, infer_datetime_format, keep_date_col, date_parser, dayfirst, cache_dates, iterator, chunksize, compression, thousands, decimal, lineterminator, quotechar, quoting, doublequote, escapechar, comment, encoding, encoding_errors, dialect, error_bad_lines, warn_bad_lines, on_bad_lines, delim_whitespace, low_memory, memory_map, float_precision, storage_options)\u001b[0m\n\u001b[1;32m    935\u001b[0m kwds_defaults \u001b[38;5;241m=\u001b[39m _refine_defaults_read(\n\u001b[1;32m    936\u001b[0m     dialect,\n\u001b[1;32m    937\u001b[0m     delimiter,\n\u001b[0;32m   (...)\u001b[0m\n\u001b[1;32m    946\u001b[0m     defaults\u001b[38;5;241m=\u001b[39m{\u001b[38;5;124m\"\u001b[39m\u001b[38;5;124mdelimiter\u001b[39m\u001b[38;5;124m\"\u001b[39m: \u001b[38;5;124m\"\u001b[39m\u001b[38;5;124m,\u001b[39m\u001b[38;5;124m\"\u001b[39m},\n\u001b[1;32m    947\u001b[0m )\n\u001b[1;32m    948\u001b[0m kwds\u001b[38;5;241m.\u001b[39mupdate(kwds_defaults)\n\u001b[0;32m--> 950\u001b[0m \u001b[38;5;28;01mreturn\u001b[39;00m \u001b[43m_read\u001b[49m\u001b[43m(\u001b[49m\u001b[43mfilepath_or_buffer\u001b[49m\u001b[43m,\u001b[49m\u001b[43m \u001b[49m\u001b[43mkwds\u001b[49m\u001b[43m)\u001b[49m\n",
      "File \u001b[0;32m~/miniconda3/envs/sw_mentions/lib/python3.10/site-packages/pandas/io/parsers/readers.py:605\u001b[0m, in \u001b[0;36m_read\u001b[0;34m(filepath_or_buffer, kwds)\u001b[0m\n\u001b[1;32m    602\u001b[0m _validate_names(kwds\u001b[38;5;241m.\u001b[39mget(\u001b[38;5;124m\"\u001b[39m\u001b[38;5;124mnames\u001b[39m\u001b[38;5;124m\"\u001b[39m, \u001b[38;5;28;01mNone\u001b[39;00m))\n\u001b[1;32m    604\u001b[0m \u001b[38;5;66;03m# Create the parser.\u001b[39;00m\n\u001b[0;32m--> 605\u001b[0m parser \u001b[38;5;241m=\u001b[39m \u001b[43mTextFileReader\u001b[49m\u001b[43m(\u001b[49m\u001b[43mfilepath_or_buffer\u001b[49m\u001b[43m,\u001b[49m\u001b[43m \u001b[49m\u001b[38;5;241;43m*\u001b[39;49m\u001b[38;5;241;43m*\u001b[39;49m\u001b[43mkwds\u001b[49m\u001b[43m)\u001b[49m\n\u001b[1;32m    607\u001b[0m \u001b[38;5;28;01mif\u001b[39;00m chunksize \u001b[38;5;129;01mor\u001b[39;00m iterator:\n\u001b[1;32m    608\u001b[0m     \u001b[38;5;28;01mreturn\u001b[39;00m parser\n",
      "File \u001b[0;32m~/miniconda3/envs/sw_mentions/lib/python3.10/site-packages/pandas/io/parsers/readers.py:1442\u001b[0m, in \u001b[0;36mTextFileReader.__init__\u001b[0;34m(self, f, engine, **kwds)\u001b[0m\n\u001b[1;32m   1439\u001b[0m     \u001b[38;5;28mself\u001b[39m\u001b[38;5;241m.\u001b[39moptions[\u001b[38;5;124m\"\u001b[39m\u001b[38;5;124mhas_index_names\u001b[39m\u001b[38;5;124m\"\u001b[39m] \u001b[38;5;241m=\u001b[39m kwds[\u001b[38;5;124m\"\u001b[39m\u001b[38;5;124mhas_index_names\u001b[39m\u001b[38;5;124m\"\u001b[39m]\n\u001b[1;32m   1441\u001b[0m \u001b[38;5;28mself\u001b[39m\u001b[38;5;241m.\u001b[39mhandles: IOHandles \u001b[38;5;241m|\u001b[39m \u001b[38;5;28;01mNone\u001b[39;00m \u001b[38;5;241m=\u001b[39m \u001b[38;5;28;01mNone\u001b[39;00m\n\u001b[0;32m-> 1442\u001b[0m \u001b[38;5;28mself\u001b[39m\u001b[38;5;241m.\u001b[39m_engine \u001b[38;5;241m=\u001b[39m \u001b[38;5;28;43mself\u001b[39;49m\u001b[38;5;241;43m.\u001b[39;49m\u001b[43m_make_engine\u001b[49m\u001b[43m(\u001b[49m\u001b[43mf\u001b[49m\u001b[43m,\u001b[49m\u001b[43m \u001b[49m\u001b[38;5;28;43mself\u001b[39;49m\u001b[38;5;241;43m.\u001b[39;49m\u001b[43mengine\u001b[49m\u001b[43m)\u001b[49m\n",
      "File \u001b[0;32m~/miniconda3/envs/sw_mentions/lib/python3.10/site-packages/pandas/io/parsers/readers.py:1735\u001b[0m, in \u001b[0;36mTextFileReader._make_engine\u001b[0;34m(self, f, engine)\u001b[0m\n\u001b[1;32m   1733\u001b[0m     \u001b[38;5;28;01mif\u001b[39;00m \u001b[38;5;124m\"\u001b[39m\u001b[38;5;124mb\u001b[39m\u001b[38;5;124m\"\u001b[39m \u001b[38;5;129;01mnot\u001b[39;00m \u001b[38;5;129;01min\u001b[39;00m mode:\n\u001b[1;32m   1734\u001b[0m         mode \u001b[38;5;241m+\u001b[39m\u001b[38;5;241m=\u001b[39m \u001b[38;5;124m\"\u001b[39m\u001b[38;5;124mb\u001b[39m\u001b[38;5;124m\"\u001b[39m\n\u001b[0;32m-> 1735\u001b[0m \u001b[38;5;28mself\u001b[39m\u001b[38;5;241m.\u001b[39mhandles \u001b[38;5;241m=\u001b[39m \u001b[43mget_handle\u001b[49m\u001b[43m(\u001b[49m\n\u001b[1;32m   1736\u001b[0m \u001b[43m    \u001b[49m\u001b[43mf\u001b[49m\u001b[43m,\u001b[49m\n\u001b[1;32m   1737\u001b[0m \u001b[43m    \u001b[49m\u001b[43mmode\u001b[49m\u001b[43m,\u001b[49m\n\u001b[1;32m   1738\u001b[0m \u001b[43m    \u001b[49m\u001b[43mencoding\u001b[49m\u001b[38;5;241;43m=\u001b[39;49m\u001b[38;5;28;43mself\u001b[39;49m\u001b[38;5;241;43m.\u001b[39;49m\u001b[43moptions\u001b[49m\u001b[38;5;241;43m.\u001b[39;49m\u001b[43mget\u001b[49m\u001b[43m(\u001b[49m\u001b[38;5;124;43m\"\u001b[39;49m\u001b[38;5;124;43mencoding\u001b[39;49m\u001b[38;5;124;43m\"\u001b[39;49m\u001b[43m,\u001b[49m\u001b[43m \u001b[49m\u001b[38;5;28;43;01mNone\u001b[39;49;00m\u001b[43m)\u001b[49m\u001b[43m,\u001b[49m\n\u001b[1;32m   1739\u001b[0m \u001b[43m    \u001b[49m\u001b[43mcompression\u001b[49m\u001b[38;5;241;43m=\u001b[39;49m\u001b[38;5;28;43mself\u001b[39;49m\u001b[38;5;241;43m.\u001b[39;49m\u001b[43moptions\u001b[49m\u001b[38;5;241;43m.\u001b[39;49m\u001b[43mget\u001b[49m\u001b[43m(\u001b[49m\u001b[38;5;124;43m\"\u001b[39;49m\u001b[38;5;124;43mcompression\u001b[39;49m\u001b[38;5;124;43m\"\u001b[39;49m\u001b[43m,\u001b[49m\u001b[43m \u001b[49m\u001b[38;5;28;43;01mNone\u001b[39;49;00m\u001b[43m)\u001b[49m\u001b[43m,\u001b[49m\n\u001b[1;32m   1740\u001b[0m \u001b[43m    \u001b[49m\u001b[43mmemory_map\u001b[49m\u001b[38;5;241;43m=\u001b[39;49m\u001b[38;5;28;43mself\u001b[39;49m\u001b[38;5;241;43m.\u001b[39;49m\u001b[43moptions\u001b[49m\u001b[38;5;241;43m.\u001b[39;49m\u001b[43mget\u001b[49m\u001b[43m(\u001b[49m\u001b[38;5;124;43m\"\u001b[39;49m\u001b[38;5;124;43mmemory_map\u001b[39;49m\u001b[38;5;124;43m\"\u001b[39;49m\u001b[43m,\u001b[49m\u001b[43m \u001b[49m\u001b[38;5;28;43;01mFalse\u001b[39;49;00m\u001b[43m)\u001b[49m\u001b[43m,\u001b[49m\n\u001b[1;32m   1741\u001b[0m \u001b[43m    \u001b[49m\u001b[43mis_text\u001b[49m\u001b[38;5;241;43m=\u001b[39;49m\u001b[43mis_text\u001b[49m\u001b[43m,\u001b[49m\n\u001b[1;32m   1742\u001b[0m \u001b[43m    \u001b[49m\u001b[43merrors\u001b[49m\u001b[38;5;241;43m=\u001b[39;49m\u001b[38;5;28;43mself\u001b[39;49m\u001b[38;5;241;43m.\u001b[39;49m\u001b[43moptions\u001b[49m\u001b[38;5;241;43m.\u001b[39;49m\u001b[43mget\u001b[49m\u001b[43m(\u001b[49m\u001b[38;5;124;43m\"\u001b[39;49m\u001b[38;5;124;43mencoding_errors\u001b[39;49m\u001b[38;5;124;43m\"\u001b[39;49m\u001b[43m,\u001b[49m\u001b[43m \u001b[49m\u001b[38;5;124;43m\"\u001b[39;49m\u001b[38;5;124;43mstrict\u001b[39;49m\u001b[38;5;124;43m\"\u001b[39;49m\u001b[43m)\u001b[49m\u001b[43m,\u001b[49m\n\u001b[1;32m   1743\u001b[0m \u001b[43m    \u001b[49m\u001b[43mstorage_options\u001b[49m\u001b[38;5;241;43m=\u001b[39;49m\u001b[38;5;28;43mself\u001b[39;49m\u001b[38;5;241;43m.\u001b[39;49m\u001b[43moptions\u001b[49m\u001b[38;5;241;43m.\u001b[39;49m\u001b[43mget\u001b[49m\u001b[43m(\u001b[49m\u001b[38;5;124;43m\"\u001b[39;49m\u001b[38;5;124;43mstorage_options\u001b[39;49m\u001b[38;5;124;43m\"\u001b[39;49m\u001b[43m,\u001b[49m\u001b[43m \u001b[49m\u001b[38;5;28;43;01mNone\u001b[39;49;00m\u001b[43m)\u001b[49m\u001b[43m,\u001b[49m\n\u001b[1;32m   1744\u001b[0m \u001b[43m\u001b[49m\u001b[43m)\u001b[49m\n\u001b[1;32m   1745\u001b[0m \u001b[38;5;28;01massert\u001b[39;00m \u001b[38;5;28mself\u001b[39m\u001b[38;5;241m.\u001b[39mhandles \u001b[38;5;129;01mis\u001b[39;00m \u001b[38;5;129;01mnot\u001b[39;00m \u001b[38;5;28;01mNone\u001b[39;00m\n\u001b[1;32m   1746\u001b[0m f \u001b[38;5;241m=\u001b[39m \u001b[38;5;28mself\u001b[39m\u001b[38;5;241m.\u001b[39mhandles\u001b[38;5;241m.\u001b[39mhandle\n",
      "File \u001b[0;32m~/miniconda3/envs/sw_mentions/lib/python3.10/site-packages/pandas/io/common.py:750\u001b[0m, in \u001b[0;36mget_handle\u001b[0;34m(path_or_buf, mode, encoding, compression, memory_map, is_text, errors, storage_options)\u001b[0m\n\u001b[1;32m    746\u001b[0m \u001b[38;5;28;01mif\u001b[39;00m compression \u001b[38;5;241m==\u001b[39m \u001b[38;5;124m\"\u001b[39m\u001b[38;5;124mgzip\u001b[39m\u001b[38;5;124m\"\u001b[39m:\n\u001b[1;32m    747\u001b[0m     \u001b[38;5;28;01mif\u001b[39;00m \u001b[38;5;28misinstance\u001b[39m(handle, \u001b[38;5;28mstr\u001b[39m):\n\u001b[1;32m    748\u001b[0m         \u001b[38;5;66;03m# error: Incompatible types in assignment (expression has type\u001b[39;00m\n\u001b[1;32m    749\u001b[0m         \u001b[38;5;66;03m# \"GzipFile\", variable has type \"Union[str, BaseBuffer]\")\u001b[39;00m\n\u001b[0;32m--> 750\u001b[0m         handle \u001b[38;5;241m=\u001b[39m \u001b[43mgzip\u001b[49m\u001b[38;5;241;43m.\u001b[39;49m\u001b[43mGzipFile\u001b[49m\u001b[43m(\u001b[49m\u001b[43m  \u001b[49m\u001b[38;5;66;43;03m# type: ignore[assignment]\u001b[39;49;00m\n\u001b[1;32m    751\u001b[0m \u001b[43m            \u001b[49m\u001b[43mfilename\u001b[49m\u001b[38;5;241;43m=\u001b[39;49m\u001b[43mhandle\u001b[49m\u001b[43m,\u001b[49m\n\u001b[1;32m    752\u001b[0m \u001b[43m            \u001b[49m\u001b[43mmode\u001b[49m\u001b[38;5;241;43m=\u001b[39;49m\u001b[43mioargs\u001b[49m\u001b[38;5;241;43m.\u001b[39;49m\u001b[43mmode\u001b[49m\u001b[43m,\u001b[49m\n\u001b[1;32m    753\u001b[0m \u001b[43m            \u001b[49m\u001b[38;5;241;43m*\u001b[39;49m\u001b[38;5;241;43m*\u001b[39;49m\u001b[43mcompression_args\u001b[49m\u001b[43m,\u001b[49m\n\u001b[1;32m    754\u001b[0m \u001b[43m        \u001b[49m\u001b[43m)\u001b[49m\n\u001b[1;32m    755\u001b[0m     \u001b[38;5;28;01melse\u001b[39;00m:\n\u001b[1;32m    756\u001b[0m         handle \u001b[38;5;241m=\u001b[39m gzip\u001b[38;5;241m.\u001b[39mGzipFile(\n\u001b[1;32m    757\u001b[0m             \u001b[38;5;66;03m# No overload variant of \"GzipFile\" matches argument types\u001b[39;00m\n\u001b[1;32m    758\u001b[0m             \u001b[38;5;66;03m# \"Union[str, BaseBuffer]\", \"str\", \"Dict[str, Any]\"\u001b[39;00m\n\u001b[0;32m   (...)\u001b[0m\n\u001b[1;32m    761\u001b[0m             \u001b[38;5;241m*\u001b[39m\u001b[38;5;241m*\u001b[39mcompression_args,\n\u001b[1;32m    762\u001b[0m         )\n",
      "File \u001b[0;32m~/miniconda3/envs/sw_mentions/lib/python3.10/gzip.py:174\u001b[0m, in \u001b[0;36mGzipFile.__init__\u001b[0;34m(self, filename, mode, compresslevel, fileobj, mtime)\u001b[0m\n\u001b[1;32m    172\u001b[0m     mode \u001b[38;5;241m+\u001b[39m\u001b[38;5;241m=\u001b[39m \u001b[38;5;124m'\u001b[39m\u001b[38;5;124mb\u001b[39m\u001b[38;5;124m'\u001b[39m\n\u001b[1;32m    173\u001b[0m \u001b[38;5;28;01mif\u001b[39;00m fileobj \u001b[38;5;129;01mis\u001b[39;00m \u001b[38;5;28;01mNone\u001b[39;00m:\n\u001b[0;32m--> 174\u001b[0m     fileobj \u001b[38;5;241m=\u001b[39m \u001b[38;5;28mself\u001b[39m\u001b[38;5;241m.\u001b[39mmyfileobj \u001b[38;5;241m=\u001b[39m \u001b[43mbuiltins\u001b[49m\u001b[38;5;241;43m.\u001b[39;49m\u001b[43mopen\u001b[49m\u001b[43m(\u001b[49m\u001b[43mfilename\u001b[49m\u001b[43m,\u001b[49m\u001b[43m \u001b[49m\u001b[43mmode\u001b[49m\u001b[43m \u001b[49m\u001b[38;5;129;43;01mor\u001b[39;49;00m\u001b[43m \u001b[49m\u001b[38;5;124;43m'\u001b[39;49m\u001b[38;5;124;43mrb\u001b[39;49m\u001b[38;5;124;43m'\u001b[39;49m\u001b[43m)\u001b[49m\n\u001b[1;32m    175\u001b[0m \u001b[38;5;28;01mif\u001b[39;00m filename \u001b[38;5;129;01mis\u001b[39;00m \u001b[38;5;28;01mNone\u001b[39;00m:\n\u001b[1;32m    176\u001b[0m     filename \u001b[38;5;241m=\u001b[39m \u001b[38;5;28mgetattr\u001b[39m(fileobj, \u001b[38;5;124m'\u001b[39m\u001b[38;5;124mname\u001b[39m\u001b[38;5;124m'\u001b[39m, \u001b[38;5;124m'\u001b[39m\u001b[38;5;124m'\u001b[39m)\n",
      "\u001b[0;31mFileNotFoundError\u001b[0m: [Errno 2] No such file or directory: '../data/linked/metadata.tsv.gz'"
     ]
    }
   ],
   "source": [
    "# this doesn't work: gives error: FileNotFoundError: [Errno 2] No such file or directory: '../data/linked/metadata.tsv.gz' \n",
    "#linked_df = pd.read_csv(ROOT_DATA_DIR + 'linked/metadata.tsv.gz', sep = '\\\\t', engine = 'python', compression = 'gzip', error_bad_lines = False)"
   ]
  },
  {
   "cell_type": "code",
   "execution_count": 10,
   "metadata": {},
   "outputs": [
    {
     "ename": "NameError",
     "evalue": "name 'linked_df' is not defined",
     "output_type": "error",
     "traceback": [
      "\u001b[0;31m---------------------------------------------------------------------------\u001b[0m",
      "\u001b[0;31mNameError\u001b[0m                                 Traceback (most recent call last)",
      "Cell \u001b[0;32mIn[10], line 1\u001b[0m\n\u001b[0;32m----> 1\u001b[0m github_df \u001b[38;5;241m=\u001b[39m \u001b[43mlinked_df\u001b[49m[linked_df[\u001b[38;5;124m'\u001b[39m\u001b[38;5;124msource\u001b[39m\u001b[38;5;124m'\u001b[39m] \u001b[38;5;241m==\u001b[39m \u001b[38;5;124m'\u001b[39m\u001b[38;5;124mGithub API\u001b[39m\u001b[38;5;124m'\u001b[39m]\n\u001b[1;32m      2\u001b[0m \u001b[38;5;28mlen\u001b[39m(github_df)\n",
      "\u001b[0;31mNameError\u001b[0m: name 'linked_df' is not defined"
     ]
    }
   ],
   "source": [
    "github_df = linked_df[linked_df['source'] == 'Github API']\n",
    "len(github_df)"
   ]
  },
  {
   "cell_type": "code",
   "execution_count": 7,
   "metadata": {},
   "outputs": [],
   "source": [
    "def parse_github_repo_url(url: str):\n",
    "    try:\n",
    "        _,_,_,user,repo_name = url.split('/')\n",
    "    except ValueError:\n",
    "        print(f\"Could not unpack URL {url} into 5 segments. Refactor function parse_github_repo.\")\n",
    "    return user, repo_name"
   ]
  },
  {
   "cell_type": "markdown",
   "metadata": {},
   "source": [
    "## GitHub API"
   ]
  },
  {
   "cell_type": "code",
   "execution_count": 25,
   "metadata": {},
   "outputs": [],
   "source": [
    "test_data = github_df.sample(1)\n",
    "test_url = test_data.github_repo.values[0]"
   ]
  },
  {
   "cell_type": "code",
   "execution_count": 30,
   "metadata": {},
   "outputs": [
    {
     "data": {
      "text/html": [
       "<div>\n",
       "<style scoped>\n",
       "    .dataframe tbody tr th:only-of-type {\n",
       "        vertical-align: middle;\n",
       "    }\n",
       "\n",
       "    .dataframe tbody tr th {\n",
       "        vertical-align: top;\n",
       "    }\n",
       "\n",
       "    .dataframe thead th {\n",
       "        text-align: right;\n",
       "    }\n",
       "</style>\n",
       "<table border=\"1\" class=\"dataframe\">\n",
       "  <thead>\n",
       "    <tr style=\"text-align: right;\">\n",
       "      <th></th>\n",
       "      <th>ID</th>\n",
       "      <th>software_mention</th>\n",
       "      <th>mapped_to</th>\n",
       "      <th>source</th>\n",
       "      <th>platform</th>\n",
       "      <th>package_url</th>\n",
       "      <th>description</th>\n",
       "      <th>homepage_url</th>\n",
       "      <th>other_urls</th>\n",
       "      <th>license</th>\n",
       "      <th>github_repo</th>\n",
       "      <th>github_repo_license</th>\n",
       "      <th>exact_match</th>\n",
       "      <th>RRID</th>\n",
       "      <th>reference</th>\n",
       "      <th>scicrunch_synonyms</th>\n",
       "    </tr>\n",
       "  </thead>\n",
       "  <tbody>\n",
       "    <tr>\n",
       "      <th>126059</th>\n",
       "      <td>SM480072</td>\n",
       "      <td>Analizer</td>\n",
       "      <td>Analizer</td>\n",
       "      <td>Github API</td>\n",
       "      <td>NaN</td>\n",
       "      <td>https://github.com/ShinShil/Analizer</td>\n",
       "      <td>https://github.com/ShinShil/</td>\n",
       "      <td>NaN</td>\n",
       "      <td>NaN</td>\n",
       "      <td>NaN</td>\n",
       "      <td>https://github.com/ShinShil/Analizer</td>\n",
       "      <td>NaN</td>\n",
       "      <td>True</td>\n",
       "      <td>None</td>\n",
       "      <td>None</td>\n",
       "      <td>None</td>\n",
       "    </tr>\n",
       "  </tbody>\n",
       "</table>\n",
       "</div>"
      ],
      "text/plain": [
       "              ID software_mention mapped_to      source platform  \\\n",
       "126059  SM480072         Analizer  Analizer  Github API      NaN   \n",
       "\n",
       "                                 package_url                   description  \\\n",
       "126059  https://github.com/ShinShil/Analizer  https://github.com/ShinShil/   \n",
       "\n",
       "       homepage_url other_urls license                           github_repo  \\\n",
       "126059          NaN        NaN     NaN  https://github.com/ShinShil/Analizer   \n",
       "\n",
       "       github_repo_license exact_match  RRID reference scicrunch_synonyms  \n",
       "126059                 NaN        True  None      None               None  "
      ]
     },
     "execution_count": 30,
     "metadata": {},
     "output_type": "execute_result"
    }
   ],
   "source": [
    "test_data"
   ]
  },
  {
   "cell_type": "code",
   "execution_count": 33,
   "metadata": {},
   "outputs": [],
   "source": [
    "test_user, test_repo_name = parse_github_repo_url(test_url)"
   ]
  },
  {
   "cell_type": "code",
   "execution_count": 34,
   "metadata": {},
   "outputs": [
    {
     "data": {
      "text/plain": [
       "{'id': 31628058,\n",
       " 'node_id': 'MDEwOlJlcG9zaXRvcnkzMTYyODA1OA==',\n",
       " 'name': 'Analizer',\n",
       " 'full_name': 'ShinShil/Analizer',\n",
       " 'private': False,\n",
       " 'owner': {'login': 'ShinShil',\n",
       "  'id': 11064696,\n",
       "  'node_id': 'MDQ6VXNlcjExMDY0Njk2',\n",
       "  'avatar_url': 'https://avatars.githubusercontent.com/u/11064696?v=4',\n",
       "  'gravatar_id': '',\n",
       "  'url': 'https://api.github.com/users/ShinShil',\n",
       "  'html_url': 'https://github.com/ShinShil',\n",
       "  'followers_url': 'https://api.github.com/users/ShinShil/followers',\n",
       "  'following_url': 'https://api.github.com/users/ShinShil/following{/other_user}',\n",
       "  'gists_url': 'https://api.github.com/users/ShinShil/gists{/gist_id}',\n",
       "  'starred_url': 'https://api.github.com/users/ShinShil/starred{/owner}{/repo}',\n",
       "  'subscriptions_url': 'https://api.github.com/users/ShinShil/subscriptions',\n",
       "  'organizations_url': 'https://api.github.com/users/ShinShil/orgs',\n",
       "  'repos_url': 'https://api.github.com/users/ShinShil/repos',\n",
       "  'events_url': 'https://api.github.com/users/ShinShil/events{/privacy}',\n",
       "  'received_events_url': 'https://api.github.com/users/ShinShil/received_events',\n",
       "  'type': 'User',\n",
       "  'site_admin': False},\n",
       " 'html_url': 'https://github.com/ShinShil/Analizer',\n",
       " 'description': 'https://github.com/ShinShil/',\n",
       " 'fork': False,\n",
       " 'url': 'https://api.github.com/repos/ShinShil/Analizer',\n",
       " 'forks_url': 'https://api.github.com/repos/ShinShil/Analizer/forks',\n",
       " 'keys_url': 'https://api.github.com/repos/ShinShil/Analizer/keys{/key_id}',\n",
       " 'collaborators_url': 'https://api.github.com/repos/ShinShil/Analizer/collaborators{/collaborator}',\n",
       " 'teams_url': 'https://api.github.com/repos/ShinShil/Analizer/teams',\n",
       " 'hooks_url': 'https://api.github.com/repos/ShinShil/Analizer/hooks',\n",
       " 'issue_events_url': 'https://api.github.com/repos/ShinShil/Analizer/issues/events{/number}',\n",
       " 'events_url': 'https://api.github.com/repos/ShinShil/Analizer/events',\n",
       " 'assignees_url': 'https://api.github.com/repos/ShinShil/Analizer/assignees{/user}',\n",
       " 'branches_url': 'https://api.github.com/repos/ShinShil/Analizer/branches{/branch}',\n",
       " 'tags_url': 'https://api.github.com/repos/ShinShil/Analizer/tags',\n",
       " 'blobs_url': 'https://api.github.com/repos/ShinShil/Analizer/git/blobs{/sha}',\n",
       " 'git_tags_url': 'https://api.github.com/repos/ShinShil/Analizer/git/tags{/sha}',\n",
       " 'git_refs_url': 'https://api.github.com/repos/ShinShil/Analizer/git/refs{/sha}',\n",
       " 'trees_url': 'https://api.github.com/repos/ShinShil/Analizer/git/trees{/sha}',\n",
       " 'statuses_url': 'https://api.github.com/repos/ShinShil/Analizer/statuses/{sha}',\n",
       " 'languages_url': 'https://api.github.com/repos/ShinShil/Analizer/languages',\n",
       " 'stargazers_url': 'https://api.github.com/repos/ShinShil/Analizer/stargazers',\n",
       " 'contributors_url': 'https://api.github.com/repos/ShinShil/Analizer/contributors',\n",
       " 'subscribers_url': 'https://api.github.com/repos/ShinShil/Analizer/subscribers',\n",
       " 'subscription_url': 'https://api.github.com/repos/ShinShil/Analizer/subscription',\n",
       " 'commits_url': 'https://api.github.com/repos/ShinShil/Analizer/commits{/sha}',\n",
       " 'git_commits_url': 'https://api.github.com/repos/ShinShil/Analizer/git/commits{/sha}',\n",
       " 'comments_url': 'https://api.github.com/repos/ShinShil/Analizer/comments{/number}',\n",
       " 'issue_comment_url': 'https://api.github.com/repos/ShinShil/Analizer/issues/comments{/number}',\n",
       " 'contents_url': 'https://api.github.com/repos/ShinShil/Analizer/contents/{+path}',\n",
       " 'compare_url': 'https://api.github.com/repos/ShinShil/Analizer/compare/{base}...{head}',\n",
       " 'merges_url': 'https://api.github.com/repos/ShinShil/Analizer/merges',\n",
       " 'archive_url': 'https://api.github.com/repos/ShinShil/Analizer/{archive_format}{/ref}',\n",
       " 'downloads_url': 'https://api.github.com/repos/ShinShil/Analizer/downloads',\n",
       " 'issues_url': 'https://api.github.com/repos/ShinShil/Analizer/issues{/number}',\n",
       " 'pulls_url': 'https://api.github.com/repos/ShinShil/Analizer/pulls{/number}',\n",
       " 'milestones_url': 'https://api.github.com/repos/ShinShil/Analizer/milestones{/number}',\n",
       " 'notifications_url': 'https://api.github.com/repos/ShinShil/Analizer/notifications{?since,all,participating}',\n",
       " 'labels_url': 'https://api.github.com/repos/ShinShil/Analizer/labels{/name}',\n",
       " 'releases_url': 'https://api.github.com/repos/ShinShil/Analizer/releases{/id}',\n",
       " 'deployments_url': 'https://api.github.com/repos/ShinShil/Analizer/deployments',\n",
       " 'created_at': '2015-03-03T23:53:33Z',\n",
       " 'updated_at': '2015-06-05T22:47:35Z',\n",
       " 'pushed_at': '2015-06-05T22:47:35Z',\n",
       " 'git_url': 'git://github.com/ShinShil/Analizer.git',\n",
       " 'ssh_url': 'git@github.com:ShinShil/Analizer.git',\n",
       " 'clone_url': 'https://github.com/ShinShil/Analizer.git',\n",
       " 'svn_url': 'https://github.com/ShinShil/Analizer',\n",
       " 'homepage': None,\n",
       " 'size': 896,\n",
       " 'stargazers_count': 0,\n",
       " 'watchers_count': 0,\n",
       " 'language': 'C',\n",
       " 'has_issues': True,\n",
       " 'has_projects': True,\n",
       " 'has_downloads': True,\n",
       " 'has_wiki': True,\n",
       " 'has_pages': False,\n",
       " 'has_discussions': False,\n",
       " 'forks_count': 2,\n",
       " 'mirror_url': None,\n",
       " 'archived': False,\n",
       " 'disabled': False,\n",
       " 'open_issues_count': 0,\n",
       " 'license': None,\n",
       " 'allow_forking': True,\n",
       " 'is_template': False,\n",
       " 'web_commit_signoff_required': False,\n",
       " 'topics': [],\n",
       " 'visibility': 'public',\n",
       " 'forks': 2,\n",
       " 'open_issues': 0,\n",
       " 'watchers': 0,\n",
       " 'default_branch': 'master',\n",
       " 'temp_clone_token': None,\n",
       " 'network_count': 2,\n",
       " 'subscribers_count': 3}"
      ]
     },
     "execution_count": 34,
     "metadata": {},
     "output_type": "execute_result"
    }
   ],
   "source": [
    "repo_data = requests.get(f'https://api.github.com/repos/{test_user}/{test_repo_name}').json()\n",
    "repo_data"
   ]
  },
  {
   "cell_type": "code",
   "execution_count": 39,
   "metadata": {},
   "outputs": [],
   "source": [
    "g = Github()\n",
    "test_repo = g.get_repo(f'{test_user}/{test_repo_name}')"
   ]
  },
  {
   "cell_type": "code",
   "execution_count": 54,
   "metadata": {},
   "outputs": [
    {
     "name": "stdout",
     "output_type": "stream",
     "text": [
      "NamedUser(login=\"ShinShil\")\n",
      "Contribution in week 2015-03-01 00:00:00: Additions 4, Deletions 0, Commits 1\n",
      "Contribution in week 2015-05-24 00:00:00: Additions 29, Deletions 0, Commits 1\n",
      "Contribution in week 2015-05-31 00:00:00: Additions 335, Deletions 0, Commits 1\n"
     ]
    }
   ],
   "source": [
    "for s in test_repo.get_stats_contributors():\n",
    "    print(s.author)\n",
    "    for w in s.weeks:\n",
    "        if w.a > 0 or w.d > 0 or w.c > 0:\n",
    "            print(f\"Contribution in week {w.w}: Additions {w.a}, Deletions {w.d}, Commits {w.c}\")\n"
   ]
  },
  {
   "cell_type": "code",
   "execution_count": 8,
   "metadata": {},
   "outputs": [
    {
     "data": {
      "text/plain": [
       "Index(['ID', 'software_mention', 'mapped_to', 'source', 'platform',\n",
       "       'package_url', 'description', 'homepage_url', 'other_urls', 'license',\n",
       "       'github_repo', 'github_repo_license', 'exact_match', 'RRID',\n",
       "       'reference', 'scicrunch_synonyms'],\n",
       "      dtype='object')"
      ]
     },
     "execution_count": 8,
     "metadata": {},
     "output_type": "execute_result"
    }
   ],
   "source": [
    "github_df.columns"
   ]
  },
  {
   "cell_type": "code",
   "execution_count": 9,
   "metadata": {},
   "outputs": [
    {
     "data": {
      "text/html": [
       "<div>\n",
       "<style scoped>\n",
       "    .dataframe tbody tr th:only-of-type {\n",
       "        vertical-align: middle;\n",
       "    }\n",
       "\n",
       "    .dataframe tbody tr th {\n",
       "        vertical-align: top;\n",
       "    }\n",
       "\n",
       "    .dataframe thead th {\n",
       "        text-align: right;\n",
       "    }\n",
       "</style>\n",
       "<table border=\"1\" class=\"dataframe\">\n",
       "  <thead>\n",
       "    <tr style=\"text-align: right;\">\n",
       "      <th></th>\n",
       "      <th>ID</th>\n",
       "      <th>software_mention</th>\n",
       "      <th>mapped_to</th>\n",
       "      <th>source</th>\n",
       "      <th>platform</th>\n",
       "      <th>package_url</th>\n",
       "      <th>description</th>\n",
       "      <th>homepage_url</th>\n",
       "      <th>other_urls</th>\n",
       "      <th>license</th>\n",
       "      <th>github_repo</th>\n",
       "      <th>github_repo_license</th>\n",
       "      <th>exact_match</th>\n",
       "      <th>RRID</th>\n",
       "      <th>reference</th>\n",
       "      <th>scicrunch_synonyms</th>\n",
       "    </tr>\n",
       "  </thead>\n",
       "  <tbody>\n",
       "    <tr>\n",
       "      <th>59868</th>\n",
       "      <td>SM900</td>\n",
       "      <td>XDS</td>\n",
       "      <td>XDS</td>\n",
       "      <td>Github API</td>\n",
       "      <td>NaN</td>\n",
       "      <td>https://github.com/ichfly/XDS</td>\n",
       "      <td>NaN</td>\n",
       "      <td>NaN</td>\n",
       "      <td>NaN</td>\n",
       "      <td>NaN</td>\n",
       "      <td>https://github.com/ichfly/XDS</td>\n",
       "      <td>GPL-2.0</td>\n",
       "      <td>True</td>\n",
       "      <td>None</td>\n",
       "      <td>None</td>\n",
       "      <td>None</td>\n",
       "    </tr>\n",
       "    <tr>\n",
       "      <th>59869</th>\n",
       "      <td>SM910</td>\n",
       "      <td>MR</td>\n",
       "      <td>MR</td>\n",
       "      <td>Github API</td>\n",
       "      <td>NaN</td>\n",
       "      <td>https://github.com/bkerler/MR</td>\n",
       "      <td>Mobile Revelator</td>\n",
       "      <td>NaN</td>\n",
       "      <td>NaN</td>\n",
       "      <td>NaN</td>\n",
       "      <td>https://github.com/bkerler/MR</td>\n",
       "      <td>MIT</td>\n",
       "      <td>True</td>\n",
       "      <td>None</td>\n",
       "      <td>None</td>\n",
       "      <td>None</td>\n",
       "    </tr>\n",
       "    <tr>\n",
       "      <th>59870</th>\n",
       "      <td>SM922</td>\n",
       "      <td>CCP4</td>\n",
       "      <td>CCP4</td>\n",
       "      <td>Github API</td>\n",
       "      <td>NaN</td>\n",
       "      <td>https://github.com/DhanashriShanbhag/CCP4</td>\n",
       "      <td>NaN</td>\n",
       "      <td>NaN</td>\n",
       "      <td>NaN</td>\n",
       "      <td>NaN</td>\n",
       "      <td>https://github.com/DhanashriShanbhag/CCP4</td>\n",
       "      <td>NaN</td>\n",
       "      <td>True</td>\n",
       "      <td>None</td>\n",
       "      <td>None</td>\n",
       "      <td>None</td>\n",
       "    </tr>\n",
       "    <tr>\n",
       "      <th>59871</th>\n",
       "      <td>SM932</td>\n",
       "      <td>RESOLVE</td>\n",
       "      <td>RESOLVE</td>\n",
       "      <td>Github API</td>\n",
       "      <td>NaN</td>\n",
       "      <td>https://github.com/ClemsonRSRG/RESOLVE</td>\n",
       "      <td>RESOLVE (REusable SOftware Language with VErification) is a specification and programming language designed for verifying correctness of object oriented programs.</td>\n",
       "      <td>NaN</td>\n",
       "      <td>NaN</td>\n",
       "      <td>NaN</td>\n",
       "      <td>https://github.com/ClemsonRSRG/RESOLVE</td>\n",
       "      <td>BSD-3-Clause</td>\n",
       "      <td>True</td>\n",
       "      <td>None</td>\n",
       "      <td>None</td>\n",
       "      <td>None</td>\n",
       "    </tr>\n",
       "    <tr>\n",
       "      <th>59872</th>\n",
       "      <td>SM947</td>\n",
       "      <td>COOT</td>\n",
       "      <td>COOT</td>\n",
       "      <td>Github API</td>\n",
       "      <td>NaN</td>\n",
       "      <td>https://github.com/PythonOT/COOT</td>\n",
       "      <td>CO-Optimal Transport</td>\n",
       "      <td>NaN</td>\n",
       "      <td>NaN</td>\n",
       "      <td>NaN</td>\n",
       "      <td>https://github.com/PythonOT/COOT</td>\n",
       "      <td>MIT</td>\n",
       "      <td>True</td>\n",
       "      <td>None</td>\n",
       "      <td>None</td>\n",
       "      <td>None</td>\n",
       "    </tr>\n",
       "    <tr>\n",
       "      <th>59873</th>\n",
       "      <td>SM954</td>\n",
       "      <td>iSee</td>\n",
       "      <td>iSee</td>\n",
       "      <td>Github API</td>\n",
       "      <td>NaN</td>\n",
       "      <td>https://github.com/DanielKoehler/iSee</td>\n",
       "      <td>iOS, OpenCV, Eye Tracking, NHS Hack Day Cardiff</td>\n",
       "      <td>NaN</td>\n",
       "      <td>NaN</td>\n",
       "      <td>NaN</td>\n",
       "      <td>https://github.com/DanielKoehler/iSee</td>\n",
       "      <td>NaN</td>\n",
       "      <td>True</td>\n",
       "      <td>None</td>\n",
       "      <td>None</td>\n",
       "      <td>None</td>\n",
       "    </tr>\n",
       "    <tr>\n",
       "      <th>59874</th>\n",
       "      <td>SM961</td>\n",
       "      <td>dxTuber</td>\n",
       "      <td>dxTuber</td>\n",
       "      <td>Github API</td>\n",
       "      <td>NaN</td>\n",
       "      <td>https://github.com/willhelm-mueller/dxTuber</td>\n",
       "      <td>NaN</td>\n",
       "      <td>NaN</td>\n",
       "      <td>NaN</td>\n",
       "      <td>NaN</td>\n",
       "      <td>https://github.com/willhelm-mueller/dxTuber</td>\n",
       "      <td>NaN</td>\n",
       "      <td>True</td>\n",
       "      <td>None</td>\n",
       "      <td>None</td>\n",
       "      <td>None</td>\n",
       "    </tr>\n",
       "    <tr>\n",
       "      <th>59875</th>\n",
       "      <td>SM968</td>\n",
       "      <td>NESG</td>\n",
       "      <td>NESG</td>\n",
       "      <td>Github API</td>\n",
       "      <td>NaN</td>\n",
       "      <td>https://github.com/francisatoyebi/NESG</td>\n",
       "      <td>A volunteer job done with a team. Analysing Nigeria's historical data, coming up with insights and recommendations for the Nigerian government based on Economic growth.</td>\n",
       "      <td>NaN</td>\n",
       "      <td>NaN</td>\n",
       "      <td>NaN</td>\n",
       "      <td>https://github.com/francisatoyebi/NESG</td>\n",
       "      <td>NaN</td>\n",
       "      <td>True</td>\n",
       "      <td>None</td>\n",
       "      <td>None</td>\n",
       "      <td>None</td>\n",
       "    </tr>\n",
       "    <tr>\n",
       "      <th>59876</th>\n",
       "      <td>SM976</td>\n",
       "      <td>CELLO</td>\n",
       "      <td>CELLO</td>\n",
       "      <td>Github API</td>\n",
       "      <td>NaN</td>\n",
       "      <td>https://github.com/WangLabHKUST/CELLO</td>\n",
       "      <td>[source] CELLO - Cancer EvoLution toolbox for LOngitudinal data</td>\n",
       "      <td>NaN</td>\n",
       "      <td>NaN</td>\n",
       "      <td>NaN</td>\n",
       "      <td>https://github.com/WangLabHKUST/CELLO</td>\n",
       "      <td>NaN</td>\n",
       "      <td>True</td>\n",
       "      <td>None</td>\n",
       "      <td>None</td>\n",
       "      <td>None</td>\n",
       "    </tr>\n",
       "    <tr>\n",
       "      <th>59877</th>\n",
       "      <td>SM982</td>\n",
       "      <td>Qualitek</td>\n",
       "      <td>Qualitek</td>\n",
       "      <td>Github API</td>\n",
       "      <td>NaN</td>\n",
       "      <td>https://github.com/jeffwangsoftware/Qualitek</td>\n",
       "      <td>Mobile App Dev</td>\n",
       "      <td>NaN</td>\n",
       "      <td>NaN</td>\n",
       "      <td>NaN</td>\n",
       "      <td>https://github.com/jeffwangsoftware/Qualitek</td>\n",
       "      <td>NaN</td>\n",
       "      <td>True</td>\n",
       "      <td>None</td>\n",
       "      <td>None</td>\n",
       "      <td>None</td>\n",
       "    </tr>\n",
       "  </tbody>\n",
       "</table>\n",
       "</div>"
      ],
      "text/plain": [
       "          ID software_mention mapped_to      source platform  \\\n",
       "59868  SM900              XDS       XDS  Github API      NaN   \n",
       "59869  SM910               MR        MR  Github API      NaN   \n",
       "59870  SM922             CCP4      CCP4  Github API      NaN   \n",
       "59871  SM932          RESOLVE   RESOLVE  Github API      NaN   \n",
       "59872  SM947             COOT      COOT  Github API      NaN   \n",
       "59873  SM954             iSee      iSee  Github API      NaN   \n",
       "59874  SM961          dxTuber   dxTuber  Github API      NaN   \n",
       "59875  SM968             NESG      NESG  Github API      NaN   \n",
       "59876  SM976            CELLO     CELLO  Github API      NaN   \n",
       "59877  SM982         Qualitek  Qualitek  Github API      NaN   \n",
       "\n",
       "                                        package_url  \\\n",
       "59868                 https://github.com/ichfly/XDS   \n",
       "59869                 https://github.com/bkerler/MR   \n",
       "59870     https://github.com/DhanashriShanbhag/CCP4   \n",
       "59871        https://github.com/ClemsonRSRG/RESOLVE   \n",
       "59872              https://github.com/PythonOT/COOT   \n",
       "59873         https://github.com/DanielKoehler/iSee   \n",
       "59874   https://github.com/willhelm-mueller/dxTuber   \n",
       "59875        https://github.com/francisatoyebi/NESG   \n",
       "59876         https://github.com/WangLabHKUST/CELLO   \n",
       "59877  https://github.com/jeffwangsoftware/Qualitek   \n",
       "\n",
       "                                                                                                                                                                    description  \\\n",
       "59868                                                                                                                                                                       NaN   \n",
       "59869                                                                                                                                                          Mobile Revelator   \n",
       "59870                                                                                                                                                                       NaN   \n",
       "59871        RESOLVE (REusable SOftware Language with VErification) is a specification and programming language designed for verifying correctness of object oriented programs.   \n",
       "59872                                                                                                                                                      CO-Optimal Transport   \n",
       "59873                                                                                                                           iOS, OpenCV, Eye Tracking, NHS Hack Day Cardiff   \n",
       "59874                                                                                                                                                                       NaN   \n",
       "59875  A volunteer job done with a team. Analysing Nigeria's historical data, coming up with insights and recommendations for the Nigerian government based on Economic growth.   \n",
       "59876                                                                                                           [source] CELLO - Cancer EvoLution toolbox for LOngitudinal data   \n",
       "59877                                                                                                                                                            Mobile App Dev   \n",
       "\n",
       "      homepage_url other_urls license  \\\n",
       "59868          NaN        NaN     NaN   \n",
       "59869          NaN        NaN     NaN   \n",
       "59870          NaN        NaN     NaN   \n",
       "59871          NaN        NaN     NaN   \n",
       "59872          NaN        NaN     NaN   \n",
       "59873          NaN        NaN     NaN   \n",
       "59874          NaN        NaN     NaN   \n",
       "59875          NaN        NaN     NaN   \n",
       "59876          NaN        NaN     NaN   \n",
       "59877          NaN        NaN     NaN   \n",
       "\n",
       "                                        github_repo github_repo_license  \\\n",
       "59868                 https://github.com/ichfly/XDS             GPL-2.0   \n",
       "59869                 https://github.com/bkerler/MR                 MIT   \n",
       "59870     https://github.com/DhanashriShanbhag/CCP4                 NaN   \n",
       "59871        https://github.com/ClemsonRSRG/RESOLVE        BSD-3-Clause   \n",
       "59872              https://github.com/PythonOT/COOT                 MIT   \n",
       "59873         https://github.com/DanielKoehler/iSee                 NaN   \n",
       "59874   https://github.com/willhelm-mueller/dxTuber                 NaN   \n",
       "59875        https://github.com/francisatoyebi/NESG                 NaN   \n",
       "59876         https://github.com/WangLabHKUST/CELLO                 NaN   \n",
       "59877  https://github.com/jeffwangsoftware/Qualitek                 NaN   \n",
       "\n",
       "      exact_match  RRID reference scicrunch_synonyms  \n",
       "59868        True  None      None               None  \n",
       "59869        True  None      None               None  \n",
       "59870        True  None      None               None  \n",
       "59871        True  None      None               None  \n",
       "59872        True  None      None               None  \n",
       "59873        True  None      None               None  \n",
       "59874        True  None      None               None  \n",
       "59875        True  None      None               None  \n",
       "59876        True  None      None               None  \n",
       "59877        True  None      None               None  "
      ]
     },
     "execution_count": 9,
     "metadata": {},
     "output_type": "execute_result"
    }
   ],
   "source": [
    "github_df[:10]"
   ]
  },
  {
   "cell_type": "markdown",
   "metadata": {},
   "source": [
    "## Dataset: Curated Links\n",
    "\n",
    "Think only the mentions themselves are curated (software, not software, unclear), not the links.\n",
    "Actually not true: biocurators get 50 mentions with the generated links. (136 mentions in total as they have multiple mentions)\n",
    "\n",
    "- 54% correct\n",
    "- 6% incorrect\n",
    "- 40% unclear\n",
    "  - 39/40 from GitHub, one from PyPI\n",
    "- stuff linked through PyPI, Bioconductor, CRAN, SciCrunch had much higher accuracy"
   ]
  },
  {
   "cell_type": "code",
   "execution_count": 9,
   "metadata": {},
   "outputs": [],
   "source": [
    "evaluation_linked = pd.read_csv(ROOT_DATA_DIR + 'evaluation/evaluation_linking.csv')"
   ]
  },
  {
   "cell_type": "code",
   "execution_count": 10,
   "metadata": {},
   "outputs": [
    {
     "data": {
      "text/plain": [
       "Index(['location', 'pmcid', 'pmid', 'doi', 'pubdate', 'source', 'number',\n",
       "       'text', 'software_mention', 'version', 'mapped_to',\n",
       "       'package_url_source', 'package_url', 'description', 'homepage_url',\n",
       "       'other_urls', 'package_license', 'github_repo', 'exact_match', 'RRID',\n",
       "       'reference', 'scicrunch_synonyms', 'link_label'],\n",
       "      dtype='object')"
      ]
     },
     "execution_count": 10,
     "metadata": {},
     "output_type": "execute_result"
    }
   ],
   "source": [
    "evaluation_linked.columns"
   ]
  },
  {
   "cell_type": "code",
   "execution_count": 11,
   "metadata": {},
   "outputs": [
    {
     "data": {
      "text/plain": [
       "package_url_source  link_label\n",
       "CRAN Index          correct        9\n",
       "Github API          correct       77\n",
       "                    incorrect      7\n",
       "                    unclear       52\n",
       "Pypi Index          unclear        1\n",
       "SciCrunch API       correct        5\n",
       "Name: link_label, dtype: int64"
      ]
     },
     "execution_count": 11,
     "metadata": {},
     "output_type": "execute_result"
    }
   ],
   "source": [
    "evaluation_linked.groupby(['package_url_source', 'link_label'])['link_label'].count()"
   ]
  },
  {
   "cell_type": "markdown",
   "metadata": {},
   "source": [
    "## Crawl\n",
    "\n",
    "Use GitHub API to query contributions and contents of linked GitHub Repos. In this case only considering curated set."
   ]
  },
  {
   "cell_type": "code",
   "execution_count": 24,
   "metadata": {},
   "outputs": [],
   "source": [
    "g = Github(access_token)"
   ]
  },
  {
   "cell_type": "code",
   "execution_count": 28,
   "metadata": {},
   "outputs": [],
   "source": [
    "def crawl_repo(df):\n",
    "    \"\"\"For all github repositories in dataset, retrieve contributions, contents.\n",
    "\n",
    "    Args:\n",
    "        df (pd.DataFrame): CZI linked dataset with links to GitHub\n",
    "\n",
    "    Returns:\n",
    "        (pd.DataFrame, pd.DataFrame): one data frame holding info on contributions, one data frame holding info on licenses.\n",
    "            - contributions dataframe columns:\n",
    "                - github_repo: same as in CZI linked dataset\n",
    "                - author: contributor to repository\n",
    "                - year, week: determine the week of contributions in question\n",
    "                - commits: number of commits in that specific week\n",
    "            - license dataframe columns:\n",
    "                - github_repo: same as in CZI linked dataset\n",
    "                - license: license key if license was found (e.g. mit, lgpl-3.0, mpl-2.0, ... (https://docs.github.com/en/rest/licenses?apiVersion=2022-11-28#get-all-commonly-used-licenses))\n",
    "                - readme_size: size of README file, 0 if none was found\n",
    "    \"\"\"\n",
    "    contributions_df = pd.DataFrame(columns=['github_repo', 'author', 'year', 'week', 'commits'])\n",
    "    contents_df = pd.DataFrame(columns=['github_repo', 'license', 'readme_size'])\n",
    "    for u in tqdm(df['github_repo']):\n",
    "        user, repo_name = parse_github_repo_url(u)\n",
    "        try:\n",
    "            repo = g.get_repo(f\"{user}/{repo_name}\")\n",
    "        except:\n",
    "            print(f\"Could not resolve repository for URL {u}.\")\n",
    "        contribution_stats = repo.get_stats_contributors()\n",
    "        if contribution_stats is not None:\n",
    "            for s in contribution_stats:\n",
    "                for w in s.weeks:\n",
    "                    contributions_df.loc[len(contributions_df)] = [u, s.author, w.w.year, w.w.isocalendar().week, w.c]\n",
    "        try:\n",
    "            license_file = repo.get_license()\n",
    "            license_entry = license_file.license.key\n",
    "        except:\n",
    "            license_entry = None\n",
    "        try:\n",
    "            readme = repo.get_readme()\n",
    "            readme_entry = readme.size\n",
    "        except:\n",
    "            readme_entry = 0\n",
    "        contents_df.loc[len(contents_df)] = [u, license_entry, readme_entry]\n",
    "    return contributions_df, contents_df"
   ]
  },
  {
   "cell_type": "code",
   "execution_count": 29,
   "metadata": {},
   "outputs": [
    {
     "name": "stderr",
     "output_type": "stream",
     "text": [
      " 26%|██▋       | 36/136 [03:14<06:42,  4.02s/it]"
     ]
    },
    {
     "name": "stdout",
     "output_type": "stream",
     "text": [
      "Could not resolve repository for URL https://github.com/HongjianLi/idock.\n"
     ]
    },
    {
     "name": "stderr",
     "output_type": "stream",
     "text": [
      " 27%|██▋       | 37/136 [03:17<06:28,  3.92s/it]"
     ]
    },
    {
     "name": "stdout",
     "output_type": "stream",
     "text": [
      "Could not resolve repository for URL https://github.com/HongjianLi/idock.\n"
     ]
    },
    {
     "name": "stderr",
     "output_type": "stream",
     "text": [
      " 28%|██▊       | 38/136 [03:19<05:09,  3.15s/it]"
     ]
    },
    {
     "name": "stdout",
     "output_type": "stream",
     "text": [
      "Could not resolve repository for URL https://github.com/HongjianLi/idock.\n"
     ]
    },
    {
     "name": "stderr",
     "output_type": "stream",
     "text": [
      " 29%|██▊       | 39/136 [03:22<05:19,  3.29s/it]"
     ]
    },
    {
     "name": "stdout",
     "output_type": "stream",
     "text": [
      "Could not resolve repository for URL https://github.com/HongjianLi/idock.\n"
     ]
    },
    {
     "name": "stderr",
     "output_type": "stream",
     "text": [
      " 29%|██▉       | 40/136 [03:24<04:20,  2.71s/it]"
     ]
    },
    {
     "name": "stdout",
     "output_type": "stream",
     "text": [
      "Could not resolve repository for URL https://github.com/HongjianLi/idock.\n"
     ]
    },
    {
     "name": "stderr",
     "output_type": "stream",
     "text": [
      "100%|██████████| 136/136 [11:39<00:00,  5.14s/it]\n"
     ]
    }
   ],
   "source": [
    "contributions_df, contents_df = crawl_repo(evaluation_linked[evaluation_linked['package_url_source'] == 'Github API'])\n",
    "contributions_df.to_csv(ROOT_DATA_DIR + f'evaluation/contributions.tsv.gz', sep=\"\\t\", index = False, compression = 'gzip')\n",
    "contents_df.to_csv(ROOT_DATA_DIR + f'evaluation/contents.tsv.gz', sep=\"\\t\", index = False, compression = 'gzip')"
   ]
  },
  {
   "cell_type": "code",
   "execution_count": 33,
   "metadata": {},
   "outputs": [
    {
     "data": {
      "text/plain": [
       "location\n",
       "comm/PLoS_One/PMC3901662.nxml    4\n",
       "comm/PLoS_One/PMC4493148.nxml    1\n",
       "Name: location, dtype: int64"
      ]
     },
     "execution_count": 33,
     "metadata": {},
     "output_type": "execute_result"
    }
   ],
   "source": [
    "evaluation_linked[evaluation_linked['github_repo'] == 'https://github.com/HongjianLi/idock'].groupby(['location'])['location'].count()"
   ]
  },
  {
   "cell_type": "code",
   "execution_count": 169,
   "metadata": {},
   "outputs": [
    {
     "data": {
      "text/html": [
       "<div>\n",
       "<style scoped>\n",
       "    .dataframe tbody tr th:only-of-type {\n",
       "        vertical-align: middle;\n",
       "    }\n",
       "\n",
       "    .dataframe tbody tr th {\n",
       "        vertical-align: top;\n",
       "    }\n",
       "\n",
       "    .dataframe thead th {\n",
       "        text-align: right;\n",
       "    }\n",
       "</style>\n",
       "<table border=\"1\" class=\"dataframe\">\n",
       "  <thead>\n",
       "    <tr style=\"text-align: right;\">\n",
       "      <th></th>\n",
       "      <th>github_repo</th>\n",
       "      <th>author</th>\n",
       "      <th>year</th>\n",
       "      <th>week</th>\n",
       "      <th>commits</th>\n",
       "    </tr>\n",
       "  </thead>\n",
       "  <tbody>\n",
       "    <tr>\n",
       "      <th>24074</th>\n",
       "      <td>https://github.com/HongjianLi/idock</td>\n",
       "      <td>NamedUser(login=\"DanGiles\")</td>\n",
       "      <td>2017</td>\n",
       "      <td>22</td>\n",
       "      <td>0</td>\n",
       "    </tr>\n",
       "    <tr>\n",
       "      <th>24075</th>\n",
       "      <td>https://github.com/HongjianLi/idock</td>\n",
       "      <td>NamedUser(login=\"DanGiles\")</td>\n",
       "      <td>2017</td>\n",
       "      <td>23</td>\n",
       "      <td>1</td>\n",
       "    </tr>\n",
       "    <tr>\n",
       "      <th>24076</th>\n",
       "      <td>https://github.com/HongjianLi/idock</td>\n",
       "      <td>NamedUser(login=\"DanGiles\")</td>\n",
       "      <td>2017</td>\n",
       "      <td>24</td>\n",
       "      <td>0</td>\n",
       "    </tr>\n",
       "    <tr>\n",
       "      <th>24077</th>\n",
       "      <td>https://github.com/HongjianLi/idock</td>\n",
       "      <td>NamedUser(login=\"DanGiles\")</td>\n",
       "      <td>2017</td>\n",
       "      <td>25</td>\n",
       "      <td>2</td>\n",
       "    </tr>\n",
       "    <tr>\n",
       "      <th>24078</th>\n",
       "      <td>https://github.com/HongjianLi/idock</td>\n",
       "      <td>NamedUser(login=\"DanGiles\")</td>\n",
       "      <td>2017</td>\n",
       "      <td>26</td>\n",
       "      <td>0</td>\n",
       "    </tr>\n",
       "    <tr>\n",
       "      <th>...</th>\n",
       "      <td>...</td>\n",
       "      <td>...</td>\n",
       "      <td>...</td>\n",
       "      <td>...</td>\n",
       "      <td>...</td>\n",
       "    </tr>\n",
       "    <tr>\n",
       "      <th>27059</th>\n",
       "      <td>https://github.com/HongjianLi/idock</td>\n",
       "      <td>NamedUser(login=\"Niceno\")</td>\n",
       "      <td>2023</td>\n",
       "      <td>3</td>\n",
       "      <td>0</td>\n",
       "    </tr>\n",
       "    <tr>\n",
       "      <th>27060</th>\n",
       "      <td>https://github.com/HongjianLi/idock</td>\n",
       "      <td>NamedUser(login=\"Niceno\")</td>\n",
       "      <td>2023</td>\n",
       "      <td>4</td>\n",
       "      <td>0</td>\n",
       "    </tr>\n",
       "    <tr>\n",
       "      <th>27061</th>\n",
       "      <td>https://github.com/HongjianLi/idock</td>\n",
       "      <td>NamedUser(login=\"Niceno\")</td>\n",
       "      <td>2023</td>\n",
       "      <td>5</td>\n",
       "      <td>0</td>\n",
       "    </tr>\n",
       "    <tr>\n",
       "      <th>27062</th>\n",
       "      <td>https://github.com/HongjianLi/idock</td>\n",
       "      <td>NamedUser(login=\"Niceno\")</td>\n",
       "      <td>2023</td>\n",
       "      <td>6</td>\n",
       "      <td>0</td>\n",
       "    </tr>\n",
       "    <tr>\n",
       "      <th>27063</th>\n",
       "      <td>https://github.com/HongjianLi/idock</td>\n",
       "      <td>NamedUser(login=\"Niceno\")</td>\n",
       "      <td>2023</td>\n",
       "      <td>7</td>\n",
       "      <td>0</td>\n",
       "    </tr>\n",
       "  </tbody>\n",
       "</table>\n",
       "<p>2990 rows × 5 columns</p>\n",
       "</div>"
      ],
      "text/plain": [
       "                               github_repo                       author  year  \\\n",
       "24074  https://github.com/HongjianLi/idock  NamedUser(login=\"DanGiles\")  2017   \n",
       "24075  https://github.com/HongjianLi/idock  NamedUser(login=\"DanGiles\")  2017   \n",
       "24076  https://github.com/HongjianLi/idock  NamedUser(login=\"DanGiles\")  2017   \n",
       "24077  https://github.com/HongjianLi/idock  NamedUser(login=\"DanGiles\")  2017   \n",
       "24078  https://github.com/HongjianLi/idock  NamedUser(login=\"DanGiles\")  2017   \n",
       "...                                    ...                          ...   ...   \n",
       "27059  https://github.com/HongjianLi/idock    NamedUser(login=\"Niceno\")  2023   \n",
       "27060  https://github.com/HongjianLi/idock    NamedUser(login=\"Niceno\")  2023   \n",
       "27061  https://github.com/HongjianLi/idock    NamedUser(login=\"Niceno\")  2023   \n",
       "27062  https://github.com/HongjianLi/idock    NamedUser(login=\"Niceno\")  2023   \n",
       "27063  https://github.com/HongjianLi/idock    NamedUser(login=\"Niceno\")  2023   \n",
       "\n",
       "       week  commits  \n",
       "24074    22        0  \n",
       "24075    23        1  \n",
       "24076    24        0  \n",
       "24077    25        2  \n",
       "24078    26        0  \n",
       "...     ...      ...  \n",
       "27059     3        0  \n",
       "27060     4        0  \n",
       "27061     5        0  \n",
       "27062     6        0  \n",
       "27063     7        0  \n",
       "\n",
       "[2990 rows x 5 columns]"
      ]
     },
     "execution_count": 169,
     "metadata": {},
     "output_type": "execute_result"
    }
   ],
   "source": [
    "contributions_df[contributions_df['github_repo'] == 'https://github.com/HongjianLi/idock']"
   ]
  },
  {
   "cell_type": "markdown",
   "metadata": {},
   "source": [
    "## Analysis\n",
    "\n",
    "Only looking at curated GitHub links (for all curation labels)."
   ]
  },
  {
   "cell_type": "code",
   "execution_count": 6,
   "metadata": {},
   "outputs": [
    {
     "name": "stderr",
     "output_type": "stream",
     "text": [
      "/var/folders/sk/tcmdfwss5r75cn5hh1t2rbf00000gp/T/ipykernel_792/2898098294.py:1: FutureWarning: The error_bad_lines argument has been deprecated and will be removed in a future version. Use on_bad_lines in the future.\n",
      "\n",
      "\n",
      "  contributions_df = pd.read_csv(ROOT_DATA_DIR + 'evaluation/contributions.tsv.gz', sep = '\\\\t', engine = 'python', compression = 'gzip', error_bad_lines = False)\n",
      "/var/folders/sk/tcmdfwss5r75cn5hh1t2rbf00000gp/T/ipykernel_792/2898098294.py:2: FutureWarning: The error_bad_lines argument has been deprecated and will be removed in a future version. Use on_bad_lines in the future.\n",
      "\n",
      "\n",
      "  contents_df = pd.read_csv(ROOT_DATA_DIR + 'evaluation/contents.tsv.gz', sep = '\\\\t', engine = 'python', compression = 'gzip', error_bad_lines = False)\n"
     ]
    }
   ],
   "source": [
    "contributions_df = pd.read_csv(ROOT_DATA_DIR + 'evaluation/contributions.tsv.gz', sep = '\\\\t', engine = 'python', compression = 'gzip', error_bad_lines = False)\n",
    "contents_df = pd.read_csv(ROOT_DATA_DIR + 'evaluation/contents.tsv.gz', sep = '\\\\t', engine = 'python', compression = 'gzip', error_bad_lines = False)"
   ]
  },
  {
   "cell_type": "code",
   "execution_count": 7,
   "metadata": {},
   "outputs": [],
   "source": [
    "evaluation_linked = pd.read_csv(ROOT_DATA_DIR + 'evaluation/evaluation_linking.csv')"
   ]
  },
  {
   "cell_type": "code",
   "execution_count": 8,
   "metadata": {},
   "outputs": [],
   "source": [
    "labelled_commits = pd.merge(contributions_df, evaluation_linked, on='github_repo')"
   ]
  },
  {
   "cell_type": "code",
   "execution_count": 9,
   "metadata": {},
   "outputs": [],
   "source": [
    "labels = ['correct', 'incorrect', 'unclear']"
   ]
  },
  {
   "cell_type": "markdown",
   "metadata": {},
   "source": [
    "### Contributions per year\n",
    "\n",
    "For each repository, show the number of contributions made every year since its creation."
   ]
  },
  {
   "cell_type": "code",
   "execution_count": 9,
   "metadata": {},
   "outputs": [
    {
     "data": {
      "image/png": "[encoded data removed]",
      "text/plain": [
       "<Figure size 640x480 with 1 Axes>"
      ]
     },
     "metadata": {},
     "output_type": "display_data"
    }
   ],
   "source": [
    "fig, ax = plt.subplots()\n",
    "for l in labels:\n",
    "    df = labelled_commits[labelled_commits['link_label'] == l].groupby(['github_repo', 'year'])['commits'].sum().reset_index()\n",
    "    ax.scatter(df.year, df.commits, label=l, alpha=0.5)\n",
    "#ax.set_yscale('log')\n",
    "ax.legend()\n",
    "ax.set_xlabel('year')\n",
    "ax.set_ylabel('commits')\n",
    "ax.set_title('Yearly contributions since repo creation')\n",
    "plt.show()"
   ]
  },
  {
   "cell_type": "markdown",
   "metadata": {},
   "source": [
    "#### Histogram of contributions per year\n",
    "\n",
    "Same data as above, but counting repositories with yearly commits in a certain range. Older repos that are not developed further are included."
   ]
  },
  {
   "cell_type": "code",
   "execution_count": 10,
   "metadata": {},
   "outputs": [
    {
     "data": {
      "image/png": "[encoded data removed]",
      "text/plain": [
       "<Figure size 1200x400 with 3 Axes>"
      ]
     },
     "metadata": {},
     "output_type": "display_data"
    }
   ],
   "source": [
    "fig, axs = plt.subplots(1, len(labels), figsize=(4*len(labels), 4))\n",
    "max = 0\n",
    "bin_labels = ['0', '1', '2-10', '11-100', '101-1000', '>1000']\n",
    "for l_idx, l in enumerate(labels):\n",
    "    ax = axs[l_idx]\n",
    "    df = labelled_commits[labelled_commits['link_label'] == l].groupby(['github_repo', 'year'])['commits'].sum().reset_index()\n",
    "    max = df.commits.max() if df.commits.max() > max else max\n",
    "    bins = [0, 1, 2, 10, 100, 1000, max]\n",
    "    data = []\n",
    "    for y in df.year:\n",
    "        counts, _ = np.histogram(df[df['year'] == y].commits, bins)\n",
    "        data.append(counts)\n",
    "    data = np.array(data).T\n",
    "    bottom = 0\n",
    "    for i in range(len(bin_labels)):\n",
    "        p = ax.bar(df.year, data[i], label=bin_labels[i], bottom=bottom)\n",
    "        bottom += data[i]\n",
    "    ax.legend()\n",
    "    ax.set_xlabel('year')\n",
    "    ax.set_ylabel('repository count')\n",
    "    ax.set_title(l)\n",
    "fig.tight_layout()\n",
    "plt.show()"
   ]
  },
  {
   "cell_type": "markdown",
   "metadata": {},
   "source": [
    "### Contributions since start year\n",
    "\n",
    "Look at total number of commits, plotted against the start year of repo."
   ]
  },
  {
   "cell_type": "code",
   "execution_count": 11,
   "metadata": {},
   "outputs": [
    {
     "data": {
      "image/png": "[encoded data removed]",
      "text/plain": [
       "<Figure size 1200x400 with 3 Axes>"
      ]
     },
     "metadata": {},
     "output_type": "display_data"
    }
   ],
   "source": [
    "fig, axs = plt.subplots(1, 3, figsize=(12, 4))\n",
    "for i, l in enumerate(labels):\n",
    "    ax = axs[i]\n",
    "    df = labelled_commits[labelled_commits['link_label'] == l].groupby(['github_repo'])\n",
    "    ax.scatter(df.year.min(), df.commits.sum(), alpha=0.5)\n",
    "    ax.set_ylabel('commits')\n",
    "    ax.set_xlabel('start year')\n",
    "    ax.set_title(l)\n",
    "    ax.set_ylim(-100, 5000)\n",
    "fig.tight_layout()\n",
    "plt.show()"
   ]
  },
  {
   "cell_type": "markdown",
   "metadata": {},
   "source": [
    "#### Histogram version\n",
    "\n",
    "Same data as above."
   ]
  },
  {
   "cell_type": "code",
   "execution_count": 13,
   "metadata": {},
   "outputs": [
    {
     "data": {
      "image/png": "[encoded data removed]",
      "text/plain": [
       "<Figure size 1200x400 with 3 Axes>"
      ]
     },
     "metadata": {},
     "output_type": "display_data"
    }
   ],
   "source": [
    "fig, axs = plt.subplots(1, 3, figsize=(12, 4))\n",
    "bin_labels = ['0', '1', '2-10', '11-100', '101-1000', '>1000']\n",
    "max = 0\n",
    "for i, l in enumerate(labels):\n",
    "    ax = axs[i]\n",
    "    df = labelled_commits[labelled_commits['link_label'] == l].groupby(['github_repo'])\n",
    "    df = pd.merge(df.commits.sum().reset_index(), df.year.min().reset_index(), on='github_repo')\n",
    "    max = df.commits.max() if df.commits.max() > max else max\n",
    "    bins = [0, 1, 2, 10, 100, 1000, max]\n",
    "    years = df.year.unique()\n",
    "    data = []\n",
    "    for y in years:\n",
    "        counts, _ = np.histogram(df[df.year == y].commits, bins)\n",
    "        data.append(counts)\n",
    "    data = np.array(data).T\n",
    "    bottom = 0\n",
    "    for i in range(len(bin_labels)):\n",
    "        p = ax.bar(years, data[i], label=bin_labels[i], bottom=bottom)\n",
    "        bottom += data[i]\n",
    "    ax.legend()\n",
    "    ax.set_ylabel('repoitory count')\n",
    "    ax.set_xlabel('start year')\n",
    "    ax.set_title(l)\n",
    "    ax.set_ylim(0, 10)\n",
    "fig.tight_layout()\n",
    "plt.show()"
   ]
  },
  {
   "cell_type": "markdown",
   "metadata": {},
   "source": [
    "### Maintenance time\n",
    "\n",
    "Number of weeks between first and last commit."
   ]
  },
  {
   "cell_type": "code",
   "execution_count": 109,
   "metadata": {},
   "outputs": [],
   "source": [
    "def delta_weeks(start_year, start_week, end_year, end_week):\n",
    "    start = datetime.date.fromisocalendar(start_year, start_week, 1)\n",
    "    end = datetime.date.fromisocalendar(end_year, end_week, 1)\n",
    "    return int((end-start).days/7)"
   ]
  },
  {
   "cell_type": "code",
   "execution_count": 112,
   "metadata": {},
   "outputs": [
    {
     "data": {
      "image/png": "[encoded data removed]",
      "text/plain": [
       "<Figure size 1200x400 with 3 Axes>"
      ]
     },
     "metadata": {},
     "output_type": "display_data"
    }
   ],
   "source": [
    "fig, axs = plt.subplots(1, 3, figsize=(12, 4))\n",
    "bin_labels = ['0', '1', '2-10', '11-100', '>100']\n",
    "max = 0\n",
    "for i, l in enumerate(labels):\n",
    "    ax = axs[i]\n",
    "    cond_df = labelled_commits[(labelled_commits['link_label'] == l) & (labelled_commits['commits'] > 0)]\n",
    "    first_week_of_year = cond_df.groupby(['github_repo', 'year']).week.min().reset_index()\n",
    "    last_week_of_year = cond_df.groupby(['github_repo', 'year']).week.max().reset_index()\n",
    "    first_year = cond_df.groupby(['github_repo']).year.min().reset_index()\n",
    "    last_year = cond_df.groupby(['github_repo']).year.max().reset_index()\n",
    "    df_start = pd.merge(first_year, first_week_of_year)\n",
    "    df_start.rename(columns={'year': 'start_year', 'week': 'start_week'}, inplace=True)\n",
    "    df_end = pd.merge(last_year, last_week_of_year)\n",
    "    df_end.rename(columns={'year': 'end_year', 'week': 'end_week'}, inplace=True)\n",
    "    df = pd.merge(df_start, df_end, on='github_repo')\n",
    "    df['contribution_time'] = df.apply(lambda row: delta_weeks(row.start_year, row.start_week, row.end_year, row.end_week), axis=1)\n",
    "    max = df.contribution_time.max() if df.contribution_time.max() > max else max\n",
    "    bins = [0, 1, 2, 10, 100, max]\n",
    "    years = df.start_year.unique()\n",
    "    data = []\n",
    "    for y in years:\n",
    "        counts, _ = np.histogram(df[df.start_year == y].contribution_time, bins)\n",
    "        data.append(counts)\n",
    "    data = np.array(data).T\n",
    "    bottom = 0\n",
    "    for i in range(len(bin_labels)):\n",
    "        p = ax.bar(years, data[i], label=bin_labels[i], bottom=bottom)\n",
    "        bottom += data[i]\n",
    "    ax.legend()\n",
    "    ax.set_ylabel('repository count')\n",
    "    ax.set_xlabel('start year')\n",
    "    ax.set_title(l)\n",
    "    ax.set_ylim(0, 10)\n",
    "fig.tight_layout()\n",
    "plt.show()"
   ]
  },
  {
   "cell_type": "markdown",
   "metadata": {},
   "source": [
    "### Team size\n",
    "\n",
    "Highest number of contributors within a year, plotted against the start year of the repo."
   ]
  },
  {
   "cell_type": "code",
   "execution_count": 91,
   "metadata": {},
   "outputs": [
    {
     "data": {
      "image/png": "[encoded data removed]",
      "text/plain": [
       "<Figure size 1200x400 with 3 Axes>"
      ]
     },
     "metadata": {},
     "output_type": "display_data"
    }
   ],
   "source": [
    "fig, axs = plt.subplots(1, len(labels), figsize=(4*len(labels), 4))\n",
    "max = 6\n",
    "bin_labels = ['1', '2', '3-5', '>5']\n",
    "for l_idx, l in enumerate(labels):\n",
    "    ax = axs[l_idx]\n",
    "    df = labelled_commits[(labelled_commits['link_label'] == l) & (contributions_df.commits > 0)].groupby(['github_repo', 'year', 'author']).commits.sum().reset_index()\n",
    "    authors_per_year_df = df.groupby(['github_repo', 'year']).author.count().reset_index(name='author_count')\n",
    "    start_year_df = df.groupby(['github_repo']).year.min().reset_index(name='start_year')\n",
    "    team_size_df = authors_per_year_df.groupby(['github_repo']).author_count.max().reset_index(name='team_size')\n",
    "    data_df = pd.merge(start_year_df, team_size_df)\n",
    "    max = data_df.team_size.max() if data_df.team_size.max() > max else max\n",
    "    bins = [1, 2, 3, 5, max]\n",
    "    data = []\n",
    "    for y in data_df.start_year.unique():\n",
    "        counts, _ = np.histogram(data_df[data_df['start_year'] == y].team_size, bins)\n",
    "        data.append(counts)\n",
    "    data = np.array(data).T\n",
    "    bottom = 0\n",
    "    for i in range(len(bin_labels)):\n",
    "        p = ax.bar(data_df.start_year.unique(), data[i], label=bin_labels[i], bottom=bottom)\n",
    "        bottom += data[i]\n",
    "    ax.legend()\n",
    "    ax.set_xlabel('start year')\n",
    "    ax.set_xticks(data_df.start_year.unique())\n",
    "    ax.set_ylabel('repository count')\n",
    "    ax.set_ylim((0, 8))\n",
    "    ax.set_title(l)\n",
    "fig.tight_layout()\n",
    "plt.show()"
   ]
  },
  {
   "cell_type": "markdown",
   "metadata": {},
   "source": [
    "### Licence\n",
    "\n",
    "Changes in chosen licence, plotted against the start year of the repo."
   ]
  },
  {
   "cell_type": "code",
   "execution_count": 10,
   "metadata": {},
   "outputs": [],
   "source": [
    "contents_df = contents_df.drop_duplicates()"
   ]
  },
  {
   "cell_type": "code",
   "execution_count": 12,
   "metadata": {},
   "outputs": [],
   "source": [
    "labelled_repos = labelled_commits[['github_repo', 'link_label']].drop_duplicates()\n",
    "start_year = contributions_df.groupby(['github_repo']).year.min().reset_index()\n",
    "license_df = pd.merge(contents_df, start_year)\n",
    "license_df = pd.merge(license_df, labelled_repos)"
   ]
  },
  {
   "cell_type": "code",
   "execution_count": 14,
   "metadata": {},
   "outputs": [
    {
     "data": {
      "text/plain": [
       "30"
      ]
     },
     "execution_count": 14,
     "metadata": {},
     "output_type": "execute_result"
    }
   ],
   "source": [
    "license_df.license.isna().sum()"
   ]
  },
  {
   "cell_type": "code",
   "execution_count": 15,
   "metadata": {},
   "outputs": [],
   "source": [
    "license_df.fillna({'license': 'none'}, inplace=True)"
   ]
  },
  {
   "cell_type": "code",
   "execution_count": 36,
   "metadata": {},
   "outputs": [
    {
     "data": {
      "image/png": "[encoded data removed]",
      "text/plain": [
       "<Figure size 1200x400 with 3 Axes>"
      ]
     },
     "metadata": {},
     "output_type": "display_data"
    }
   ],
   "source": [
    "fig, axs = plt.subplots(1, len(labels), figsize=(4*len(labels), 4))\n",
    "for l_idx, l in enumerate(labels):\n",
    "    ax = axs[l_idx]\n",
    "    df = license_df[license_df['link_label'] == l].groupby(['year', 'license']).license.count().reset_index(name='license_count')\n",
    "    unique_years = df.year.unique()\n",
    "    bottom = np.zeros(len(unique_years), dtype=np.uint)\n",
    "    for li in df.license.unique():\n",
    "        license_type_df = df[df['license'] == li]\n",
    "        #years = list(df[df['license'] == li].year)\n",
    "        #counts = list(df[df['license'] == li].license_count)\n",
    "        for y in (set(unique_years)-set(license_type_df.year)):\n",
    "            license_type_df = pd.concat([license_type_df, pd.Series({'year': y, 'license': li, 'license_count': 0}).to_frame().T], ignore_index=True)\n",
    "        license_type_df = license_type_df.sort_values(by=['year'])\n",
    "        p = ax.bar(license_type_df.year, license_type_df.license_count, label=li, bottom=bottom)\n",
    "        bottom += license_type_df.license_count.to_numpy(dtype=np.uint)\n",
    "    ax.legend()\n",
    "    ax.set_xlabel('year')\n",
    "    ax.set_ylabel('repository count')\n",
    "    ax.set_title(l)\n",
    "fig.tight_layout()\n",
    "plt.show()"
   ]
  }
 ],
 "metadata": {
  "kernelspec": {
   "display_name": "Python 3 (ipykernel)",
   "language": "python",
   "name": "python3"
  },
  "language_info": {
   "codemirror_mode": {
    "name": "ipython",
    "version": 3
   },
   "file_extension": ".py",
   "mimetype": "text/x-python",
   "name": "python",
   "nbconvert_exporter": "python",
   "pygments_lexer": "ipython3",
   "version": "3.10.9"
  },
  "vscode": {
   "interpreter": {
    "hash": "3f8c870306affaf32e3b88bbbdaf30b4cc7f0b6023c44e1b700a541afb908dd5"
   }
  }
 },
 "nbformat": 4,
 "nbformat_minor": 2
}
