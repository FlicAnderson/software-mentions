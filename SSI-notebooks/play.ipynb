{
 "cells": [
  {
   "attachments": {},
   "cell_type": "markdown",
   "metadata": {},
   "source": [
    "# Ideas for SSI policy research\n",
    "\n",
    "Use existing datasets of software mentions in publications or preprints to analyse aspects of how research software projects have changed over time, or differ between disciplines.\n",
    "\n",
    "Input datasources:\n",
    "- CZI Software Mentions (includes extracted github links)\n",
    "- Softcite Software Mentions (doesn’t include github links) \n",
    "- crawl ePrints to extract github links and associate with appropriate metadata, to create an equivalent set\n",
    "\n",
    "Potential questions:\n",
    "- How has preferred license changed over time?\n",
    "- How has team size (number of concurrent contributors?) changed over time?\n",
    "- How has commit frequency changed over time?\n",
    "- How has linkage to other research outputs (e.g. DOIs to datasets, papers being included in READMEs) changed over time?"
   ]
  },
  {
   "cell_type": "code",
   "execution_count": 1,
   "metadata": {},
   "outputs": [],
   "source": [
    "import pandas as pd\n",
    "import numpy\n",
    "pd.set_option('max_colwidth', 1000)"
   ]
  },
  {
   "cell_type": "code",
   "execution_count": 18,
   "metadata": {},
   "outputs": [],
   "source": [
    "import requests\n",
    "from github import Github\n",
    "import datetime"
   ]
  },
  {
   "cell_type": "code",
   "execution_count": 3,
   "metadata": {},
   "outputs": [],
   "source": [
    "ROOT_DATA_DIR = '../data/'"
   ]
  },
  {
   "cell_type": "code",
   "execution_count": 4,
   "metadata": {},
   "outputs": [],
   "source": [
    "# Get Config\n",
    "import configparser\n",
    "config = configparser.ConfigParser()\n",
    "config.read('../config.cfg')\n",
    "access_token = config['ACCESS']['token']"
   ]
  },
  {
   "attachments": {},
   "cell_type": "markdown",
   "metadata": {},
   "source": [
    "### GitHub linked software\n",
    "\n",
    "Concentrating on software linked on GitHub for now."
   ]
  },
  {
   "cell_type": "code",
   "execution_count": 6,
   "metadata": {},
   "outputs": [
    {
     "name": "stderr",
     "output_type": "stream",
     "text": [
      "/var/folders/sk/tcmdfwss5r75cn5hh1t2rbf00000gp/T/ipykernel_61639/2743849696.py:1: FutureWarning: The error_bad_lines argument has been deprecated and will be removed in a future version. Use on_bad_lines in the future.\n",
      "\n",
      "\n",
      "  linked_df = pd.read_csv(ROOT_DATA_DIR + 'linked/metadata.tsv.gz', sep = '\\\\t', engine = 'python', compression = 'gzip', error_bad_lines = False)\n",
      "Skipping line 79480: Expected 16 fields in line 79480, saw 17. Error could possibly be due to quotes being ignored when a multi-char delimiter is used.\n"
     ]
    }
   ],
   "source": [
    "linked_df = pd.read_csv(ROOT_DATA_DIR + 'linked/metadata.tsv.gz', sep = '\\\\t', engine = 'python', compression = 'gzip', error_bad_lines = False)"
   ]
  },
  {
   "cell_type": "code",
   "execution_count": 7,
   "metadata": {},
   "outputs": [
    {
     "data": {
      "text/plain": [
       "112708"
      ]
     },
     "execution_count": 7,
     "metadata": {},
     "output_type": "execute_result"
    }
   ],
   "source": [
    "github_df = linked_df[linked_df['source'] == 'Github API']\n",
    "len(github_df)"
   ]
  },
  {
   "cell_type": "code",
   "execution_count": 8,
   "metadata": {},
   "outputs": [],
   "source": [
    "def parse_github_repo_url(url: str):\n",
    "    try:\n",
    "        _,_,_,user,repo_name = url.split('/')\n",
    "    except ValueError:\n",
    "        print(f\"Could not unpack URL {url} into 5 segments. Refactor function parse_github_repo.\")\n",
    "    return user, repo_name"
   ]
  },
  {
   "attachments": {},
   "cell_type": "markdown",
   "metadata": {},
   "source": [
    "#### Play w GitHub API\n",
    "\n",
    "Using `requests` or possibly `PyGitHub` package."
   ]
  },
  {
   "cell_type": "code",
   "execution_count": 25,
   "metadata": {},
   "outputs": [],
   "source": [
    "test_data = github_df.sample(1)\n",
    "test_url = test_data.github_repo.values[0]"
   ]
  },
  {
   "cell_type": "code",
   "execution_count": 30,
   "metadata": {},
   "outputs": [
    {
     "data": {
      "text/html": [
       "<div>\n",
       "<style scoped>\n",
       "    .dataframe tbody tr th:only-of-type {\n",
       "        vertical-align: middle;\n",
       "    }\n",
       "\n",
       "    .dataframe tbody tr th {\n",
       "        vertical-align: top;\n",
       "    }\n",
       "\n",
       "    .dataframe thead th {\n",
       "        text-align: right;\n",
       "    }\n",
       "</style>\n",
       "<table border=\"1\" class=\"dataframe\">\n",
       "  <thead>\n",
       "    <tr style=\"text-align: right;\">\n",
       "      <th></th>\n",
       "      <th>ID</th>\n",
       "      <th>software_mention</th>\n",
       "      <th>mapped_to</th>\n",
       "      <th>source</th>\n",
       "      <th>platform</th>\n",
       "      <th>package_url</th>\n",
       "      <th>description</th>\n",
       "      <th>homepage_url</th>\n",
       "      <th>other_urls</th>\n",
       "      <th>license</th>\n",
       "      <th>github_repo</th>\n",
       "      <th>github_repo_license</th>\n",
       "      <th>exact_match</th>\n",
       "      <th>RRID</th>\n",
       "      <th>reference</th>\n",
       "      <th>scicrunch_synonyms</th>\n",
       "    </tr>\n",
       "  </thead>\n",
       "  <tbody>\n",
       "    <tr>\n",
       "      <th>126059</th>\n",
       "      <td>SM480072</td>\n",
       "      <td>Analizer</td>\n",
       "      <td>Analizer</td>\n",
       "      <td>Github API</td>\n",
       "      <td>NaN</td>\n",
       "      <td>https://github.com/ShinShil/Analizer</td>\n",
       "      <td>https://github.com/ShinShil/</td>\n",
       "      <td>NaN</td>\n",
       "      <td>NaN</td>\n",
       "      <td>NaN</td>\n",
       "      <td>https://github.com/ShinShil/Analizer</td>\n",
       "      <td>NaN</td>\n",
       "      <td>True</td>\n",
       "      <td>None</td>\n",
       "      <td>None</td>\n",
       "      <td>None</td>\n",
       "    </tr>\n",
       "  </tbody>\n",
       "</table>\n",
       "</div>"
      ],
      "text/plain": [
       "              ID software_mention mapped_to      source platform  \\\n",
       "126059  SM480072         Analizer  Analizer  Github API      NaN   \n",
       "\n",
       "                                 package_url                   description  \\\n",
       "126059  https://github.com/ShinShil/Analizer  https://github.com/ShinShil/   \n",
       "\n",
       "       homepage_url other_urls license                           github_repo  \\\n",
       "126059          NaN        NaN     NaN  https://github.com/ShinShil/Analizer   \n",
       "\n",
       "       github_repo_license exact_match  RRID reference scicrunch_synonyms  \n",
       "126059                 NaN        True  None      None               None  "
      ]
     },
     "execution_count": 30,
     "metadata": {},
     "output_type": "execute_result"
    }
   ],
   "source": [
    "test_data"
   ]
  },
  {
   "cell_type": "code",
   "execution_count": 33,
   "metadata": {},
   "outputs": [],
   "source": [
    "test_user, test_repo_name = parse_github_repo_url(test_url)"
   ]
  },
  {
   "cell_type": "code",
   "execution_count": 34,
   "metadata": {},
   "outputs": [
    {
     "data": {
      "text/plain": [
       "{'id': 31628058,\n",
       " 'node_id': 'MDEwOlJlcG9zaXRvcnkzMTYyODA1OA==',\n",
       " 'name': 'Analizer',\n",
       " 'full_name': 'ShinShil/Analizer',\n",
       " 'private': False,\n",
       " 'owner': {'login': 'ShinShil',\n",
       "  'id': 11064696,\n",
       "  'node_id': 'MDQ6VXNlcjExMDY0Njk2',\n",
       "  'avatar_url': 'https://avatars.githubusercontent.com/u/11064696?v=4',\n",
       "  'gravatar_id': '',\n",
       "  'url': 'https://api.github.com/users/ShinShil',\n",
       "  'html_url': 'https://github.com/ShinShil',\n",
       "  'followers_url': 'https://api.github.com/users/ShinShil/followers',\n",
       "  'following_url': 'https://api.github.com/users/ShinShil/following{/other_user}',\n",
       "  'gists_url': 'https://api.github.com/users/ShinShil/gists{/gist_id}',\n",
       "  'starred_url': 'https://api.github.com/users/ShinShil/starred{/owner}{/repo}',\n",
       "  'subscriptions_url': 'https://api.github.com/users/ShinShil/subscriptions',\n",
       "  'organizations_url': 'https://api.github.com/users/ShinShil/orgs',\n",
       "  'repos_url': 'https://api.github.com/users/ShinShil/repos',\n",
       "  'events_url': 'https://api.github.com/users/ShinShil/events{/privacy}',\n",
       "  'received_events_url': 'https://api.github.com/users/ShinShil/received_events',\n",
       "  'type': 'User',\n",
       "  'site_admin': False},\n",
       " 'html_url': 'https://github.com/ShinShil/Analizer',\n",
       " 'description': 'https://github.com/ShinShil/',\n",
       " 'fork': False,\n",
       " 'url': 'https://api.github.com/repos/ShinShil/Analizer',\n",
       " 'forks_url': 'https://api.github.com/repos/ShinShil/Analizer/forks',\n",
       " 'keys_url': 'https://api.github.com/repos/ShinShil/Analizer/keys{/key_id}',\n",
       " 'collaborators_url': 'https://api.github.com/repos/ShinShil/Analizer/collaborators{/collaborator}',\n",
       " 'teams_url': 'https://api.github.com/repos/ShinShil/Analizer/teams',\n",
       " 'hooks_url': 'https://api.github.com/repos/ShinShil/Analizer/hooks',\n",
       " 'issue_events_url': 'https://api.github.com/repos/ShinShil/Analizer/issues/events{/number}',\n",
       " 'events_url': 'https://api.github.com/repos/ShinShil/Analizer/events',\n",
       " 'assignees_url': 'https://api.github.com/repos/ShinShil/Analizer/assignees{/user}',\n",
       " 'branches_url': 'https://api.github.com/repos/ShinShil/Analizer/branches{/branch}',\n",
       " 'tags_url': 'https://api.github.com/repos/ShinShil/Analizer/tags',\n",
       " 'blobs_url': 'https://api.github.com/repos/ShinShil/Analizer/git/blobs{/sha}',\n",
       " 'git_tags_url': 'https://api.github.com/repos/ShinShil/Analizer/git/tags{/sha}',\n",
       " 'git_refs_url': 'https://api.github.com/repos/ShinShil/Analizer/git/refs{/sha}',\n",
       " 'trees_url': 'https://api.github.com/repos/ShinShil/Analizer/git/trees{/sha}',\n",
       " 'statuses_url': 'https://api.github.com/repos/ShinShil/Analizer/statuses/{sha}',\n",
       " 'languages_url': 'https://api.github.com/repos/ShinShil/Analizer/languages',\n",
       " 'stargazers_url': 'https://api.github.com/repos/ShinShil/Analizer/stargazers',\n",
       " 'contributors_url': 'https://api.github.com/repos/ShinShil/Analizer/contributors',\n",
       " 'subscribers_url': 'https://api.github.com/repos/ShinShil/Analizer/subscribers',\n",
       " 'subscription_url': 'https://api.github.com/repos/ShinShil/Analizer/subscription',\n",
       " 'commits_url': 'https://api.github.com/repos/ShinShil/Analizer/commits{/sha}',\n",
       " 'git_commits_url': 'https://api.github.com/repos/ShinShil/Analizer/git/commits{/sha}',\n",
       " 'comments_url': 'https://api.github.com/repos/ShinShil/Analizer/comments{/number}',\n",
       " 'issue_comment_url': 'https://api.github.com/repos/ShinShil/Analizer/issues/comments{/number}',\n",
       " 'contents_url': 'https://api.github.com/repos/ShinShil/Analizer/contents/{+path}',\n",
       " 'compare_url': 'https://api.github.com/repos/ShinShil/Analizer/compare/{base}...{head}',\n",
       " 'merges_url': 'https://api.github.com/repos/ShinShil/Analizer/merges',\n",
       " 'archive_url': 'https://api.github.com/repos/ShinShil/Analizer/{archive_format}{/ref}',\n",
       " 'downloads_url': 'https://api.github.com/repos/ShinShil/Analizer/downloads',\n",
       " 'issues_url': 'https://api.github.com/repos/ShinShil/Analizer/issues{/number}',\n",
       " 'pulls_url': 'https://api.github.com/repos/ShinShil/Analizer/pulls{/number}',\n",
       " 'milestones_url': 'https://api.github.com/repos/ShinShil/Analizer/milestones{/number}',\n",
       " 'notifications_url': 'https://api.github.com/repos/ShinShil/Analizer/notifications{?since,all,participating}',\n",
       " 'labels_url': 'https://api.github.com/repos/ShinShil/Analizer/labels{/name}',\n",
       " 'releases_url': 'https://api.github.com/repos/ShinShil/Analizer/releases{/id}',\n",
       " 'deployments_url': 'https://api.github.com/repos/ShinShil/Analizer/deployments',\n",
       " 'created_at': '2015-03-03T23:53:33Z',\n",
       " 'updated_at': '2015-06-05T22:47:35Z',\n",
       " 'pushed_at': '2015-06-05T22:47:35Z',\n",
       " 'git_url': 'git://github.com/ShinShil/Analizer.git',\n",
       " 'ssh_url': 'git@github.com:ShinShil/Analizer.git',\n",
       " 'clone_url': 'https://github.com/ShinShil/Analizer.git',\n",
       " 'svn_url': 'https://github.com/ShinShil/Analizer',\n",
       " 'homepage': None,\n",
       " 'size': 896,\n",
       " 'stargazers_count': 0,\n",
       " 'watchers_count': 0,\n",
       " 'language': 'C',\n",
       " 'has_issues': True,\n",
       " 'has_projects': True,\n",
       " 'has_downloads': True,\n",
       " 'has_wiki': True,\n",
       " 'has_pages': False,\n",
       " 'has_discussions': False,\n",
       " 'forks_count': 2,\n",
       " 'mirror_url': None,\n",
       " 'archived': False,\n",
       " 'disabled': False,\n",
       " 'open_issues_count': 0,\n",
       " 'license': None,\n",
       " 'allow_forking': True,\n",
       " 'is_template': False,\n",
       " 'web_commit_signoff_required': False,\n",
       " 'topics': [],\n",
       " 'visibility': 'public',\n",
       " 'forks': 2,\n",
       " 'open_issues': 0,\n",
       " 'watchers': 0,\n",
       " 'default_branch': 'master',\n",
       " 'temp_clone_token': None,\n",
       " 'network_count': 2,\n",
       " 'subscribers_count': 3}"
      ]
     },
     "execution_count": 34,
     "metadata": {},
     "output_type": "execute_result"
    }
   ],
   "source": [
    "repo_data = requests.get(f'https://api.github.com/repos/{test_user}/{test_repo_name}').json()\n",
    "repo_data"
   ]
  },
  {
   "cell_type": "code",
   "execution_count": 39,
   "metadata": {},
   "outputs": [],
   "source": [
    "g = Github()\n",
    "test_repo = g.get_repo(f'{test_user}/{test_repo_name}')"
   ]
  },
  {
   "cell_type": "code",
   "execution_count": 54,
   "metadata": {},
   "outputs": [
    {
     "name": "stdout",
     "output_type": "stream",
     "text": [
      "NamedUser(login=\"ShinShil\")\n",
      "Contribution in week 2015-03-01 00:00:00: Additions 4, Deletions 0, Commits 1\n",
      "Contribution in week 2015-05-24 00:00:00: Additions 29, Deletions 0, Commits 1\n",
      "Contribution in week 2015-05-31 00:00:00: Additions 335, Deletions 0, Commits 1\n"
     ]
    }
   ],
   "source": [
    "for s in test_repo.get_stats_contributors():\n",
    "    print(s.author)\n",
    "    for w in s.weeks:\n",
    "        if w.a > 0 or w.d > 0 or w.c > 0:\n",
    "            print(f\"Contribution in week {w.w}: Additions {w.a}, Deletions {w.d}, Commits {w.c}\")\n"
   ]
  },
  {
   "attachments": {},
   "cell_type": "markdown",
   "metadata": {},
   "source": [
    "#### Apply on full dataset"
   ]
  },
  {
   "cell_type": "code",
   "execution_count": 9,
   "metadata": {},
   "outputs": [],
   "source": [
    "g = Github(access_token)"
   ]
  },
  {
   "cell_type": "code",
   "execution_count": 14,
   "metadata": {},
   "outputs": [],
   "source": [
    "# test purposes\n",
    "smaller_df = github_df.sample(20)"
   ]
  },
  {
   "attachments": {},
   "cell_type": "markdown",
   "metadata": {},
   "source": [
    "Repo crawling function: goes through all linked repos in the provided dataset. TODO: add a progressbar."
   ]
  },
  {
   "cell_type": "code",
   "execution_count": 58,
   "metadata": {},
   "outputs": [],
   "source": [
    "def crawl_repo(df):\n",
    "    \"\"\"For all github repositories in dataset, retrieve contributions, contents.\n",
    "\n",
    "    Args:\n",
    "        df (pd.DataFrame): CZI linked dataset with links to GitHub\n",
    "\n",
    "    Returns:\n",
    "        (pd.DataFrame, pd.DataFrame): one data frame holding info on contributions, one data frame holding info on licenses.\n",
    "            - contributions dataframe columns:\n",
    "                - github_repo: same as in CZI linked dataset\n",
    "                - author: contributor to repository\n",
    "                - year, week: determine the week of contributions in question\n",
    "                - commits: number of commits in that specific week\n",
    "            - license dataframe columns:\n",
    "                - github_repo: same as in CZI linked dataset\n",
    "                - license: license key if license was found (e.g. mit, lgpl-3.0, mpl-2.0, ... (https://docs.github.com/en/rest/licenses?apiVersion=2022-11-28#get-all-commonly-used-licenses))\n",
    "                - readme_size: size of README file, 0 if none was found\n",
    "    \"\"\"\n",
    "    contributions_df = pd.DataFrame(columns=['github_repo', 'author', 'year', 'week', 'commits'])\n",
    "    contents_df = pd.DataFrame(columns=['github_repo', 'license', 'readme_size'])\n",
    "    for u in df['github_repo']:\n",
    "        user, repo_name = parse_github_repo_url(u)\n",
    "        try:\n",
    "            repo = g.get_repo(f\"{user}/{repo_name}\")\n",
    "        except:\n",
    "            print(f\"Could not resolve repository for URL {u}.\")\n",
    "        contribution_stats = repo.get_stats_contributors()\n",
    "        if contribution_stats is not None:\n",
    "            for s in contribution_stats:\n",
    "                for w in s.weeks:\n",
    "                    contributions_df.loc[len(contributions_df)] = [u, s.author, w.w.year, w.w.isocalendar().week, w.c]\n",
    "        try:\n",
    "            license_file = repo.get_license()\n",
    "            license_entry = license_file.license.key\n",
    "        except:\n",
    "            license_entry = None\n",
    "        try:\n",
    "            readme = repo.get_readme()\n",
    "            readme_entry = readme.size\n",
    "        except:\n",
    "            readme_entry = 0\n",
    "        contents_df.loc[len(contents_df)] = [u, license_entry, readme_entry]\n",
    "    return contributions_df, contents_df"
   ]
  },
  {
   "cell_type": "code",
   "execution_count": 59,
   "metadata": {},
   "outputs": [
    {
     "name": "stdout",
     "output_type": "stream",
     "text": [
      "Could not resolve repository for URL https://github.com/cheukyin699/ProtParam.\n"
     ]
    },
    {
     "ename": "KeyboardInterrupt",
     "evalue": "",
     "output_type": "error",
     "traceback": [
      "\u001b[0;31m---------------------------------------------------------------------------\u001b[0m",
      "\u001b[0;31mKeyError\u001b[0m                                  Traceback (most recent call last)",
      "File \u001b[0;32m~/miniconda3/envs/sw_mentions/lib/python3.10/site-packages/pandas/core/indexes/base.py:3803\u001b[0m, in \u001b[0;36mIndex.get_loc\u001b[0;34m(self, key, method, tolerance)\u001b[0m\n\u001b[1;32m   3802\u001b[0m \u001b[39mtry\u001b[39;00m:\n\u001b[0;32m-> 3803\u001b[0m     \u001b[39mreturn\u001b[39;00m \u001b[39mself\u001b[39;49m\u001b[39m.\u001b[39;49m_engine\u001b[39m.\u001b[39;49mget_loc(casted_key)\n\u001b[1;32m   3804\u001b[0m \u001b[39mexcept\u001b[39;00m \u001b[39mKeyError\u001b[39;00m \u001b[39mas\u001b[39;00m err:\n",
      "File \u001b[0;32m~/miniconda3/envs/sw_mentions/lib/python3.10/site-packages/pandas/_libs/index.pyx:138\u001b[0m, in \u001b[0;36mpandas._libs.index.IndexEngine.get_loc\u001b[0;34m()\u001b[0m\n",
      "File \u001b[0;32m~/miniconda3/envs/sw_mentions/lib/python3.10/site-packages/pandas/_libs/index.pyx:165\u001b[0m, in \u001b[0;36mpandas._libs.index.IndexEngine.get_loc\u001b[0;34m()\u001b[0m\n",
      "File \u001b[0;32mpandas/_libs/hashtable_class_helper.pxi:2263\u001b[0m, in \u001b[0;36mpandas._libs.hashtable.Int64HashTable.get_item\u001b[0;34m()\u001b[0m\n",
      "File \u001b[0;32mpandas/_libs/hashtable_class_helper.pxi:2273\u001b[0m, in \u001b[0;36mpandas._libs.hashtable.Int64HashTable.get_item\u001b[0;34m()\u001b[0m\n",
      "\u001b[0;31mKeyError\u001b[0m: 954565",
      "\nDuring handling of the above exception, another exception occurred:\n",
      "\u001b[0;31mKeyboardInterrupt\u001b[0m                         Traceback (most recent call last)",
      "Cell \u001b[0;32mIn[59], line 1\u001b[0m\n\u001b[0;32m----> 1\u001b[0m contributions_df, contents_df \u001b[39m=\u001b[39m crawl_repo(github_df)\n",
      "Cell \u001b[0;32mIn[58], line 31\u001b[0m, in \u001b[0;36mcrawl_repo\u001b[0;34m(df)\u001b[0m\n\u001b[1;32m     29\u001b[0m     \u001b[39mfor\u001b[39;00m s \u001b[39min\u001b[39;00m contribution_stats:\n\u001b[1;32m     30\u001b[0m         \u001b[39mfor\u001b[39;00m w \u001b[39min\u001b[39;00m s\u001b[39m.\u001b[39mweeks:\n\u001b[0;32m---> 31\u001b[0m             contributions_df\u001b[39m.\u001b[39mloc[\u001b[39mlen\u001b[39m(contributions_df)] \u001b[39m=\u001b[39m [u, s\u001b[39m.\u001b[39mauthor, w\u001b[39m.\u001b[39mw\u001b[39m.\u001b[39myear, w\u001b[39m.\u001b[39mw\u001b[39m.\u001b[39misocalendar()\u001b[39m.\u001b[39mweek, w\u001b[39m.\u001b[39mc]\n\u001b[1;32m     32\u001b[0m \u001b[39mtry\u001b[39;00m:\n\u001b[1;32m     33\u001b[0m     license_file \u001b[39m=\u001b[39m repo\u001b[39m.\u001b[39mget_license()\n",
      "File \u001b[0;32m~/miniconda3/envs/sw_mentions/lib/python3.10/site-packages/pandas/core/indexing.py:814\u001b[0m, in \u001b[0;36m_LocationIndexer.__setitem__\u001b[0;34m(self, key, value)\u001b[0m\n\u001b[1;32m    812\u001b[0m \u001b[39melse\u001b[39;00m:\n\u001b[1;32m    813\u001b[0m     key \u001b[39m=\u001b[39m com\u001b[39m.\u001b[39mapply_if_callable(key, \u001b[39mself\u001b[39m\u001b[39m.\u001b[39mobj)\n\u001b[0;32m--> 814\u001b[0m indexer \u001b[39m=\u001b[39m \u001b[39mself\u001b[39;49m\u001b[39m.\u001b[39;49m_get_setitem_indexer(key)\n\u001b[1;32m    815\u001b[0m \u001b[39mself\u001b[39m\u001b[39m.\u001b[39m_has_valid_setitem_indexer(key)\n\u001b[1;32m    817\u001b[0m iloc \u001b[39m=\u001b[39m \u001b[39mself\u001b[39m \u001b[39mif\u001b[39;00m \u001b[39mself\u001b[39m\u001b[39m.\u001b[39mname \u001b[39m==\u001b[39m \u001b[39m\"\u001b[39m\u001b[39miloc\u001b[39m\u001b[39m\"\u001b[39m \u001b[39melse\u001b[39;00m \u001b[39mself\u001b[39m\u001b[39m.\u001b[39mobj\u001b[39m.\u001b[39miloc\n",
      "File \u001b[0;32m~/miniconda3/envs/sw_mentions/lib/python3.10/site-packages/pandas/core/indexing.py:703\u001b[0m, in \u001b[0;36m_LocationIndexer._get_setitem_indexer\u001b[0;34m(self, key)\u001b[0m\n\u001b[1;32m    699\u001b[0m \u001b[39mif\u001b[39;00m \u001b[39misinstance\u001b[39m(key, \u001b[39mrange\u001b[39m):\n\u001b[1;32m    700\u001b[0m     \u001b[39m# GH#45479 test_loc_setitem_range_key\u001b[39;00m\n\u001b[1;32m    701\u001b[0m     key \u001b[39m=\u001b[39m \u001b[39mlist\u001b[39m(key)\n\u001b[0;32m--> 703\u001b[0m \u001b[39mreturn\u001b[39;00m \u001b[39mself\u001b[39;49m\u001b[39m.\u001b[39;49m_convert_to_indexer(key, axis\u001b[39m=\u001b[39;49m\u001b[39m0\u001b[39;49m)\n",
      "File \u001b[0;32m~/miniconda3/envs/sw_mentions/lib/python3.10/site-packages/pandas/core/indexing.py:1366\u001b[0m, in \u001b[0;36m_LocIndexer._convert_to_indexer\u001b[0;34m(self, key, axis)\u001b[0m\n\u001b[1;32m   1361\u001b[0m \u001b[39mif\u001b[39;00m is_scalar(key) \u001b[39mor\u001b[39;00m (\u001b[39misinstance\u001b[39m(labels, MultiIndex) \u001b[39mand\u001b[39;00m is_hashable(key)):\n\u001b[1;32m   1362\u001b[0m     \u001b[39m# Otherwise get_loc will raise InvalidIndexError\u001b[39;00m\n\u001b[1;32m   1363\u001b[0m \n\u001b[1;32m   1364\u001b[0m     \u001b[39m# if we are a label return me\u001b[39;00m\n\u001b[1;32m   1365\u001b[0m     \u001b[39mtry\u001b[39;00m:\n\u001b[0;32m-> 1366\u001b[0m         \u001b[39mreturn\u001b[39;00m labels\u001b[39m.\u001b[39;49mget_loc(key)\n\u001b[1;32m   1367\u001b[0m     \u001b[39mexcept\u001b[39;00m \u001b[39mLookupError\u001b[39;00m:\n\u001b[1;32m   1368\u001b[0m         \u001b[39mif\u001b[39;00m \u001b[39misinstance\u001b[39m(key, \u001b[39mtuple\u001b[39m) \u001b[39mand\u001b[39;00m \u001b[39misinstance\u001b[39m(labels, MultiIndex):\n",
      "File \u001b[0;32m~/miniconda3/envs/sw_mentions/lib/python3.10/site-packages/pandas/core/indexes/base.py:3803\u001b[0m, in \u001b[0;36mIndex.get_loc\u001b[0;34m(self, key, method, tolerance)\u001b[0m\n\u001b[1;32m   3801\u001b[0m casted_key \u001b[39m=\u001b[39m \u001b[39mself\u001b[39m\u001b[39m.\u001b[39m_maybe_cast_indexer(key)\n\u001b[1;32m   3802\u001b[0m \u001b[39mtry\u001b[39;00m:\n\u001b[0;32m-> 3803\u001b[0m     \u001b[39mreturn\u001b[39;00m \u001b[39mself\u001b[39;49m\u001b[39m.\u001b[39;49m_engine\u001b[39m.\u001b[39;49mget_loc(casted_key)\n\u001b[1;32m   3804\u001b[0m \u001b[39mexcept\u001b[39;00m \u001b[39mKeyError\u001b[39;00m \u001b[39mas\u001b[39;00m err:\n\u001b[1;32m   3805\u001b[0m     \u001b[39mraise\u001b[39;00m \u001b[39mKeyError\u001b[39;00m(key) \u001b[39mfrom\u001b[39;00m \u001b[39merr\u001b[39;00m\n",
      "\u001b[0;31mKeyboardInterrupt\u001b[0m: "
     ]
    }
   ],
   "source": [
    "contributions_df, contents_df = crawl_repo(github_df)"
   ]
  },
  {
   "cell_type": "code",
   "execution_count": null,
   "metadata": {},
   "outputs": [],
   "source": [
    "contributions_df.to_csv(ROOT_DATA_DIR + 'linked/contributions.tsv.gz', sep = '\\\\t', engine = 'python', compression = 'gzip')\n",
    "contents_df.to_csv(ROOT_DATA_DIR + 'linked/contents.tsv.gz', sep = '\\\\t', engine = 'python', compression = 'gzip')"
   ]
  },
  {
   "cell_type": "code",
   "execution_count": null,
   "metadata": {},
   "outputs": [],
   "source": [
    "# play with this\n",
    "# repo.get_dir_contents()  # might need a path"
   ]
  }
 ],
 "metadata": {
  "kernelspec": {
   "display_name": "sw_mentions",
   "language": "python",
   "name": "python3"
  },
  "language_info": {
   "codemirror_mode": {
    "name": "ipython",
    "version": 3
   },
   "file_extension": ".py",
   "mimetype": "text/x-python",
   "name": "python",
   "nbconvert_exporter": "python",
   "pygments_lexer": "ipython3",
   "version": "3.10.9"
  },
  "orig_nbformat": 4,
  "vscode": {
   "interpreter": {
    "hash": "3f8c870306affaf32e3b88bbbdaf30b4cc7f0b6023c44e1b700a541afb908dd5"
   }
  }
 },
 "nbformat": 4,
 "nbformat_minor": 2
}
